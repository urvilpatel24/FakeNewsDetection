{
  "nbformat": 4,
  "nbformat_minor": 0,
  "metadata": {
    "colab": {
      "name": "Fake News Detection.ipynb",
      "provenance": [],
      "collapsed_sections": [],
      "include_colab_link": true
    },
    "kernelspec": {
      "name": "python3",
      "display_name": "Python 3"
    },
    "language_info": {
      "name": "python"
    }
  },
  "cells": [
    {
      "cell_type": "markdown",
      "metadata": {
        "id": "view-in-github",
        "colab_type": "text"
      },
      "source": [
        "<a href=\"https://colab.research.google.com/github/dharace/Fake-News-Detection/blob/main/Fake_News_Detection.ipynb\" target=\"_parent\"><img src=\"https://colab.research.google.com/assets/colab-badge.svg\" alt=\"Open In Colab\"/></a>"
      ]
    },
    {
      "cell_type": "code",
      "execution_count": 95,
      "metadata": {
        "id": "He4udPPc5JTh",
        "colab": {
          "base_uri": "https://localhost:8080/"
        },
        "outputId": "6d83bcbf-6f30-476c-b977-cf72da2281b3"
      },
      "outputs": [
        {
          "output_type": "stream",
          "name": "stdout",
          "text": [
            "Requirement already satisfied: scikit-learn in /usr/local/lib/python3.7/dist-packages (1.0.2)\n",
            "Requirement already satisfied: joblib>=0.11 in /usr/local/lib/python3.7/dist-packages (from scikit-learn) (1.1.0)\n",
            "Requirement already satisfied: scipy>=1.1.0 in /usr/local/lib/python3.7/dist-packages (from scikit-learn) (1.4.1)\n",
            "Requirement already satisfied: numpy>=1.14.6 in /usr/local/lib/python3.7/dist-packages (from scikit-learn) (1.21.5)\n",
            "Requirement already satisfied: threadpoolctl>=2.0.0 in /usr/local/lib/python3.7/dist-packages (from scikit-learn) (3.1.0)\n",
            "Requirement already satisfied: numpy in /usr/local/lib/python3.7/dist-packages (1.21.5)\n",
            "Requirement already satisfied: scipy in /usr/local/lib/python3.7/dist-packages (1.4.1)\n",
            "Requirement already satisfied: numpy>=1.13.3 in /usr/local/lib/python3.7/dist-packages (from scipy) (1.21.5)\n",
            "Drive already mounted at /content/drive; to attempt to forcibly remount, call drive.mount(\"/content/drive\", force_remount=True).\n"
          ]
        }
      ],
      "source": [
        "# -*- coding: utf-8 -*-\n",
        "\n",
        "\"\"\"\n",
        "@author: Dhara & Avi\n",
        "\"\"\"\n",
        "\n",
        "!pip install -U scikit-learn\n",
        "!pip install numpy\n",
        "!pip install scipy\n",
        "# !pip3 install -U scikit-learn scipy matplotlib\n",
        "\n",
        "# !pip install sklearn\n",
        "\n",
        "import warnings\n",
        "warnings.filterwarnings('ignore')\n",
        "\n",
        "import sklearn\n",
        "\n",
        "#import os\n",
        "import pandas as pd\n",
        "import csv\n",
        "import numpy as np\n",
        "import nltk\n",
        "import nltk.corpus \n",
        "from nltk.stem import SnowballStemmer\n",
        "from nltk.stem.porter import PorterStemmer\n",
        "from nltk.tokenize import word_tokenize\n",
        "import seaborn as sb\n",
        "\n",
        "from sklearn.feature_extraction.text import CountVectorizer\n",
        "from sklearn.feature_extraction.text import TfidfTransformer\n",
        "from sklearn.feature_extraction.text import TfidfVectorizer\n",
        "from sklearn.pipeline import Pipeline\n",
        "from sklearn.naive_bayes import MultinomialNB\n",
        "from sklearn.linear_model import  LogisticRegression\n",
        "from sklearn.linear_model import SGDClassifier\n",
        "from sklearn import svm\n",
        "from sklearn.svm import SVC\n",
        "from sklearn.ensemble import RandomForestClassifier\n",
        "from sklearn.model_selection import KFold\n",
        "from sklearn.metrics import confusion_matrix, f1_score, classification_report\n",
        "from sklearn.model_selection import GridSearchCV\n",
        "\n",
        "import matplotlib.pyplot as plt\n",
        "from sklearn.model_selection import learning_curve\n",
        "\n",
        "from sklearn.metrics import precision_recall_curve\n",
        "from sklearn.metrics import average_precision_score\n",
        "from sklearn.metrics import classification_report\n",
        "\n",
        "from gensim.models.word2vec import Word2Vec\n",
        "import pickle\n",
        "import itertools\n",
        "\n",
        "from google.colab import drive\n",
        "drive.mount('/content/drive')"
      ]
    },
    {
      "cell_type": "code",
      "source": [
        "#before reading the files, setup the working directory to point to project repo\n",
        "#reading data files \n",
        "\n",
        "test_filename = '/content/drive/MyDrive/Fake News Detection/test.csv'\n",
        "train_filename = '/content/drive/MyDrive/Fake News Detection/train.csv'\n",
        "valid_filename = '/content/drive/MyDrive/Fake News Detection/valid.csv'\n",
        "\n",
        "train_news = pd.read_csv(train_filename)\n",
        "test_news = pd.read_csv(test_filename)\n",
        "valid_news = pd.read_csv(valid_filename)\n",
        "\n",
        "nltk.download('treebank')\n",
        "nltk.download('stopwords')\n"
      ],
      "metadata": {
        "id": "nt1EBYHOk0I0",
        "colab": {
          "base_uri": "https://localhost:8080/"
        },
        "outputId": "69f0216c-3f5c-48c2-e4f7-4ae2dced1893"
      },
      "execution_count": 81,
      "outputs": [
        {
          "output_type": "stream",
          "name": "stdout",
          "text": [
            "[nltk_data] Downloading package treebank to /root/nltk_data...\n",
            "[nltk_data]   Package treebank is already up-to-date!\n",
            "[nltk_data] Downloading package stopwords to /root/nltk_data...\n",
            "[nltk_data]   Package stopwords is already up-to-date!\n"
          ]
        },
        {
          "output_type": "execute_result",
          "data": {
            "text/plain": [
              "True"
            ]
          },
          "metadata": {},
          "execution_count": 81
        }
      ]
    },
    {
      "cell_type": "code",
      "source": [
        "train_news.head(5)"
      ],
      "metadata": {
        "colab": {
          "base_uri": "https://localhost:8080/",
          "height": 206
        },
        "id": "o6lVwea8DRzT",
        "outputId": "4815feff-4f52-46b1-cd27-60260cb82866"
      },
      "execution_count": 89,
      "outputs": [
        {
          "output_type": "execute_result",
          "data": {
            "text/plain": [
              "                                           Statement  Label\n",
              "0  Says the Annies List political group supports ...  False\n",
              "1  When did the decline of coal start? It started...   True\n",
              "2  Hillary Clinton agrees with John McCain \"by vo...   True\n",
              "3  Health care reform legislation is likely to ma...  False\n",
              "4  The economic turnaround started at the end of ...   True"
            ],
            "text/html": [
              "\n",
              "  <div id=\"df-9fc0475e-20db-4c6c-ad08-dd0cf9488d09\">\n",
              "    <div class=\"colab-df-container\">\n",
              "      <div>\n",
              "<style scoped>\n",
              "    .dataframe tbody tr th:only-of-type {\n",
              "        vertical-align: middle;\n",
              "    }\n",
              "\n",
              "    .dataframe tbody tr th {\n",
              "        vertical-align: top;\n",
              "    }\n",
              "\n",
              "    .dataframe thead th {\n",
              "        text-align: right;\n",
              "    }\n",
              "</style>\n",
              "<table border=\"1\" class=\"dataframe\">\n",
              "  <thead>\n",
              "    <tr style=\"text-align: right;\">\n",
              "      <th></th>\n",
              "      <th>Statement</th>\n",
              "      <th>Label</th>\n",
              "    </tr>\n",
              "  </thead>\n",
              "  <tbody>\n",
              "    <tr>\n",
              "      <th>0</th>\n",
              "      <td>Says the Annies List political group supports ...</td>\n",
              "      <td>False</td>\n",
              "    </tr>\n",
              "    <tr>\n",
              "      <th>1</th>\n",
              "      <td>When did the decline of coal start? It started...</td>\n",
              "      <td>True</td>\n",
              "    </tr>\n",
              "    <tr>\n",
              "      <th>2</th>\n",
              "      <td>Hillary Clinton agrees with John McCain \"by vo...</td>\n",
              "      <td>True</td>\n",
              "    </tr>\n",
              "    <tr>\n",
              "      <th>3</th>\n",
              "      <td>Health care reform legislation is likely to ma...</td>\n",
              "      <td>False</td>\n",
              "    </tr>\n",
              "    <tr>\n",
              "      <th>4</th>\n",
              "      <td>The economic turnaround started at the end of ...</td>\n",
              "      <td>True</td>\n",
              "    </tr>\n",
              "  </tbody>\n",
              "</table>\n",
              "</div>\n",
              "      <button class=\"colab-df-convert\" onclick=\"convertToInteractive('df-9fc0475e-20db-4c6c-ad08-dd0cf9488d09')\"\n",
              "              title=\"Convert this dataframe to an interactive table.\"\n",
              "              style=\"display:none;\">\n",
              "        \n",
              "  <svg xmlns=\"http://www.w3.org/2000/svg\" height=\"24px\"viewBox=\"0 0 24 24\"\n",
              "       width=\"24px\">\n",
              "    <path d=\"M0 0h24v24H0V0z\" fill=\"none\"/>\n",
              "    <path d=\"M18.56 5.44l.94 2.06.94-2.06 2.06-.94-2.06-.94-.94-2.06-.94 2.06-2.06.94zm-11 1L8.5 8.5l.94-2.06 2.06-.94-2.06-.94L8.5 2.5l-.94 2.06-2.06.94zm10 10l.94 2.06.94-2.06 2.06-.94-2.06-.94-.94-2.06-.94 2.06-2.06.94z\"/><path d=\"M17.41 7.96l-1.37-1.37c-.4-.4-.92-.59-1.43-.59-.52 0-1.04.2-1.43.59L10.3 9.45l-7.72 7.72c-.78.78-.78 2.05 0 2.83L4 21.41c.39.39.9.59 1.41.59.51 0 1.02-.2 1.41-.59l7.78-7.78 2.81-2.81c.8-.78.8-2.07 0-2.86zM5.41 20L4 18.59l7.72-7.72 1.47 1.35L5.41 20z\"/>\n",
              "  </svg>\n",
              "      </button>\n",
              "      \n",
              "  <style>\n",
              "    .colab-df-container {\n",
              "      display:flex;\n",
              "      flex-wrap:wrap;\n",
              "      gap: 12px;\n",
              "    }\n",
              "\n",
              "    .colab-df-convert {\n",
              "      background-color: #E8F0FE;\n",
              "      border: none;\n",
              "      border-radius: 50%;\n",
              "      cursor: pointer;\n",
              "      display: none;\n",
              "      fill: #1967D2;\n",
              "      height: 32px;\n",
              "      padding: 0 0 0 0;\n",
              "      width: 32px;\n",
              "    }\n",
              "\n",
              "    .colab-df-convert:hover {\n",
              "      background-color: #E2EBFA;\n",
              "      box-shadow: 0px 1px 2px rgba(60, 64, 67, 0.3), 0px 1px 3px 1px rgba(60, 64, 67, 0.15);\n",
              "      fill: #174EA6;\n",
              "    }\n",
              "\n",
              "    [theme=dark] .colab-df-convert {\n",
              "      background-color: #3B4455;\n",
              "      fill: #D2E3FC;\n",
              "    }\n",
              "\n",
              "    [theme=dark] .colab-df-convert:hover {\n",
              "      background-color: #434B5C;\n",
              "      box-shadow: 0px 1px 3px 1px rgba(0, 0, 0, 0.15);\n",
              "      filter: drop-shadow(0px 1px 2px rgba(0, 0, 0, 0.3));\n",
              "      fill: #FFFFFF;\n",
              "    }\n",
              "  </style>\n",
              "\n",
              "      <script>\n",
              "        const buttonEl =\n",
              "          document.querySelector('#df-9fc0475e-20db-4c6c-ad08-dd0cf9488d09 button.colab-df-convert');\n",
              "        buttonEl.style.display =\n",
              "          google.colab.kernel.accessAllowed ? 'block' : 'none';\n",
              "\n",
              "        async function convertToInteractive(key) {\n",
              "          const element = document.querySelector('#df-9fc0475e-20db-4c6c-ad08-dd0cf9488d09');\n",
              "          const dataTable =\n",
              "            await google.colab.kernel.invokeFunction('convertToInteractive',\n",
              "                                                     [key], {});\n",
              "          if (!dataTable) return;\n",
              "\n",
              "          const docLinkHtml = 'Like what you see? Visit the ' +\n",
              "            '<a target=\"_blank\" href=https://colab.research.google.com/notebooks/data_table.ipynb>data table notebook</a>'\n",
              "            + ' to learn more about interactive tables.';\n",
              "          element.innerHTML = '';\n",
              "          dataTable['output_type'] = 'display_data';\n",
              "          await google.colab.output.renderOutput(dataTable, element);\n",
              "          const docLink = document.createElement('div');\n",
              "          docLink.innerHTML = docLinkHtml;\n",
              "          element.appendChild(docLink);\n",
              "        }\n",
              "      </script>\n",
              "    </div>\n",
              "  </div>\n",
              "  "
            ]
          },
          "metadata": {},
          "execution_count": 89
        }
      ]
    },
    {
      "cell_type": "code",
      "source": [
        "test_news.head(5)"
      ],
      "metadata": {
        "colab": {
          "base_uri": "https://localhost:8080/",
          "height": 206
        },
        "id": "3nMqkkGPC2Zy",
        "outputId": "297f9bc8-29b2-4615-dfdb-9a1e72fc11cb"
      },
      "execution_count": 88,
      "outputs": [
        {
          "output_type": "execute_result",
          "data": {
            "text/plain": [
              "                                           Statement  Label\n",
              "0  Building a wall on the U.S.-Mexico border will...   True\n",
              "1  Wisconsin is on pace to double the number of l...  False\n",
              "2  Says John McCain has done nothing to help the ...  False\n",
              "3  Suzanne Bonamici supports a plan that will cut...   True\n",
              "4  When asked by a reporter whether hes at the ce...  False"
            ],
            "text/html": [
              "\n",
              "  <div id=\"df-c041f0ce-fa2e-461c-bbe3-6123f91132fd\">\n",
              "    <div class=\"colab-df-container\">\n",
              "      <div>\n",
              "<style scoped>\n",
              "    .dataframe tbody tr th:only-of-type {\n",
              "        vertical-align: middle;\n",
              "    }\n",
              "\n",
              "    .dataframe tbody tr th {\n",
              "        vertical-align: top;\n",
              "    }\n",
              "\n",
              "    .dataframe thead th {\n",
              "        text-align: right;\n",
              "    }\n",
              "</style>\n",
              "<table border=\"1\" class=\"dataframe\">\n",
              "  <thead>\n",
              "    <tr style=\"text-align: right;\">\n",
              "      <th></th>\n",
              "      <th>Statement</th>\n",
              "      <th>Label</th>\n",
              "    </tr>\n",
              "  </thead>\n",
              "  <tbody>\n",
              "    <tr>\n",
              "      <th>0</th>\n",
              "      <td>Building a wall on the U.S.-Mexico border will...</td>\n",
              "      <td>True</td>\n",
              "    </tr>\n",
              "    <tr>\n",
              "      <th>1</th>\n",
              "      <td>Wisconsin is on pace to double the number of l...</td>\n",
              "      <td>False</td>\n",
              "    </tr>\n",
              "    <tr>\n",
              "      <th>2</th>\n",
              "      <td>Says John McCain has done nothing to help the ...</td>\n",
              "      <td>False</td>\n",
              "    </tr>\n",
              "    <tr>\n",
              "      <th>3</th>\n",
              "      <td>Suzanne Bonamici supports a plan that will cut...</td>\n",
              "      <td>True</td>\n",
              "    </tr>\n",
              "    <tr>\n",
              "      <th>4</th>\n",
              "      <td>When asked by a reporter whether hes at the ce...</td>\n",
              "      <td>False</td>\n",
              "    </tr>\n",
              "  </tbody>\n",
              "</table>\n",
              "</div>\n",
              "      <button class=\"colab-df-convert\" onclick=\"convertToInteractive('df-c041f0ce-fa2e-461c-bbe3-6123f91132fd')\"\n",
              "              title=\"Convert this dataframe to an interactive table.\"\n",
              "              style=\"display:none;\">\n",
              "        \n",
              "  <svg xmlns=\"http://www.w3.org/2000/svg\" height=\"24px\"viewBox=\"0 0 24 24\"\n",
              "       width=\"24px\">\n",
              "    <path d=\"M0 0h24v24H0V0z\" fill=\"none\"/>\n",
              "    <path d=\"M18.56 5.44l.94 2.06.94-2.06 2.06-.94-2.06-.94-.94-2.06-.94 2.06-2.06.94zm-11 1L8.5 8.5l.94-2.06 2.06-.94-2.06-.94L8.5 2.5l-.94 2.06-2.06.94zm10 10l.94 2.06.94-2.06 2.06-.94-2.06-.94-.94-2.06-.94 2.06-2.06.94z\"/><path d=\"M17.41 7.96l-1.37-1.37c-.4-.4-.92-.59-1.43-.59-.52 0-1.04.2-1.43.59L10.3 9.45l-7.72 7.72c-.78.78-.78 2.05 0 2.83L4 21.41c.39.39.9.59 1.41.59.51 0 1.02-.2 1.41-.59l7.78-7.78 2.81-2.81c.8-.78.8-2.07 0-2.86zM5.41 20L4 18.59l7.72-7.72 1.47 1.35L5.41 20z\"/>\n",
              "  </svg>\n",
              "      </button>\n",
              "      \n",
              "  <style>\n",
              "    .colab-df-container {\n",
              "      display:flex;\n",
              "      flex-wrap:wrap;\n",
              "      gap: 12px;\n",
              "    }\n",
              "\n",
              "    .colab-df-convert {\n",
              "      background-color: #E8F0FE;\n",
              "      border: none;\n",
              "      border-radius: 50%;\n",
              "      cursor: pointer;\n",
              "      display: none;\n",
              "      fill: #1967D2;\n",
              "      height: 32px;\n",
              "      padding: 0 0 0 0;\n",
              "      width: 32px;\n",
              "    }\n",
              "\n",
              "    .colab-df-convert:hover {\n",
              "      background-color: #E2EBFA;\n",
              "      box-shadow: 0px 1px 2px rgba(60, 64, 67, 0.3), 0px 1px 3px 1px rgba(60, 64, 67, 0.15);\n",
              "      fill: #174EA6;\n",
              "    }\n",
              "\n",
              "    [theme=dark] .colab-df-convert {\n",
              "      background-color: #3B4455;\n",
              "      fill: #D2E3FC;\n",
              "    }\n",
              "\n",
              "    [theme=dark] .colab-df-convert:hover {\n",
              "      background-color: #434B5C;\n",
              "      box-shadow: 0px 1px 3px 1px rgba(0, 0, 0, 0.15);\n",
              "      filter: drop-shadow(0px 1px 2px rgba(0, 0, 0, 0.3));\n",
              "      fill: #FFFFFF;\n",
              "    }\n",
              "  </style>\n",
              "\n",
              "      <script>\n",
              "        const buttonEl =\n",
              "          document.querySelector('#df-c041f0ce-fa2e-461c-bbe3-6123f91132fd button.colab-df-convert');\n",
              "        buttonEl.style.display =\n",
              "          google.colab.kernel.accessAllowed ? 'block' : 'none';\n",
              "\n",
              "        async function convertToInteractive(key) {\n",
              "          const element = document.querySelector('#df-c041f0ce-fa2e-461c-bbe3-6123f91132fd');\n",
              "          const dataTable =\n",
              "            await google.colab.kernel.invokeFunction('convertToInteractive',\n",
              "                                                     [key], {});\n",
              "          if (!dataTable) return;\n",
              "\n",
              "          const docLinkHtml = 'Like what you see? Visit the ' +\n",
              "            '<a target=\"_blank\" href=https://colab.research.google.com/notebooks/data_table.ipynb>data table notebook</a>'\n",
              "            + ' to learn more about interactive tables.';\n",
              "          element.innerHTML = '';\n",
              "          dataTable['output_type'] = 'display_data';\n",
              "          await google.colab.output.renderOutput(dataTable, element);\n",
              "          const docLink = document.createElement('div');\n",
              "          docLink.innerHTML = docLinkHtml;\n",
              "          element.appendChild(docLink);\n",
              "        }\n",
              "      </script>\n",
              "    </div>\n",
              "  </div>\n",
              "  "
            ]
          },
          "metadata": {},
          "execution_count": 88
        }
      ]
    },
    {
      "cell_type": "code",
      "source": [
        "valid_news.head(5)"
      ],
      "metadata": {
        "colab": {
          "base_uri": "https://localhost:8080/",
          "height": 206
        },
        "id": "uLkkp7uRDKfX",
        "outputId": "4879605b-3ace-4e3f-fb96-7959beb3fa1b"
      },
      "execution_count": 87,
      "outputs": [
        {
          "output_type": "execute_result",
          "data": {
            "text/plain": [
              "                                           Statement  Label\n",
              "0  We have less Americans working now than in the...  FALSE\n",
              "1  When Obama was sworn into office, he DID NOT u...  FALSE\n",
              "2  Says Having organizations parading as being so...  FALSE\n",
              "3     Says nearly half of Oregons children are poor.   TRUE\n",
              "4  On attacks by Republicans that various program...   TRUE"
            ],
            "text/html": [
              "\n",
              "  <div id=\"df-026ba240-56af-42e4-9447-53a1bf66926d\">\n",
              "    <div class=\"colab-df-container\">\n",
              "      <div>\n",
              "<style scoped>\n",
              "    .dataframe tbody tr th:only-of-type {\n",
              "        vertical-align: middle;\n",
              "    }\n",
              "\n",
              "    .dataframe tbody tr th {\n",
              "        vertical-align: top;\n",
              "    }\n",
              "\n",
              "    .dataframe thead th {\n",
              "        text-align: right;\n",
              "    }\n",
              "</style>\n",
              "<table border=\"1\" class=\"dataframe\">\n",
              "  <thead>\n",
              "    <tr style=\"text-align: right;\">\n",
              "      <th></th>\n",
              "      <th>Statement</th>\n",
              "      <th>Label</th>\n",
              "    </tr>\n",
              "  </thead>\n",
              "  <tbody>\n",
              "    <tr>\n",
              "      <th>0</th>\n",
              "      <td>We have less Americans working now than in the...</td>\n",
              "      <td>FALSE</td>\n",
              "    </tr>\n",
              "    <tr>\n",
              "      <th>1</th>\n",
              "      <td>When Obama was sworn into office, he DID NOT u...</td>\n",
              "      <td>FALSE</td>\n",
              "    </tr>\n",
              "    <tr>\n",
              "      <th>2</th>\n",
              "      <td>Says Having organizations parading as being so...</td>\n",
              "      <td>FALSE</td>\n",
              "    </tr>\n",
              "    <tr>\n",
              "      <th>3</th>\n",
              "      <td>Says nearly half of Oregons children are poor.</td>\n",
              "      <td>TRUE</td>\n",
              "    </tr>\n",
              "    <tr>\n",
              "      <th>4</th>\n",
              "      <td>On attacks by Republicans that various program...</td>\n",
              "      <td>TRUE</td>\n",
              "    </tr>\n",
              "  </tbody>\n",
              "</table>\n",
              "</div>\n",
              "      <button class=\"colab-df-convert\" onclick=\"convertToInteractive('df-026ba240-56af-42e4-9447-53a1bf66926d')\"\n",
              "              title=\"Convert this dataframe to an interactive table.\"\n",
              "              style=\"display:none;\">\n",
              "        \n",
              "  <svg xmlns=\"http://www.w3.org/2000/svg\" height=\"24px\"viewBox=\"0 0 24 24\"\n",
              "       width=\"24px\">\n",
              "    <path d=\"M0 0h24v24H0V0z\" fill=\"none\"/>\n",
              "    <path d=\"M18.56 5.44l.94 2.06.94-2.06 2.06-.94-2.06-.94-.94-2.06-.94 2.06-2.06.94zm-11 1L8.5 8.5l.94-2.06 2.06-.94-2.06-.94L8.5 2.5l-.94 2.06-2.06.94zm10 10l.94 2.06.94-2.06 2.06-.94-2.06-.94-.94-2.06-.94 2.06-2.06.94z\"/><path d=\"M17.41 7.96l-1.37-1.37c-.4-.4-.92-.59-1.43-.59-.52 0-1.04.2-1.43.59L10.3 9.45l-7.72 7.72c-.78.78-.78 2.05 0 2.83L4 21.41c.39.39.9.59 1.41.59.51 0 1.02-.2 1.41-.59l7.78-7.78 2.81-2.81c.8-.78.8-2.07 0-2.86zM5.41 20L4 18.59l7.72-7.72 1.47 1.35L5.41 20z\"/>\n",
              "  </svg>\n",
              "      </button>\n",
              "      \n",
              "  <style>\n",
              "    .colab-df-container {\n",
              "      display:flex;\n",
              "      flex-wrap:wrap;\n",
              "      gap: 12px;\n",
              "    }\n",
              "\n",
              "    .colab-df-convert {\n",
              "      background-color: #E8F0FE;\n",
              "      border: none;\n",
              "      border-radius: 50%;\n",
              "      cursor: pointer;\n",
              "      display: none;\n",
              "      fill: #1967D2;\n",
              "      height: 32px;\n",
              "      padding: 0 0 0 0;\n",
              "      width: 32px;\n",
              "    }\n",
              "\n",
              "    .colab-df-convert:hover {\n",
              "      background-color: #E2EBFA;\n",
              "      box-shadow: 0px 1px 2px rgba(60, 64, 67, 0.3), 0px 1px 3px 1px rgba(60, 64, 67, 0.15);\n",
              "      fill: #174EA6;\n",
              "    }\n",
              "\n",
              "    [theme=dark] .colab-df-convert {\n",
              "      background-color: #3B4455;\n",
              "      fill: #D2E3FC;\n",
              "    }\n",
              "\n",
              "    [theme=dark] .colab-df-convert:hover {\n",
              "      background-color: #434B5C;\n",
              "      box-shadow: 0px 1px 3px 1px rgba(0, 0, 0, 0.15);\n",
              "      filter: drop-shadow(0px 1px 2px rgba(0, 0, 0, 0.3));\n",
              "      fill: #FFFFFF;\n",
              "    }\n",
              "  </style>\n",
              "\n",
              "      <script>\n",
              "        const buttonEl =\n",
              "          document.querySelector('#df-026ba240-56af-42e4-9447-53a1bf66926d button.colab-df-convert');\n",
              "        buttonEl.style.display =\n",
              "          google.colab.kernel.accessAllowed ? 'block' : 'none';\n",
              "\n",
              "        async function convertToInteractive(key) {\n",
              "          const element = document.querySelector('#df-026ba240-56af-42e4-9447-53a1bf66926d');\n",
              "          const dataTable =\n",
              "            await google.colab.kernel.invokeFunction('convertToInteractive',\n",
              "                                                     [key], {});\n",
              "          if (!dataTable) return;\n",
              "\n",
              "          const docLinkHtml = 'Like what you see? Visit the ' +\n",
              "            '<a target=\"_blank\" href=https://colab.research.google.com/notebooks/data_table.ipynb>data table notebook</a>'\n",
              "            + ' to learn more about interactive tables.';\n",
              "          element.innerHTML = '';\n",
              "          dataTable['output_type'] = 'display_data';\n",
              "          await google.colab.output.renderOutput(dataTable, element);\n",
              "          const docLink = document.createElement('div');\n",
              "          docLink.innerHTML = docLinkHtml;\n",
              "          element.appendChild(docLink);\n",
              "        }\n",
              "      </script>\n",
              "    </div>\n",
              "  </div>\n",
              "  "
            ]
          },
          "metadata": {},
          "execution_count": 87
        }
      ]
    },
    {
      "cell_type": "code",
      "source": [
        "#data observation\n",
        "def data_obs():\n",
        "  print(\"training dataset size:\")\n",
        "  print(train_news.shape)\n",
        "  print(train_news.head(10))\n",
        "\n",
        "#below dataset were used for testing and validation purposes\n",
        "  print(test_news.shape)\n",
        "  print(test_news.head(10))\n",
        "    \n",
        "  print(valid_news.shape)\n",
        "  print(valid_news.head(10))"
      ],
      "metadata": {
        "id": "K1Vn0gi56vNg"
      },
      "execution_count": 3,
      "outputs": []
    },
    {
      "cell_type": "code",
      "source": [
        "#check the data by calling below function\n",
        "#data_obs()\n",
        "\n",
        "#distribution of classes for prediction\n",
        "def create_distribution(dataFile):\n",
        "    return sb.countplot(x='Label', data=dataFile, palette='hls')\n",
        "    \n",
        "\n",
        "#by calling below we can see that training, test and valid data seems to be failry evenly distributed between the classes\n",
        "create_distribution(train_news)"
      ],
      "metadata": {
        "id": "0hhN85htlUsg",
        "colab": {
          "base_uri": "https://localhost:8080/",
          "height": 299
        },
        "outputId": "ea580218-14f6-404f-9c81-89651e3de488"
      },
      "execution_count": 90,
      "outputs": [
        {
          "output_type": "execute_result",
          "data": {
            "text/plain": [
              "<matplotlib.axes._subplots.AxesSubplot at 0x7fa3b43c8b50>"
            ]
          },
          "metadata": {},
          "execution_count": 90
        },
        {
          "output_type": "display_data",
          "data": {
            "text/plain": [
              "<Figure size 432x288 with 1 Axes>"
            ],
            "image/png": "[encoded data removed]"
          },
          "metadata": {
            "needs_background": "light"
          }
        }
      ]
    },
    {
      "cell_type": "code",
      "source": [
        "create_distribution(test_news)"
      ],
      "metadata": {
        "colab": {
          "base_uri": "https://localhost:8080/",
          "height": 296
        },
        "id": "3mbJwOCUDgQ0",
        "outputId": "21423f18-1fe0-464c-afb6-2a38f2bff949"
      },
      "execution_count": 91,
      "outputs": [
        {
          "output_type": "execute_result",
          "data": {
            "text/plain": [
              "<matplotlib.axes._subplots.AxesSubplot at 0x7fa3b3f47310>"
            ]
          },
          "metadata": {},
          "execution_count": 91
        },
        {
          "output_type": "display_data",
          "data": {
            "text/plain": [
              "<Figure size 432x288 with 1 Axes>"
            ],
            "image/png": "[encoded data removed]"
          },
          "metadata": {
            "needs_background": "light"
          }
        }
      ]
    },
    {
      "cell_type": "code",
      "source": [
        "create_distribution(valid_news)"
      ],
      "metadata": {
        "colab": {
          "base_uri": "https://localhost:8080/",
          "height": 300
        },
        "id": "KFpAkMvqDk_2",
        "outputId": "fbeb1466-3436-4c16-d71f-59707b2d026c"
      },
      "execution_count": 92,
      "outputs": [
        {
          "output_type": "execute_result",
          "data": {
            "text/plain": [
              "<matplotlib.axes._subplots.AxesSubplot at 0x7fa3a75a0dd0>"
            ]
          },
          "metadata": {},
          "execution_count": 92
        },
        {
          "output_type": "display_data",
          "data": {
            "text/plain": [
              "<Figure size 432x288 with 1 Axes>"
            ],
            "image/png": "[encoded data removed]"
          },
          "metadata": {
            "needs_background": "light"
          }
        }
      ]
    },
    {
      "cell_type": "code",
      "source": [
        "#data integrity check (missing label values)\n",
        "#none of the datasets contains missing values therefore no cleaning required\n",
        "def data_qualityCheck():\n",
        "    \n",
        "    print(\"Checking data qualitites...\")\n",
        "    train_news.isnull().sum()\n",
        "    train_news.info()\n",
        "        \n",
        "    print(\"check finished.\")\n",
        "\n",
        "    #below datasets were used to \n",
        "    test_news.isnull().sum()\n",
        "    test_news.info()\n",
        "\n",
        "    valid_news.isnull().sum()\n",
        "    valid_news.info()\n",
        "\n",
        "#run the below function call to see the quality check results\n",
        "data_qualityCheck()"
      ],
      "metadata": {
        "id": "HAge56QClbjB",
        "colab": {
          "base_uri": "https://localhost:8080/"
        },
        "outputId": "287f598e-0c63-400a-cb3a-e669902d4fdc"
      },
      "execution_count": 93,
      "outputs": [
        {
          "output_type": "stream",
          "name": "stdout",
          "text": [
            "Checking data qualitites...\n",
            "<class 'pandas.core.frame.DataFrame'>\n",
            "RangeIndex: 10240 entries, 0 to 10239\n",
            "Data columns (total 2 columns):\n",
            " #   Column     Non-Null Count  Dtype \n",
            "---  ------     --------------  ----- \n",
            " 0   Statement  10240 non-null  object\n",
            " 1   Label      10240 non-null  bool  \n",
            "dtypes: bool(1), object(1)\n",
            "memory usage: 90.1+ KB\n",
            "check finished.\n",
            "<class 'pandas.core.frame.DataFrame'>\n",
            "RangeIndex: 2551 entries, 0 to 2550\n",
            "Data columns (total 2 columns):\n",
            " #   Column     Non-Null Count  Dtype \n",
            "---  ------     --------------  ----- \n",
            " 0   Statement  2551 non-null   object\n",
            " 1   Label      2551 non-null   bool  \n",
            "dtypes: bool(1), object(1)\n",
            "memory usage: 22.5+ KB\n",
            "<class 'pandas.core.frame.DataFrame'>\n",
            "RangeIndex: 2571 entries, 0 to 2570\n",
            "Data columns (total 2 columns):\n",
            " #   Column     Non-Null Count  Dtype \n",
            "---  ------     --------------  ----- \n",
            " 0   Statement  2571 non-null   object\n",
            " 1   Label      2569 non-null   object\n",
            "dtypes: object(2)\n",
            "memory usage: 40.3+ KB\n"
          ]
        }
      ]
    },
    {
      "cell_type": "code",
      "source": [
        "eng_stemmer = SnowballStemmer('english')\n",
        "stopwords = set(nltk.corpus.stopwords.words('english'))\n",
        "\n",
        "#Stemming\n",
        "def stem_tokens(tokens, stemmer):\n",
        "    stemmed = []\n",
        "    for token in tokens:\n",
        "        stemmed.append(stemmer.stem(token))\n",
        "    return stemmed"
      ],
      "metadata": {
        "id": "IHp4NKBDlfq9"
      },
      "execution_count": 6,
      "outputs": []
    },
    {
      "cell_type": "code",
      "source": [
        "\n",
        "#process the data\n",
        "def process_data(data,exclude_stopword=True,stem=True):\n",
        "    tokens = [w.lower() for w in data]\n",
        "    tokens_stemmed = tokens\n",
        "    tokens_stemmed = stem_tokens(tokens, eng_stemmer)\n",
        "    tokens_stemmed = [w for w in tokens_stemmed if w not in stopwords ]\n",
        "    return tokens_stemmed\n"
      ],
      "metadata": {
        "id": "xGLvnKAAllO-"
      },
      "execution_count": 7,
      "outputs": []
    },
    {
      "cell_type": "code",
      "source": [
        "#creating ngrams\n",
        "#unigram \n",
        "def create_unigram(words):\n",
        "    assert type(words) == list\n",
        "    return words\n",
        "\n",
        "#bigram\n",
        "def create_bigrams(words):\n",
        "    assert type(words) == list\n",
        "    skip = 0\n",
        "    join_str = \" \"\n",
        "    Len = len(words)\n",
        "    if Len > 1:\n",
        "        lst = []\n",
        "        for i in range(Len-1):\n",
        "            for k in range(1,skip+2):\n",
        "                if i+k < Len:\n",
        "                    lst.append(join_str.join([words[i],words[i+k]]))\n",
        "    else:\n",
        "        #set it as unigram\n",
        "        lst = create_unigram(words)\n",
        "    return lst\n",
        "\n",
        "#trigrams\n",
        "def create_trigrams(words):\n",
        "    assert type(words) == list\n",
        "    skip = 0\n",
        "    join_str = \" \"\n",
        "    Len = len(words)\n",
        "    if Len > 2:\n",
        "        lst = []\n",
        "        for i in range(1,skip+2):\n",
        "            for k1 in range(1, skip+2):\n",
        "                for k2 in range(1,skip+2):\n",
        "                  if i+k1 < Len and i+k1+k2 < Len:\n",
        "                            lst.append(join_str.join([words[i], words[i+k1],words[i+k1+k2]]))\n",
        "        else:\n",
        "            #set is as bigram\n",
        "            lst = create_bigrams(words)\n",
        "    return lst"
      ],
      "metadata": {
        "id": "yZB7YZy6l2kc"
      },
      "execution_count": 8,
      "outputs": []
    },
    {
      "cell_type": "code",
      "source": [
        "porter = PorterStemmer()\n",
        "\n",
        "def tokenizer(text):\n",
        "    return text.split()\n",
        "\n",
        "\n",
        "def tokenizer_porter(text):\n",
        "    return [porter.stem(word) for word in text.split()]"
      ],
      "metadata": {
        "id": "N-cuDDStnQcF"
      },
      "execution_count": 9,
      "outputs": []
    },
    {
      "cell_type": "code",
      "source": [
        "#doc = ['runners like running and thus they run','this is a test for tokens']\n",
        "#tokenizer([word for line in test_news.iloc[:,1] for word in line.lower().split()])\n",
        "\n",
        "#show the distribution of labels in the train and test data\n",
        "\n",
        "def create_datafile(filename):\n",
        "    #function to slice the dataframe to keep variables necessary to be used for classification\n",
        "    return \"return df to be used\"\n",
        "\n",
        "    \n",
        "#converting multiclass labels present in our datasets to binary class labels\n",
        "# for i , row in data_TrainNews.iterrows():\n",
        "#     if (data_TrainNews.iloc[:,0] == \"mostly-true\" | data_TrainNews.iloc[:,0] == \"half-true\" | data_TrainNews.iloc[:,0] == \"true\"):\n",
        "#         data_TrainNews.iloc[:,0] = \"true\"\n",
        "#     else :\n",
        "#         data_TrainNews.iloc[:,0] = \"false\"\n",
        "        \n",
        "# for i,row in data_TrainNews.iterrows():\n",
        "#     print(row)\n",
        "\n",
        "    \n"
      ],
      "metadata": {
        "id": "j6YSxV1knYa3"
      },
      "execution_count": 11,
      "outputs": []
    },
    {
      "cell_type": "code",
      "source": [
        "#we will start with simple bag of words technique \n",
        "#creating feature vector - document term matrix\n",
        "countV = CountVectorizer()\n",
        "train_count = countV.fit_transform(train_news['Statement'].values)\n",
        "\n",
        "print(countV)\n",
        "print(train_count)"
      ],
      "metadata": {
        "id": "GFeniEK64WSL",
        "colab": {
          "base_uri": "https://localhost:8080/"
        },
        "outputId": "c70dad85-20c8-40f1-feb7-7b3ff1048117"
      },
      "execution_count": 12,
      "outputs": [
        {
          "output_type": "stream",
          "name": "stdout",
          "text": [
            "CountVectorizer()\n",
            "  (0, 9676)\t1\n",
            "  (0, 10988)\t1\n",
            "  (0, 1044)\t1\n",
            "  (0, 6639)\t1\n",
            "  (0, 8376)\t1\n",
            "  (0, 5115)\t1\n",
            "  (0, 10709)\t1\n",
            "  (0, 11036)\t1\n",
            "  (0, 11296)\t1\n",
            "  (0, 615)\t1\n",
            "  (0, 7728)\t1\n",
            "  (0, 3278)\t1\n",
            "  (1, 10988)\t1\n",
            "  (1, 11934)\t2\n",
            "  (1, 3434)\t1\n",
            "  (1, 3185)\t1\n",
            "  (1, 7672)\t1\n",
            "  (1, 2475)\t1\n",
            "  (1, 10425)\t1\n",
            "  (1, 6052)\t1\n",
            "  (1, 10426)\t2\n",
            "  (1, 7418)\t1\n",
            "  (1, 4860)\t1\n",
            "  (1, 11138)\t1\n",
            "  (1, 7674)\t1\n",
            "  :\t:\n",
            "  (10239, 10988)\t1\n",
            "  (10239, 7672)\t2\n",
            "  (10239, 11110)\t2\n",
            "  (10239, 5267)\t1\n",
            "  (10239, 7828)\t1\n",
            "  (10239, 7824)\t1\n",
            "  (10239, 1159)\t1\n",
            "  (10239, 12151)\t2\n",
            "  (10239, 6327)\t1\n",
            "  (10239, 6603)\t1\n",
            "  (10239, 11013)\t1\n",
            "  (10239, 11004)\t1\n",
            "  (10239, 3309)\t1\n",
            "  (10239, 12158)\t1\n",
            "  (10239, 11660)\t2\n",
            "  (10239, 799)\t1\n",
            "  (10239, 2568)\t1\n",
            "  (10239, 11622)\t1\n",
            "  (10239, 2549)\t1\n",
            "  (10239, 10660)\t1\n",
            "  (10239, 8996)\t1\n",
            "  (10239, 10918)\t1\n",
            "  (10239, 3989)\t1\n",
            "  (10239, 10594)\t1\n",
            "  (10239, 6853)\t1\n"
          ]
        }
      ]
    },
    {
      "cell_type": "code",
      "source": [
        "#print training doc term matrix\n",
        "#we have matrix of size of (10240, 12196) by calling below\n",
        "def get_countVectorizer_stats():\n",
        "    \n",
        "    #vocab size\n",
        "    train_count.shape\n",
        "\n",
        "    #check vocabulary using below command\n",
        "    print(countV.vocabulary_)\n",
        "\n",
        "    #get feature names\n",
        "    print(countV.get_feature_names()[:25])\n"
      ],
      "metadata": {
        "id": "f7ntD19l4-qW"
      },
      "execution_count": 13,
      "outputs": []
    },
    {
      "cell_type": "code",
      "source": [
        "#create tf-df frequency features\n",
        "#tf-idf \n",
        "tfidfV = TfidfTransformer()\n",
        "train_tfidf = tfidfV.fit_transform(train_count)\n",
        "\n",
        "def get_tfidf_stats():\n",
        "    train_tfidf.shape\n",
        "    #get train data feature names \n",
        "    print(train_tfidf.A[:10])"
      ],
      "metadata": {
        "id": "Qng-O6Yb5HQB"
      },
      "execution_count": 14,
      "outputs": []
    },
    {
      "cell_type": "code",
      "source": [
        "#bag of words - with n-grams\n",
        "#countV_ngram = CountVectorizer(ngram_range=(1,3),stop_words='english')\n",
        "#tfidf_ngram  = TfidfTransformer(use_idf=True,smooth_idf=True)\n",
        "\n",
        "tfidf_ngram = TfidfVectorizer(stop_words='english',ngram_range=(1,4),use_idf=True,smooth_idf=True)\n",
        "\n",
        "#POS Tagging\n",
        "tagged_sentences = nltk.corpus.treebank.tagged_sents()\n",
        "\n",
        "cutoff = int(.75 * len(tagged_sentences))\n",
        "training_sentences = train_news['Statement']\n",
        " \n",
        "print(training_sentences)\n"
      ],
      "metadata": {
        "id": "QjqG7eIJ5LKy",
        "colab": {
          "base_uri": "https://localhost:8080/"
        },
        "outputId": "6762bf34-349f-42e1-ebac-c0ea10c0a218"
      },
      "execution_count": 15,
      "outputs": [
        {
          "output_type": "stream",
          "name": "stdout",
          "text": [
            "0        Says the Annies List political group supports ...\n",
            "1        When did the decline of coal start? It started...\n",
            "2        Hillary Clinton agrees with John McCain \"by vo...\n",
            "3        Health care reform legislation is likely to ma...\n",
            "4        The economic turnaround started at the end of ...\n",
            "                               ...                        \n",
            "10235    There are a larger number of shark attacks in ...\n",
            "10236    Democrats have now become the party of the [At...\n",
            "10237    Says an alternative to Social Security that op...\n",
            "10238    On lifting the U.S. Cuban embargo and allowing...\n",
            "10239    The Department of Veterans Affairs has a manua...\n",
            "Name: Statement, Length: 10240, dtype: object\n"
          ]
        }
      ]
    },
    {
      "cell_type": "code",
      "source": [
        "#training POS tagger based on words\n",
        "def features(sentence, index):\n",
        "    \"\"\" sentence: [w1, w2, ...], index: the index of the word \"\"\"\n",
        "    return {\n",
        "        'word': sentence[index],\n",
        "        'is_first': index == 0,\n",
        "        'is_last': index == len(sentence) - 1,\n",
        "        'is_capitalized': sentence[index][0].upper() == sentence[index][0],\n",
        "        'is_all_caps': sentence[index].upper() == sentence[index],\n",
        "        'is_all_lower': sentence[index].lower() == sentence[index],\n",
        "        'prefix-1': sentence[index][0],\n",
        "        'prefix-2': sentence[index][:2],\n",
        "        'prefix-3': sentence[index][:3],\n",
        "        'suffix-1': sentence[index][-1],\n",
        "        'suffix-2': sentence[index][-2:],\n",
        "        'suffix-3': sentence[index][-3:],\n",
        "        'prev_word': '' if index == 0 else sentence[index - 1],\n",
        "        'next_word': '' if index == len(sentence) - 1 else sentence[index + 1],\n",
        "        'has_hyphen': '-' in sentence[index],\n",
        "        'is_numeric': sentence[index].isdigit(),\n",
        "        'capitals_inside': sentence[index][1:].lower() != sentence[index][1:]\n",
        "    }"
      ],
      "metadata": {
        "id": "JVGiJ7Z05vsI"
      },
      "execution_count": 16,
      "outputs": []
    },
    {
      "cell_type": "code",
      "source": [
        "#helper function to strip tags from tagged corpus\t\n",
        "def untag(tagged_sentence):\n",
        "    return [w for w, t in tagged_sentence]"
      ],
      "metadata": {
        "id": "8vm6jRSF50B-"
      },
      "execution_count": 17,
      "outputs": []
    },
    {
      "cell_type": "code",
      "source": [
        "#Using Word2Vec\n",
        "\n",
        "glove_6B_50d = '/content/drive/MyDrive/Fake News Detection/glove.6B.50d.txt'\n",
        "\n",
        "with open(glove_6B_50d, \"rb\") as lines:\n",
        "    w2v = {line.split()[0]: np.array(map(float, line.split()[1:]))\n",
        "           for line in lines}\n",
        "\n",
        "#model = gensim.models.Word2Vec(X, size=100) # x be tokenized text\n",
        "#w2v = dict(zip(model.wv.index2word, model.wv.syn0))\n"
      ],
      "metadata": {
        "id": "JlD7J4pg52r_"
      },
      "execution_count": 18,
      "outputs": []
    },
    {
      "cell_type": "code",
      "source": [
        "class MeanEmbeddingVectorizer(object):\n",
        "    def __init__(self, word2vec):\n",
        "        self.word2vec = word2vec\n",
        "        # if a text is empty we should return a vector of zeros\n",
        "        # with the same dimensionality as all the other vectors\n",
        "        self.dim = len(word2vec.itervalues().next())\n",
        "\n",
        "    def fit(self, X, y):\n",
        "        return self\n",
        "\n",
        "    def transform(self, X):\n",
        "        return np.array([\n",
        "            np.mean([self.word2vec[w] for w in words if w in self.word2vec]\n",
        "                    or [np.zeros(self.dim)], axis=0)\n",
        "            for words in X\n",
        "        ])\n",
        "\n",
        "\n",
        "# class TfidfEmbeddingVectorizer(object):\n",
        "#     def __init__(self, word2vec):\n",
        "#         self.word2vec = word2vec\n",
        "#         self.word2weight = None\n",
        "#         self.dim = len(word2vec.itervalues().next())\n",
        "\n",
        "#     def fit(self, X, y):\n",
        "#         tfidf = TfidfVectorizer(analyzer=lambda x: x)\n",
        "#         tfidf.fit(X)\n",
        "#         # if a word was never seen - it must be at least as infrequent\n",
        "#         # as any of the known words - so the default idf is the max of \n",
        "#         # known idf's\n",
        "#         max_idf = max(tfidf.idf_)\n",
        "#         self.word2weight = defaultdict(\n",
        "#             lambda: max_idf,\n",
        "#             [(w, tfidf.idf_[i]) for w, i in tfidf.vocabulary_.items()])\n",
        "\n",
        "#         return self\n",
        "\n",
        "#     def transform(self, X):\n",
        "#         return np.array([\n",
        "#                 np.mean([self.word2vec[w] * self.word2weight[w]\n",
        "#                          for w in words if w in self.word2vec] or\n",
        "#                         [np.zeros(self.dim)], axis=0)\n",
        "#                 for words in X\n",
        "#             ])\n",
        "\n"
      ],
      "metadata": {
        "id": "EKKifAXE7K7l"
      },
      "execution_count": 20,
      "outputs": []
    },
    {
      "cell_type": "code",
      "source": [
        "#string to test\n",
        "# doc_new = ['obama is running for president in 2016']\n",
        "\n",
        "#the feature selection has been done in FeatureSelection.py module. here we will create models using those features for prediction\n",
        "\n",
        "#first we will use bag of words techniques\n",
        "\n",
        "#building classifier using naive bayes \n",
        "nb_pipeline = Pipeline([\n",
        "        ('NBCV', countV),\n",
        "        ('nb_clf',MultinomialNB())])\n",
        "\n",
        "nb_pipeline.fit(train_news['Statement'],train_news['Label'])\n",
        "predicted_nb = nb_pipeline.predict(test_news['Statement'])\n",
        "np.mean(predicted_nb == test_news['Label'])\n"
      ],
      "metadata": {
        "id": "_ZePgdO3G6fK",
        "colab": {
          "base_uri": "https://localhost:8080/"
        },
        "outputId": "de9f5db4-e45c-419a-c3a8-7fca46accf3c"
      },
      "execution_count": 151,
      "outputs": [
        {
          "output_type": "execute_result",
          "data": {
            "text/plain": [
              "0.6072128577028616"
            ]
          },
          "metadata": {},
          "execution_count": 151
        }
      ]
    },
    {
      "cell_type": "code",
      "source": [
        "#building classifier using logistic regression\n",
        "logR_pipeline = Pipeline([\n",
        "        ('LogRCV',countV),\n",
        "        ('LogR_clf',LogisticRegression())\n",
        "        ])\n",
        "\n",
        "logR_pipeline.fit(train_news['Statement'],train_news['Label'])\n",
        "predicted_LogR = logR_pipeline.predict(test_news['Statement'])\n",
        "np.mean(predicted_LogR == test_news['Label'])"
      ],
      "metadata": {
        "id": "GGrwbgamHPS9",
        "colab": {
          "base_uri": "https://localhost:8080/"
        },
        "outputId": "a5213d7d-7ab9-4bfb-fef3-756b200a87c3"
      },
      "execution_count": 22,
      "outputs": [
        {
          "output_type": "execute_result",
          "data": {
            "text/plain": [
              "0.6013328106624853"
            ]
          },
          "metadata": {},
          "execution_count": 22
        }
      ]
    },
    {
      "cell_type": "code",
      "source": [
        "#building Linear SVM classfier\n",
        "svm_pipeline = Pipeline([\n",
        "        ('svmCV',countV),\n",
        "        ('svm_clf',svm.LinearSVC())\n",
        "        ])\n",
        "\n",
        "svm_pipeline.fit(train_news['Statement'],train_news['Label'])\n",
        "predicted_svm = svm_pipeline.predict(test_news['Statement'])\n",
        "np.mean(predicted_svm == test_news['Label'])\n"
      ],
      "metadata": {
        "id": "u5v2nboDHgGr",
        "colab": {
          "base_uri": "https://localhost:8080/"
        },
        "outputId": "7cd297bf-7019-437b-9d94-94b9aacadc48"
      },
      "execution_count": 23,
      "outputs": [
        {
          "output_type": "execute_result",
          "data": {
            "text/plain": [
              "0.5723245785966288"
            ]
          },
          "metadata": {},
          "execution_count": 23
        }
      ]
    },
    {
      "cell_type": "code",
      "source": [
        "#using SVM Stochastic Gradient Descent on hinge loss\n",
        "sgd_pipeline = Pipeline([\n",
        "        ('svm2CV',countV),\n",
        "        ('svm2_clf', SGDClassifier(loss='hinge', penalty='l2', alpha=1e-3, max_iter =5))\n",
        "        ])\n",
        "\n",
        "sgd_pipeline.fit(train_news['Statement'],train_news['Label'])\n",
        "predicted_sgd = sgd_pipeline.predict(test_news['Statement'])\n",
        "np.mean(predicted_sgd == test_news['Label'])"
      ],
      "metadata": {
        "id": "gFa1fE1_HpsD",
        "colab": {
          "base_uri": "https://localhost:8080/"
        },
        "outputId": "96a4f780-6203-4972-8572-faa53b227dc4"
      },
      "execution_count": 24,
      "outputs": [
        {
          "output_type": "execute_result",
          "data": {
            "text/plain": [
              "0.613092904743238"
            ]
          },
          "metadata": {},
          "execution_count": 24
        }
      ]
    },
    {
      "cell_type": "code",
      "source": [
        "#random forest\n",
        "random_forest = Pipeline([\n",
        "        ('rfCV', countV),\n",
        "        ('rf_clf',RandomForestClassifier(n_estimators=200,n_jobs=3))\n",
        "        ])\n",
        "    \n",
        "random_forest.fit(train_news['Statement'],train_news['Label'])\n",
        "predicted_rf = random_forest.predict(test_news['Statement'])\n",
        "np.mean(predicted_rf == test_news['Label'])"
      ],
      "metadata": {
        "id": "8LDqdBxKIckC",
        "colab": {
          "base_uri": "https://localhost:8080/"
        },
        "outputId": "738d6338-c444-4d0d-d118-6d043645bcb0"
      },
      "execution_count": 25,
      "outputs": [
        {
          "output_type": "execute_result",
          "data": {
            "text/plain": [
              "0.6248529988239906"
            ]
          },
          "metadata": {},
          "execution_count": 25
        }
      ]
    },
    {
      "cell_type": "code",
      "source": [
        "def plot_confusion_matrix(cm, classes, title,\n",
        "                          normalize=False,\n",
        "                          cmap=plt.cm.Blues):\n",
        "    \n",
        "    plt.imshow(cm, interpolation='nearest', cmap=cmap)\n",
        "    plt.title('Confusion Matrix ' + title)\n",
        "    plt.colorbar()\n",
        "    tick_marks = np.arange(len(classes))\n",
        "    plt.xticks(tick_marks, classes, rotation=45)\n",
        "    plt.yticks(tick_marks, classes)\n",
        "\n",
        "    if normalize:\n",
        "        cm = cm.astype('float') / cm.sum(axis=1)[:, np.newaxis]\n",
        "        print(\"Normalized confusion matrix\")\n",
        "    else:\n",
        "        print('Confusion matrix, without normalization')\n",
        "\n",
        "    thresh = cm.max() / 2.\n",
        "    for i, j in itertools.product(range(cm.shape[0]), range(cm.shape[1])):\n",
        "        plt.text(j, i, cm[i, j],\n",
        "                 horizontalalignment=\"center\",\n",
        "                 color=\"white\" if cm[i, j] > thresh else \"black\")\n",
        "\n",
        "    plt.tight_layout()\n",
        "    plt.ylabel('True label')\n",
        "    plt.xlabel('Predicted label')"
      ],
      "metadata": {
        "id": "vaMqCHJ2GkaY"
      },
      "execution_count": 120,
      "outputs": []
    },
    {
      "cell_type": "code",
      "source": [
        "#User defined functon for K-Fold cross validatoin\n",
        "def build_confusion_matrix(classifier, title):\n",
        "    \n",
        "    k_fold = KFold(n_splits=5)\n",
        "    scores = []\n",
        "    confusion = np.array([[0,0],[0,0]])\n",
        "\n",
        "    for train_ind, test_ind in k_fold.split(train_news):\n",
        "        train_text = train_news.iloc[train_ind]['Statement'] \n",
        "        train_y = train_news.iloc[train_ind]['Label']\n",
        "    \n",
        "        test_text = train_news.iloc[test_ind]['Statement']\n",
        "        test_y = train_news.iloc[test_ind]['Label']\n",
        "        \n",
        "        classifier.fit(train_text,train_y)\n",
        "        predictions = classifier.predict(test_text)\n",
        "        \n",
        "        confusion += confusion_matrix(test_y,predictions)\n",
        "        score = f1_score(test_y,predictions)\n",
        "        scores.append(score)\n",
        "    \n",
        "    plot_confusion_matrix(confusion, classes=['FAKE Data', 'REAL Data'], title=title)\n",
        "\n",
        "    return (print('Total statements classified:', len(train_news)),\n",
        "    print('Score:', sum(scores)/len(scores)),\n",
        "    print('score length', len(scores)),\n",
        "    print('Confusion matrix:'),\n",
        "    print(confusion))\n",
        "\n",
        "#K-fold cross validation for all classifiers\n",
        "build_confusion_matrix(nb_pipeline, \"LogisticRegression Classifier\")"
      ],
      "metadata": {
        "id": "v1UoparZIC1v",
        "colab": {
          "base_uri": "https://localhost:8080/",
          "height": 450
        },
        "outputId": "1713318f-f066-4a17-a364-3e3ff3e54560"
      },
      "execution_count": 121,
      "outputs": [
        {
          "output_type": "stream",
          "name": "stdout",
          "text": [
            "Confusion matrix, without normalization\n",
            "Total statements classified: 10240\n",
            "Score: 0.66961153965076\n",
            "score length 5\n",
            "Confusion matrix:\n",
            "[[2118 2370]\n",
            " [1664 4088]]\n"
          ]
        },
        {
          "output_type": "execute_result",
          "data": {
            "text/plain": [
              "(None, None, None, None, None)"
            ]
          },
          "metadata": {},
          "execution_count": 121
        },
        {
          "output_type": "display_data",
          "data": {
            "text/plain": [
              "<Figure size 432x288 with 2 Axes>"
            ],
            "image/png": "[encoded data removed]"
          },
          "metadata": {
            "needs_background": "light"
          }
        }
      ]
    },
    {
      "cell_type": "code",
      "source": [
        "build_confusion_matrix(logR_pipeline, \"Naive-bayes Classifier\")"
      ],
      "metadata": {
        "colab": {
          "base_uri": "https://localhost:8080/",
          "height": 450
        },
        "id": "_c7nZHBoHtwH",
        "outputId": "9ec98a6c-b90c-4fc2-f599-b127a8ff603d"
      },
      "execution_count": 122,
      "outputs": [
        {
          "output_type": "stream",
          "name": "stdout",
          "text": [
            "Confusion matrix, without normalization\n",
            "Total statements classified: 10240\n",
            "Score: 0.6466692934443682\n",
            "score length 5\n",
            "Confusion matrix:\n",
            "[[2254 2234]\n",
            " [1936 3816]]\n"
          ]
        },
        {
          "output_type": "execute_result",
          "data": {
            "text/plain": [
              "(None, None, None, None, None)"
            ]
          },
          "metadata": {},
          "execution_count": 122
        },
        {
          "output_type": "display_data",
          "data": {
            "text/plain": [
              "<Figure size 432x288 with 2 Axes>"
            ],
            "image/png": "[encoded data removed]"
          },
          "metadata": {
            "needs_background": "light"
          }
        }
      ]
    },
    {
      "cell_type": "code",
      "source": [
        "build_confusion_matrix(svm_pipeline, \"SVM Classifier\")"
      ],
      "metadata": {
        "id": "CI5OxFBiIS3N",
        "colab": {
          "base_uri": "https://localhost:8080/",
          "height": 450
        },
        "outputId": "d33214bf-0f45-451e-9e6d-6b5899b63e8f"
      },
      "execution_count": 123,
      "outputs": [
        {
          "output_type": "stream",
          "name": "stdout",
          "text": [
            "Confusion matrix, without normalization\n",
            "Total statements classified: 10240\n",
            "Score: 0.6104687487924283\n",
            "score length 5\n",
            "Confusion matrix:\n",
            "[[2260 2228]\n",
            " [2246 3506]]\n"
          ]
        },
        {
          "output_type": "execute_result",
          "data": {
            "text/plain": [
              "(None, None, None, None, None)"
            ]
          },
          "metadata": {},
          "execution_count": 123
        },
        {
          "output_type": "display_data",
          "data": {
            "text/plain": [
              "<Figure size 432x288 with 2 Axes>"
            ],
            "image/png": "[encoded data removed]"
          },
          "metadata": {
            "needs_background": "light"
          }
        }
      ]
    },
    {
      "cell_type": "code",
      "source": [
        "build_confusion_matrix(sgd_pipeline, \"SGD Classifier\")"
      ],
      "metadata": {
        "colab": {
          "base_uri": "https://localhost:8080/",
          "height": 450
        },
        "id": "WRlLVLxYH1Yx",
        "outputId": "28e73679-a807-4fb4-de7d-52ead7b18dc5"
      },
      "execution_count": 124,
      "outputs": [
        {
          "output_type": "stream",
          "name": "stdout",
          "text": [
            "Confusion matrix, without normalization\n",
            "Total statements classified: 10240\n",
            "Score: 0.651678784085379\n",
            "score length 5\n",
            "Confusion matrix:\n",
            "[[2285 2203]\n",
            " [1902 3850]]\n"
          ]
        },
        {
          "output_type": "execute_result",
          "data": {
            "text/plain": [
              "(None, None, None, None, None)"
            ]
          },
          "metadata": {},
          "execution_count": 124
        },
        {
          "output_type": "display_data",
          "data": {
            "text/plain": [
              "<Figure size 432x288 with 2 Axes>"
            ],
            "image/png": "[encoded data removed]"
          },
          "metadata": {
            "needs_background": "light"
          }
        }
      ]
    },
    {
      "cell_type": "code",
      "source": [
        "build_confusion_matrix(random_forest, \"RandomForest Classifier\")"
      ],
      "metadata": {
        "colab": {
          "base_uri": "https://localhost:8080/",
          "height": 450
        },
        "id": "KmnnFrjlH6G-",
        "outputId": "110dddcb-568e-4a31-ae34-5b653375acf9"
      },
      "execution_count": 125,
      "outputs": [
        {
          "output_type": "stream",
          "name": "stdout",
          "text": [
            "Confusion matrix, without normalization\n",
            "Total statements classified: 10240\n",
            "Score: 0.7018325140285924\n",
            "score length 5\n",
            "Confusion matrix:\n",
            "[[1799 2689]\n",
            " [1188 4564]]\n"
          ]
        },
        {
          "output_type": "execute_result",
          "data": {
            "text/plain": [
              "(None, None, None, None, None)"
            ]
          },
          "metadata": {},
          "execution_count": 125
        },
        {
          "output_type": "display_data",
          "data": {
            "text/plain": [
              "<Figure size 432x288 with 2 Axes>"
            ],
            "image/png": "[encoded data removed]"
          },
          "metadata": {
            "needs_background": "light"
          }
        }
      ]
    },
    {
      "cell_type": "code",
      "source": [
        "# So far we have used bag of words technique to extract the features and passed those featuers into classifiers. We have also seen the\n",
        "# f1 scores of these classifiers. now lets enhance these features using term frequency weights with various n-grams\n",
        "\n",
        "##Now using n-grams\n",
        "\n",
        "#naive-bayes classifier\n",
        "nb_pipeline_ngram = Pipeline([\n",
        "        ('nb_tfidf',tfidf_ngram),\n",
        "        ('nb_clf',MultinomialNB())])\n",
        "\n",
        "nb_pipeline_ngram.fit(train_news['Statement'],train_news['Label'])\n",
        "predicted_nb_ngram = nb_pipeline_ngram.predict(test_news['Statement'])\n",
        "np.mean(predicted_nb_ngram == test_news['Label'])"
      ],
      "metadata": {
        "id": "s4OOYb21KGkp",
        "colab": {
          "base_uri": "https://localhost:8080/"
        },
        "outputId": "70fb9fbd-2fa7-4015-946f-201e1f43b0ad"
      },
      "execution_count": 28,
      "outputs": [
        {
          "output_type": "execute_result",
          "data": {
            "text/plain": [
              "0.5938847510780086"
            ]
          },
          "metadata": {},
          "execution_count": 28
        }
      ]
    },
    {
      "cell_type": "code",
      "source": [
        "#logistic regression classifier\n",
        "logR_pipeline_ngram = Pipeline([\n",
        "        ('LogR_tfidf', tfidf_ngram),\n",
        "        ('LogR_clf',LogisticRegression(penalty=\"l2\",C=1))\n",
        "        ])\n",
        "\n",
        "logR_pipeline_ngram.fit(train_news['Statement'], train_news['Label'])\n",
        "predicted_LogR_ngram = logR_pipeline_ngram.predict(test_news['Statement'])\n",
        "np.mean(predicted_LogR_ngram == test_news['Label'])"
      ],
      "metadata": {
        "id": "v8xNMIuzKeWf",
        "colab": {
          "base_uri": "https://localhost:8080/"
        },
        "outputId": "c5c0b36c-ab0b-4830-bf5c-061ce4986be1"
      },
      "execution_count": 29,
      "outputs": [
        {
          "output_type": "execute_result",
          "data": {
            "text/plain": [
              "0.6193649549196394"
            ]
          },
          "metadata": {},
          "execution_count": 29
        }
      ]
    },
    {
      "cell_type": "code",
      "source": [
        "#linear SVM classifier\n",
        "svm_pipeline_ngram = Pipeline([\n",
        "        ('svm_tfidf',tfidf_ngram),\n",
        "        ('svm_clf',svm.LinearSVC())\n",
        "        ])\n",
        "\n",
        "svm_pipeline_ngram.fit(train_news['Statement'],train_news['Label'])\n",
        "predicted_svm_ngram = svm_pipeline_ngram.predict(test_news['Statement'])\n",
        "np.mean(predicted_svm_ngram == test_news['Label'])"
      ],
      "metadata": {
        "id": "GobjvrUXKn4j",
        "colab": {
          "base_uri": "https://localhost:8080/"
        },
        "outputId": "98d59003-dbe7-4809-8379-d493deec62cf"
      },
      "execution_count": 30,
      "outputs": [
        {
          "output_type": "execute_result",
          "data": {
            "text/plain": [
              "0.6170129361034888"
            ]
          },
          "metadata": {},
          "execution_count": 30
        }
      ]
    },
    {
      "cell_type": "code",
      "source": [
        "#sgd classifier\n",
        "sgd_pipeline_ngram = Pipeline([\n",
        "         ('sgd_tfidf', tfidf_ngram),\n",
        "         ('sgd_clf',SGDClassifier(loss='hinge', penalty='l2', alpha=1e-3, max_iter=5))\n",
        "         ])\n",
        "\n",
        "sgd_pipeline_ngram.fit(train_news['Statement'],train_news['Label'])\n",
        "predicted_sgd_ngram = sgd_pipeline_ngram.predict(test_news['Statement'])\n",
        "np.mean(predicted_sgd_ngram == test_news['Label'])"
      ],
      "metadata": {
        "id": "gFlYa9ofKvtC",
        "colab": {
          "base_uri": "https://localhost:8080/"
        },
        "outputId": "c9b00f25-cdf5-435e-d5ea-5a2df27e0257"
      },
      "execution_count": 31,
      "outputs": [
        {
          "output_type": "execute_result",
          "data": {
            "text/plain": [
              "0.5417483339866719"
            ]
          },
          "metadata": {},
          "execution_count": 31
        }
      ]
    },
    {
      "cell_type": "code",
      "source": [
        "#random forest classifier\n",
        "random_forest_ngram = Pipeline([\n",
        "        ('rf_tfidf', tfidf_ngram),\n",
        "        ('rf_clf', RandomForestClassifier(n_estimators=100,n_jobs=3))\n",
        "        ])\n",
        "    \n",
        "random_forest_ngram.fit(train_news['Statement'],train_news['Label'])\n",
        "predicted_rf_ngram = random_forest_ngram.predict(test_news['Statement'])\n",
        "np.mean(predicted_rf_ngram == test_news['Label'])"
      ],
      "metadata": {
        "id": "r_pBHZ3qK6WN",
        "colab": {
          "base_uri": "https://localhost:8080/"
        },
        "outputId": "f28ba5eb-6323-4a32-97e8-8d26c0d2fdc0"
      },
      "execution_count": 132,
      "outputs": [
        {
          "output_type": "execute_result",
          "data": {
            "text/plain": [
              "0.5950607604860839"
            ]
          },
          "metadata": {},
          "execution_count": 132
        }
      ]
    },
    {
      "cell_type": "code",
      "source": [
        "#K-fold cross validation for all classifiers\n",
        "build_confusion_matrix(nb_pipeline_ngram, \"LogisticRegression Classifier\")"
      ],
      "metadata": {
        "colab": {
          "base_uri": "https://localhost:8080/",
          "height": 450
        },
        "id": "COI_RageIJAx",
        "outputId": "95c9a0e7-37af-44e0-8f11-49c849160889"
      },
      "execution_count": 126,
      "outputs": [
        {
          "output_type": "stream",
          "name": "stdout",
          "text": [
            "Confusion matrix, without normalization\n",
            "Total statements classified: 10240\n",
            "Score: 0.7224053159841455\n",
            "score length 5\n",
            "Confusion matrix:\n",
            "[[ 758 3730]\n",
            " [ 390 5362]]\n"
          ]
        },
        {
          "output_type": "execute_result",
          "data": {
            "text/plain": [
              "(None, None, None, None, None)"
            ]
          },
          "metadata": {},
          "execution_count": 126
        },
        {
          "output_type": "display_data",
          "data": {
            "text/plain": [
              "<Figure size 432x288 with 2 Axes>"
            ],
            "image/png": "[encoded data removed]"
          },
          "metadata": {
            "needs_background": "light"
          }
        }
      ]
    },
    {
      "cell_type": "code",
      "source": [
        "build_confusion_matrix(logR_pipeline_ngram, \"Naive-bayes Classifier\")"
      ],
      "metadata": {
        "colab": {
          "base_uri": "https://localhost:8080/",
          "height": 450
        },
        "id": "uCtE99rBIJOG",
        "outputId": "b3a978e2-a851-417d-9fa8-1e7bbe4628c0"
      },
      "execution_count": 127,
      "outputs": [
        {
          "output_type": "stream",
          "name": "stdout",
          "text": [
            "Confusion matrix, without normalization\n",
            "Total statements classified: 10240\n",
            "Score: 0.7044355553757985\n",
            "score length 5\n",
            "Confusion matrix:\n",
            "[[1580 2908]\n",
            " [1043 4709]]\n"
          ]
        },
        {
          "output_type": "execute_result",
          "data": {
            "text/plain": [
              "(None, None, None, None, None)"
            ]
          },
          "metadata": {},
          "execution_count": 127
        },
        {
          "output_type": "display_data",
          "data": {
            "text/plain": [
              "<Figure size 432x288 with 2 Axes>"
            ],
            "image/png": "[encoded data removed]"
          },
          "metadata": {
            "needs_background": "light"
          }
        }
      ]
    },
    {
      "cell_type": "code",
      "source": [
        "build_confusion_matrix(svm_pipeline_ngram, \"SVM Classifier\")"
      ],
      "metadata": {
        "colab": {
          "base_uri": "https://localhost:8080/",
          "height": 450
        },
        "id": "EnqRBZN-IWDQ",
        "outputId": "d5a042a8-1f79-4d98-bcd5-a24a5c0461bc"
      },
      "execution_count": 128,
      "outputs": [
        {
          "output_type": "stream",
          "name": "stdout",
          "text": [
            "Confusion matrix, without normalization\n",
            "Total statements classified: 10240\n",
            "Score: 0.6790920142902143\n",
            "score length 5\n",
            "Confusion matrix:\n",
            "[[2016 2472]\n",
            " [1524 4228]]\n"
          ]
        },
        {
          "output_type": "execute_result",
          "data": {
            "text/plain": [
              "(None, None, None, None, None)"
            ]
          },
          "metadata": {},
          "execution_count": 128
        },
        {
          "output_type": "display_data",
          "data": {
            "text/plain": [
              "<Figure size 432x288 with 2 Axes>"
            ],
            "image/png": "[encoded data removed]"
          },
          "metadata": {
            "needs_background": "light"
          }
        }
      ]
    },
    {
      "cell_type": "code",
      "source": [
        "build_confusion_matrix(sgd_pipeline_ngram, \"SGD Classifier\")"
      ],
      "metadata": {
        "colab": {
          "base_uri": "https://localhost:8080/",
          "height": 450
        },
        "id": "3iJttG6nIYk0",
        "outputId": "d89a53c6-e60c-4ddc-d8fb-a8744cf9974b"
      },
      "execution_count": 129,
      "outputs": [
        {
          "output_type": "stream",
          "name": "stdout",
          "text": [
            "Confusion matrix, without normalization\n",
            "Total statements classified: 10240\n",
            "Score: 0.7189507895040017\n",
            "score length 5\n",
            "Confusion matrix:\n",
            "[[   6 4482]\n",
            " [   8 5744]]\n"
          ]
        },
        {
          "output_type": "execute_result",
          "data": {
            "text/plain": [
              "(None, None, None, None, None)"
            ]
          },
          "metadata": {},
          "execution_count": 129
        },
        {
          "output_type": "display_data",
          "data": {
            "text/plain": [
              "<Figure size 432x288 with 2 Axes>"
            ],
            "image/png": "[encoded data removed]"
          },
          "metadata": {
            "needs_background": "light"
          }
        }
      ]
    },
    {
      "cell_type": "code",
      "source": [
        "build_confusion_matrix(random_forest_ngram,\"RandomForest Classifier\")"
      ],
      "metadata": {
        "id": "yWthoIPrLCSB",
        "colab": {
          "base_uri": "https://localhost:8080/",
          "height": 450
        },
        "outputId": "a863afea-aa03-489b-e3a0-8e43c458e3d9"
      },
      "execution_count": 133,
      "outputs": [
        {
          "output_type": "stream",
          "name": "stdout",
          "text": [
            "Confusion matrix, without normalization\n",
            "Total statements classified: 10240\n",
            "Score: 0.6580293913459252\n",
            "score length 5\n",
            "Confusion matrix:\n",
            "[[2075 2413]\n",
            " [1748 4004]]\n"
          ]
        },
        {
          "output_type": "execute_result",
          "data": {
            "text/plain": [
              "(None, None, None, None, None)"
            ]
          },
          "metadata": {},
          "execution_count": 133
        },
        {
          "output_type": "display_data",
          "data": {
            "text/plain": [
              "<Figure size 432x288 with 2 Axes>"
            ],
            "image/png": "[encoded data removed]"
          },
          "metadata": {
            "needs_background": "light"
          }
        }
      ]
    },
    {
      "cell_type": "code",
      "source": [
        "print(classification_report(test_news['Label'], predicted_nb_ngram))\n",
        "print(classification_report(test_news['Label'], predicted_LogR_ngram))\n",
        "print(classification_report(test_news['Label'], predicted_svm_ngram))\n",
        "print(classification_report(test_news['Label'], predicted_sgd_ngram))\n",
        "print(classification_report(test_news['Label'], predicted_rf_ngram))"
      ],
      "metadata": {
        "id": "Hn-qb8rdLGl2",
        "colab": {
          "base_uri": "https://localhost:8080/"
        },
        "outputId": "b3bc483f-4203-426f-d768-3436096be1d4"
      },
      "execution_count": 34,
      "outputs": [
        {
          "output_type": "stream",
          "name": "stdout",
          "text": [
            "              precision    recall  f1-score   support\n",
            "\n",
            "       False       0.72      0.19      0.30      1169\n",
            "        True       0.58      0.94      0.71      1382\n",
            "\n",
            "    accuracy                           0.59      2551\n",
            "   macro avg       0.65      0.56      0.51      2551\n",
            "weighted avg       0.64      0.59      0.52      2551\n",
            "\n",
            "              precision    recall  f1-score   support\n",
            "\n",
            "       False       0.64      0.39      0.49      1169\n",
            "        True       0.61      0.81      0.70      1382\n",
            "\n",
            "    accuracy                           0.62      2551\n",
            "   macro avg       0.62      0.60      0.59      2551\n",
            "weighted avg       0.62      0.62      0.60      2551\n",
            "\n",
            "              precision    recall  f1-score   support\n",
            "\n",
            "       False       0.61      0.47      0.53      1169\n",
            "        True       0.62      0.74      0.68      1382\n",
            "\n",
            "    accuracy                           0.62      2551\n",
            "   macro avg       0.61      0.61      0.60      2551\n",
            "weighted avg       0.62      0.62      0.61      2551\n",
            "\n",
            "              precision    recall  f1-score   support\n",
            "\n",
            "       False       0.00      0.00      0.00      1169\n",
            "        True       0.54      1.00      0.70      1382\n",
            "\n",
            "    accuracy                           0.54      2551\n",
            "   macro avg       0.27      0.50      0.35      2551\n",
            "weighted avg       0.29      0.54      0.38      2551\n",
            "\n",
            "              precision    recall  f1-score   support\n",
            "\n",
            "       False       0.59      0.49      0.53      1169\n",
            "        True       0.62      0.71      0.66      1382\n",
            "\n",
            "    accuracy                           0.61      2551\n",
            "   macro avg       0.60      0.60      0.60      2551\n",
            "weighted avg       0.60      0.61      0.60      2551\n",
            "\n"
          ]
        },
        {
          "output_type": "execute_result",
          "data": {
            "text/plain": [
              "(2551,)"
            ]
          },
          "metadata": {},
          "execution_count": 34
        }
      ]
    },
    {
      "cell_type": "code",
      "source": [
        "test_news['Label'].shape"
      ],
      "metadata": {
        "colab": {
          "base_uri": "https://localhost:8080/"
        },
        "id": "r1Z_tdfdImT4",
        "outputId": "507aff37-4e52-4b91-aa09-7096b2ebd22a"
      },
      "execution_count": 134,
      "outputs": [
        {
          "output_type": "execute_result",
          "data": {
            "text/plain": [
              "(2551,)"
            ]
          },
          "metadata": {},
          "execution_count": 134
        }
      ]
    },
    {
      "cell_type": "code",
      "source": [
        "# Out of all the models fitted, we would take 2 best performing model. we would call them candidate models\n",
        "# from the confusion matrix, we can see that random forest and logistic regression are best performing \n",
        "# in terms of precision and recall (take a look into false positive and true negative counts which appeares\n",
        "# to be low compared to rest of the models)\n",
        "\n",
        "#grid-search parameter optimization\n",
        "#random forest classifier parameters\n",
        "parameters = {'rf_tfidf__ngram_range': [(1, 1), (1, 2),(1,3),(1,4),(1,5)],\n",
        "               'rf_tfidf__use_idf': (True, False),\n",
        "               'rf_clf__max_depth': (1,2,3,4,5,6,7,8,9,10,11,12,13,14,15)\n",
        "}\n",
        "\n",
        "gs_clf = GridSearchCV(random_forest_ngram, parameters, n_jobs=-1)\n",
        "gs_clf = gs_clf.fit(train_news['Statement'][:10000],train_news['Label'][:10000])\n",
        "\n",
        "gs_clf.best_score_\n",
        "gs_clf.best_params_\n",
        "gs_clf.cv_results_"
      ],
      "metadata": {
        "id": "7IfVmBjALbbR",
        "colab": {
          "base_uri": "https://localhost:8080/"
        },
        "outputId": "7f281df6-d5e2-46e8-984e-ae421df996e7"
      },
      "execution_count": 35,
      "outputs": [
        {
          "output_type": "execute_result",
          "data": {
            "text/plain": [
              "{'mean_fit_time': array([1.35341411, 1.35670123, 1.73168197, 1.73351936, 2.1954494 ,\n",
              "        2.17326493, 2.5852612 , 2.51669388, 2.869415  , 2.85856647,\n",
              "        1.32522864, 1.34679351, 1.76929402, 1.70625367, 2.18777838,\n",
              "        2.14717364, 2.64405093, 2.59795294, 2.9805305 , 2.9334064 ,\n",
              "        1.41815524, 1.40503922, 1.82919207, 1.84295506, 2.35654588,\n",
              "        2.2863214 , 2.7668107 , 2.74230552, 3.11765194, 3.07496619,\n",
              "        1.44043493, 1.4637969 , 1.94373722, 1.90905914, 2.40153894,\n",
              "        2.37317858, 2.9176867 , 2.81771922, 3.28650274, 3.29939089,\n",
              "        1.53033123, 1.50036249, 2.01142178, 2.04550257, 2.543852  ,\n",
              "        2.49901743, 3.05811725, 2.9695672 , 3.60006208, 3.55694475,\n",
              "        1.63067999, 1.62742434, 2.19762177, 2.18935928, 2.85451608,\n",
              "        2.91207914, 3.27265768, 3.26419201, 3.78308792, 3.65543919,\n",
              "        1.6660337 , 1.61830897, 2.30098877, 2.27659106, 2.83408575,\n",
              "        2.77455959, 3.39089336, 3.41617513, 3.9877152 , 3.88330359,\n",
              "        1.76269989, 1.73392262, 2.47867475, 2.3760294 , 3.11299691,\n",
              "        3.10914426, 3.67059665, 3.6029305 , 4.22759767, 4.19804435,\n",
              "        1.84476347, 1.83007174, 2.590134  , 2.53719783, 3.35137157,\n",
              "        3.27140718, 3.97448454, 3.87395535, 4.56769767, 4.41639838,\n",
              "        1.90804377, 1.87480102, 2.6625999 , 2.70671701, 3.51525135,\n",
              "        3.40487342, 4.13434958, 4.11838913, 4.74717851, 4.69341083,\n",
              "        2.04074664, 1.97252002, 2.82393932, 2.73586836, 3.66942983,\n",
              "        3.59077153, 4.3142519 , 4.18224463, 4.95571666, 4.87975163,\n",
              "        2.12117233, 2.06725755, 3.04373984, 2.94746256, 3.88231745,\n",
              "        3.93145542, 4.48525834, 4.42427654, 5.11669297, 5.11236935,\n",
              "        2.25837669, 2.17022586, 3.15311413, 3.10219774, 4.09219236,\n",
              "        4.04037218, 5.00056062, 4.85175762, 5.52708163, 5.45159369,\n",
              "        2.33771014, 2.25625372, 3.39252257, 3.36157837, 4.36328511,\n",
              "        4.34202724, 5.2634727 , 5.19530997, 5.53332949, 6.51379447,\n",
              "        2.41889801, 2.40139899, 3.62107487, 3.54030895, 4.55107284,\n",
              "        4.66045804, 5.35441771, 5.980162  , 6.31655736, 6.25232587]),\n",
              " 'mean_score_time': array([0.25684323, 0.24774566, 0.32519555, 0.34165831, 0.39972935,\n",
              "        0.39676056, 0.45696177, 0.43640647, 0.49732199, 0.48079772,\n",
              "        0.27132545, 0.26115122, 0.3285666 , 0.35506072, 0.42782021,\n",
              "        0.39035754, 0.44547005, 0.44265227, 0.48864279, 0.47903881,\n",
              "        0.26516309, 0.24815602, 0.34257326, 0.35720024, 0.41491342,\n",
              "        0.41354513, 0.4349884 , 0.44217758, 0.49513731, 0.46547074,\n",
              "        0.26559052, 0.26273184, 0.31521587, 0.34238138, 0.44008336,\n",
              "        0.42122636, 0.46961951, 0.45397806, 0.49942217, 0.51170611,\n",
              "        0.27026963, 0.26585002, 0.34471674, 0.38772473, 0.443467  ,\n",
              "        0.42234635, 0.45821772, 0.43808155, 0.50172677, 0.49034772,\n",
              "        0.25890393, 0.26202278, 0.33700562, 0.36141562, 0.42706037,\n",
              "        0.41546941, 0.44039783, 0.46023946, 0.55304956, 0.47088828,\n",
              "        0.2653966 , 0.26530604, 0.3149261 , 0.33337464, 0.38220015,\n",
              "        0.42246838, 0.4532927 , 0.44779906, 0.52107625, 0.46459274,\n",
              "        0.26338849, 0.26042724, 0.38589497, 0.3701396 , 0.42248511,\n",
              "        0.42405887, 0.47084398, 0.43761806, 0.52392292, 0.51961255,\n",
              "        0.27061229, 0.25631709, 0.38236308, 0.35473471, 0.42426572,\n",
              "        0.4098659 , 0.44949617, 0.46187515, 0.49833298, 0.51311293,\n",
              "        0.28934259, 0.2535172 , 0.38604641, 0.3789289 , 0.44457831,\n",
              "        0.41672769, 0.474084  , 0.43667774, 0.52366872, 0.52711673,\n",
              "        0.26338053, 0.26183057, 0.42631979, 0.40277424, 0.44407988,\n",
              "        0.41877618, 0.45936842, 0.43312402, 0.48917832, 0.50130978,\n",
              "        0.26081161, 0.25974088, 0.41326923, 0.40157757, 0.44850087,\n",
              "        0.45568066, 0.46105638, 0.47693677, 0.55765758, 0.49438949,\n",
              "        0.2563396 , 0.25751367, 0.41462483, 0.40550785, 0.45270348,\n",
              "        0.4197803 , 0.46397138, 0.44852409, 0.58363833, 0.50153303,\n",
              "        0.28265591, 0.27472868, 0.41354737, 0.40657754, 0.41899858,\n",
              "        0.42005157, 0.46432052, 0.46214995, 0.54649386, 0.60634346,\n",
              "        0.26313267, 0.26117411, 0.35756612, 0.40001011, 0.44174442,\n",
              "        0.4390893 , 0.49483485, 0.45504575, 0.567522  , 0.53340659]),\n",
              " 'mean_test_score': array([0.5611, 0.5611, 0.5611, 0.5611, 0.5611, 0.5611, 0.5611, 0.5611,\n",
              "        0.5611, 0.5611, 0.5611, 0.5611, 0.5611, 0.5611, 0.5611, 0.5611,\n",
              "        0.5611, 0.5611, 0.5611, 0.5611, 0.5611, 0.5611, 0.5611, 0.5611,\n",
              "        0.5611, 0.5611, 0.5611, 0.5611, 0.5611, 0.5611, 0.5611, 0.5611,\n",
              "        0.5611, 0.5611, 0.5611, 0.5611, 0.5611, 0.5611, 0.5611, 0.5611,\n",
              "        0.5611, 0.5611, 0.5611, 0.5611, 0.5611, 0.5611, 0.5611, 0.5611,\n",
              "        0.5611, 0.5611, 0.5612, 0.5611, 0.5611, 0.5611, 0.5611, 0.5611,\n",
              "        0.5611, 0.5611, 0.5611, 0.5611, 0.5611, 0.5612, 0.5611, 0.5612,\n",
              "        0.5613, 0.561 , 0.5612, 0.561 , 0.5611, 0.5611, 0.5616, 0.5611,\n",
              "        0.5613, 0.5614, 0.5618, 0.5611, 0.5613, 0.5612, 0.5613, 0.5611,\n",
              "        0.5616, 0.561 , 0.5612, 0.5609, 0.562 , 0.5616, 0.5617, 0.5612,\n",
              "        0.561 , 0.561 , 0.5624, 0.5617, 0.562 , 0.5616, 0.5628, 0.5622,\n",
              "        0.5611, 0.5617, 0.5616, 0.5616, 0.5628, 0.5629, 0.563 , 0.5624,\n",
              "        0.5626, 0.562 , 0.5623, 0.5618, 0.5621, 0.562 , 0.563 , 0.5627,\n",
              "        0.5636, 0.5618, 0.5625, 0.5625, 0.5624, 0.5621, 0.5626, 0.5614,\n",
              "        0.5648, 0.5654, 0.5638, 0.5627, 0.5641, 0.5636, 0.5624, 0.5629,\n",
              "        0.5625, 0.5626, 0.5644, 0.5658, 0.5649, 0.5637, 0.5649, 0.5636,\n",
              "        0.5641, 0.563 , 0.5622, 0.5624, 0.5669, 0.5681, 0.5655, 0.5659,\n",
              "        0.5656, 0.5642, 0.5646, 0.5635, 0.5629, 0.562 ]),\n",
              " 'param_rf_clf__max_depth': masked_array(data=[1, 1, 1, 1, 1, 1, 1, 1, 1, 1, 2, 2, 2, 2, 2, 2, 2, 2,\n",
              "                    2, 2, 3, 3, 3, 3, 3, 3, 3, 3, 3, 3, 4, 4, 4, 4, 4, 4,\n",
              "                    4, 4, 4, 4, 5, 5, 5, 5, 5, 5, 5, 5, 5, 5, 6, 6, 6, 6,\n",
              "                    6, 6, 6, 6, 6, 6, 7, 7, 7, 7, 7, 7, 7, 7, 7, 7, 8, 8,\n",
              "                    8, 8, 8, 8, 8, 8, 8, 8, 9, 9, 9, 9, 9, 9, 9, 9, 9, 9,\n",
              "                    10, 10, 10, 10, 10, 10, 10, 10, 10, 10, 11, 11, 11, 11,\n",
              "                    11, 11, 11, 11, 11, 11, 12, 12, 12, 12, 12, 12, 12, 12,\n",
              "                    12, 12, 13, 13, 13, 13, 13, 13, 13, 13, 13, 13, 14, 14,\n",
              "                    14, 14, 14, 14, 14, 14, 14, 14, 15, 15, 15, 15, 15, 15,\n",
              "                    15, 15, 15, 15],\n",
              "              mask=[False, False, False, False, False, False, False, False,\n",
              "                    False, False, False, False, False, False, False, False,\n",
              "                    False, False, False, False, False, False, False, False,\n",
              "                    False, False, False, False, False, False, False, False,\n",
              "                    False, False, False, False, False, False, False, False,\n",
              "                    False, False, False, False, False, False, False, False,\n",
              "                    False, False, False, False, False, False, False, False,\n",
              "                    False, False, False, False, False, False, False, False,\n",
              "                    False, False, False, False, False, False, False, False,\n",
              "                    False, False, False, False, False, False, False, False,\n",
              "                    False, False, False, False, False, False, False, False,\n",
              "                    False, False, False, False, False, False, False, False,\n",
              "                    False, False, False, False, False, False, False, False,\n",
              "                    False, False, False, False, False, False, False, False,\n",
              "                    False, False, False, False, False, False, False, False,\n",
              "                    False, False, False, False, False, False, False, False,\n",
              "                    False, False, False, False, False, False, False, False,\n",
              "                    False, False, False, False, False, False, False, False,\n",
              "                    False, False, False, False, False, False],\n",
              "        fill_value='?',\n",
              "             dtype=object),\n",
              " 'param_rf_tfidf__ngram_range': masked_array(data=[(1, 1), (1, 1), (1, 2), (1, 2), (1, 3), (1, 3), (1, 4),\n",
              "                    (1, 4), (1, 5), (1, 5), (1, 1), (1, 1), (1, 2), (1, 2),\n",
              "                    (1, 3), (1, 3), (1, 4), (1, 4), (1, 5), (1, 5), (1, 1),\n",
              "                    (1, 1), (1, 2), (1, 2), (1, 3), (1, 3), (1, 4), (1, 4),\n",
              "                    (1, 5), (1, 5), (1, 1), (1, 1), (1, 2), (1, 2), (1, 3),\n",
              "                    (1, 3), (1, 4), (1, 4), (1, 5), (1, 5), (1, 1), (1, 1),\n",
              "                    (1, 2), (1, 2), (1, 3), (1, 3), (1, 4), (1, 4), (1, 5),\n",
              "                    (1, 5), (1, 1), (1, 1), (1, 2), (1, 2), (1, 3), (1, 3),\n",
              "                    (1, 4), (1, 4), (1, 5), (1, 5), (1, 1), (1, 1), (1, 2),\n",
              "                    (1, 2), (1, 3), (1, 3), (1, 4), (1, 4), (1, 5), (1, 5),\n",
              "                    (1, 1), (1, 1), (1, 2), (1, 2), (1, 3), (1, 3), (1, 4),\n",
              "                    (1, 4), (1, 5), (1, 5), (1, 1), (1, 1), (1, 2), (1, 2),\n",
              "                    (1, 3), (1, 3), (1, 4), (1, 4), (1, 5), (1, 5), (1, 1),\n",
              "                    (1, 1), (1, 2), (1, 2), (1, 3), (1, 3), (1, 4), (1, 4),\n",
              "                    (1, 5), (1, 5), (1, 1), (1, 1), (1, 2), (1, 2), (1, 3),\n",
              "                    (1, 3), (1, 4), (1, 4), (1, 5), (1, 5), (1, 1), (1, 1),\n",
              "                    (1, 2), (1, 2), (1, 3), (1, 3), (1, 4), (1, 4), (1, 5),\n",
              "                    (1, 5), (1, 1), (1, 1), (1, 2), (1, 2), (1, 3), (1, 3),\n",
              "                    (1, 4), (1, 4), (1, 5), (1, 5), (1, 1), (1, 1), (1, 2),\n",
              "                    (1, 2), (1, 3), (1, 3), (1, 4), (1, 4), (1, 5), (1, 5),\n",
              "                    (1, 1), (1, 1), (1, 2), (1, 2), (1, 3), (1, 3), (1, 4),\n",
              "                    (1, 4), (1, 5), (1, 5)],\n",
              "              mask=[False, False, False, False, False, False, False, False,\n",
              "                    False, False, False, False, False, False, False, False,\n",
              "                    False, False, False, False, False, False, False, False,\n",
              "                    False, False, False, False, False, False, False, False,\n",
              "                    False, False, False, False, False, False, False, False,\n",
              "                    False, False, False, False, False, False, False, False,\n",
              "                    False, False, False, False, False, False, False, False,\n",
              "                    False, False, False, False, False, False, False, False,\n",
              "                    False, False, False, False, False, False, False, False,\n",
              "                    False, False, False, False, False, False, False, False,\n",
              "                    False, False, False, False, False, False, False, False,\n",
              "                    False, False, False, False, False, False, False, False,\n",
              "                    False, False, False, False, False, False, False, False,\n",
              "                    False, False, False, False, False, False, False, False,\n",
              "                    False, False, False, False, False, False, False, False,\n",
              "                    False, False, False, False, False, False, False, False,\n",
              "                    False, False, False, False, False, False, False, False,\n",
              "                    False, False, False, False, False, False, False, False,\n",
              "                    False, False, False, False, False, False],\n",
              "        fill_value='?',\n",
              "             dtype=object),\n",
              " 'param_rf_tfidf__use_idf': masked_array(data=[True, False, True, False, True, False, True, False,\n",
              "                    True, False, True, False, True, False, True, False,\n",
              "                    True, False, True, False, True, False, True, False,\n",
              "                    True, False, True, False, True, False, True, False,\n",
              "                    True, False, True, False, True, False, True, False,\n",
              "                    True, False, True, False, True, False, True, False,\n",
              "                    True, False, True, False, True, False, True, False,\n",
              "                    True, False, True, False, True, False, True, False,\n",
              "                    True, False, True, False, True, False, True, False,\n",
              "                    True, False, True, False, True, False, True, False,\n",
              "                    True, False, True, False, True, False, True, False,\n",
              "                    True, False, True, False, True, False, True, False,\n",
              "                    True, False, True, False, True, False, True, False,\n",
              "                    True, False, True, False, True, False, True, False,\n",
              "                    True, False, True, False, True, False, True, False,\n",
              "                    True, False, True, False, True, False, True, False,\n",
              "                    True, False, True, False, True, False, True, False,\n",
              "                    True, False, True, False, True, False, True, False,\n",
              "                    True, False, True, False, True, False],\n",
              "              mask=[False, False, False, False, False, False, False, False,\n",
              "                    False, False, False, False, False, False, False, False,\n",
              "                    False, False, False, False, False, False, False, False,\n",
              "                    False, False, False, False, False, False, False, False,\n",
              "                    False, False, False, False, False, False, False, False,\n",
              "                    False, False, False, False, False, False, False, False,\n",
              "                    False, False, False, False, False, False, False, False,\n",
              "                    False, False, False, False, False, False, False, False,\n",
              "                    False, False, False, False, False, False, False, False,\n",
              "                    False, False, False, False, False, False, False, False,\n",
              "                    False, False, False, False, False, False, False, False,\n",
              "                    False, False, False, False, False, False, False, False,\n",
              "                    False, False, False, False, False, False, False, False,\n",
              "                    False, False, False, False, False, False, False, False,\n",
              "                    False, False, False, False, False, False, False, False,\n",
              "                    False, False, False, False, False, False, False, False,\n",
              "                    False, False, False, False, False, False, False, False,\n",
              "                    False, False, False, False, False, False, False, False,\n",
              "                    False, False, False, False, False, False],\n",
              "        fill_value='?',\n",
              "             dtype=object),\n",
              " 'params': [{'rf_clf__max_depth': 1,\n",
              "   'rf_tfidf__ngram_range': (1, 1),\n",
              "   'rf_tfidf__use_idf': True},\n",
              "  {'rf_clf__max_depth': 1,\n",
              "   'rf_tfidf__ngram_range': (1, 1),\n",
              "   'rf_tfidf__use_idf': False},\n",
              "  {'rf_clf__max_depth': 1,\n",
              "   'rf_tfidf__ngram_range': (1, 2),\n",
              "   'rf_tfidf__use_idf': True},\n",
              "  {'rf_clf__max_depth': 1,\n",
              "   'rf_tfidf__ngram_range': (1, 2),\n",
              "   'rf_tfidf__use_idf': False},\n",
              "  {'rf_clf__max_depth': 1,\n",
              "   'rf_tfidf__ngram_range': (1, 3),\n",
              "   'rf_tfidf__use_idf': True},\n",
              "  {'rf_clf__max_depth': 1,\n",
              "   'rf_tfidf__ngram_range': (1, 3),\n",
              "   'rf_tfidf__use_idf': False},\n",
              "  {'rf_clf__max_depth': 1,\n",
              "   'rf_tfidf__ngram_range': (1, 4),\n",
              "   'rf_tfidf__use_idf': True},\n",
              "  {'rf_clf__max_depth': 1,\n",
              "   'rf_tfidf__ngram_range': (1, 4),\n",
              "   'rf_tfidf__use_idf': False},\n",
              "  {'rf_clf__max_depth': 1,\n",
              "   'rf_tfidf__ngram_range': (1, 5),\n",
              "   'rf_tfidf__use_idf': True},\n",
              "  {'rf_clf__max_depth': 1,\n",
              "   'rf_tfidf__ngram_range': (1, 5),\n",
              "   'rf_tfidf__use_idf': False},\n",
              "  {'rf_clf__max_depth': 2,\n",
              "   'rf_tfidf__ngram_range': (1, 1),\n",
              "   'rf_tfidf__use_idf': True},\n",
              "  {'rf_clf__max_depth': 2,\n",
              "   'rf_tfidf__ngram_range': (1, 1),\n",
              "   'rf_tfidf__use_idf': False},\n",
              "  {'rf_clf__max_depth': 2,\n",
              "   'rf_tfidf__ngram_range': (1, 2),\n",
              "   'rf_tfidf__use_idf': True},\n",
              "  {'rf_clf__max_depth': 2,\n",
              "   'rf_tfidf__ngram_range': (1, 2),\n",
              "   'rf_tfidf__use_idf': False},\n",
              "  {'rf_clf__max_depth': 2,\n",
              "   'rf_tfidf__ngram_range': (1, 3),\n",
              "   'rf_tfidf__use_idf': True},\n",
              "  {'rf_clf__max_depth': 2,\n",
              "   'rf_tfidf__ngram_range': (1, 3),\n",
              "   'rf_tfidf__use_idf': False},\n",
              "  {'rf_clf__max_depth': 2,\n",
              "   'rf_tfidf__ngram_range': (1, 4),\n",
              "   'rf_tfidf__use_idf': True},\n",
              "  {'rf_clf__max_depth': 2,\n",
              "   'rf_tfidf__ngram_range': (1, 4),\n",
              "   'rf_tfidf__use_idf': False},\n",
              "  {'rf_clf__max_depth': 2,\n",
              "   'rf_tfidf__ngram_range': (1, 5),\n",
              "   'rf_tfidf__use_idf': True},\n",
              "  {'rf_clf__max_depth': 2,\n",
              "   'rf_tfidf__ngram_range': (1, 5),\n",
              "   'rf_tfidf__use_idf': False},\n",
              "  {'rf_clf__max_depth': 3,\n",
              "   'rf_tfidf__ngram_range': (1, 1),\n",
              "   'rf_tfidf__use_idf': True},\n",
              "  {'rf_clf__max_depth': 3,\n",
              "   'rf_tfidf__ngram_range': (1, 1),\n",
              "   'rf_tfidf__use_idf': False},\n",
              "  {'rf_clf__max_depth': 3,\n",
              "   'rf_tfidf__ngram_range': (1, 2),\n",
              "   'rf_tfidf__use_idf': True},\n",
              "  {'rf_clf__max_depth': 3,\n",
              "   'rf_tfidf__ngram_range': (1, 2),\n",
              "   'rf_tfidf__use_idf': False},\n",
              "  {'rf_clf__max_depth': 3,\n",
              "   'rf_tfidf__ngram_range': (1, 3),\n",
              "   'rf_tfidf__use_idf': True},\n",
              "  {'rf_clf__max_depth': 3,\n",
              "   'rf_tfidf__ngram_range': (1, 3),\n",
              "   'rf_tfidf__use_idf': False},\n",
              "  {'rf_clf__max_depth': 3,\n",
              "   'rf_tfidf__ngram_range': (1, 4),\n",
              "   'rf_tfidf__use_idf': True},\n",
              "  {'rf_clf__max_depth': 3,\n",
              "   'rf_tfidf__ngram_range': (1, 4),\n",
              "   'rf_tfidf__use_idf': False},\n",
              "  {'rf_clf__max_depth': 3,\n",
              "   'rf_tfidf__ngram_range': (1, 5),\n",
              "   'rf_tfidf__use_idf': True},\n",
              "  {'rf_clf__max_depth': 3,\n",
              "   'rf_tfidf__ngram_range': (1, 5),\n",
              "   'rf_tfidf__use_idf': False},\n",
              "  {'rf_clf__max_depth': 4,\n",
              "   'rf_tfidf__ngram_range': (1, 1),\n",
              "   'rf_tfidf__use_idf': True},\n",
              "  {'rf_clf__max_depth': 4,\n",
              "   'rf_tfidf__ngram_range': (1, 1),\n",
              "   'rf_tfidf__use_idf': False},\n",
              "  {'rf_clf__max_depth': 4,\n",
              "   'rf_tfidf__ngram_range': (1, 2),\n",
              "   'rf_tfidf__use_idf': True},\n",
              "  {'rf_clf__max_depth': 4,\n",
              "   'rf_tfidf__ngram_range': (1, 2),\n",
              "   'rf_tfidf__use_idf': False},\n",
              "  {'rf_clf__max_depth': 4,\n",
              "   'rf_tfidf__ngram_range': (1, 3),\n",
              "   'rf_tfidf__use_idf': True},\n",
              "  {'rf_clf__max_depth': 4,\n",
              "   'rf_tfidf__ngram_range': (1, 3),\n",
              "   'rf_tfidf__use_idf': False},\n",
              "  {'rf_clf__max_depth': 4,\n",
              "   'rf_tfidf__ngram_range': (1, 4),\n",
              "   'rf_tfidf__use_idf': True},\n",
              "  {'rf_clf__max_depth': 4,\n",
              "   'rf_tfidf__ngram_range': (1, 4),\n",
              "   'rf_tfidf__use_idf': False},\n",
              "  {'rf_clf__max_depth': 4,\n",
              "   'rf_tfidf__ngram_range': (1, 5),\n",
              "   'rf_tfidf__use_idf': True},\n",
              "  {'rf_clf__max_depth': 4,\n",
              "   'rf_tfidf__ngram_range': (1, 5),\n",
              "   'rf_tfidf__use_idf': False},\n",
              "  {'rf_clf__max_depth': 5,\n",
              "   'rf_tfidf__ngram_range': (1, 1),\n",
              "   'rf_tfidf__use_idf': True},\n",
              "  {'rf_clf__max_depth': 5,\n",
              "   'rf_tfidf__ngram_range': (1, 1),\n",
              "   'rf_tfidf__use_idf': False},\n",
              "  {'rf_clf__max_depth': 5,\n",
              "   'rf_tfidf__ngram_range': (1, 2),\n",
              "   'rf_tfidf__use_idf': True},\n",
              "  {'rf_clf__max_depth': 5,\n",
              "   'rf_tfidf__ngram_range': (1, 2),\n",
              "   'rf_tfidf__use_idf': False},\n",
              "  {'rf_clf__max_depth': 5,\n",
              "   'rf_tfidf__ngram_range': (1, 3),\n",
              "   'rf_tfidf__use_idf': True},\n",
              "  {'rf_clf__max_depth': 5,\n",
              "   'rf_tfidf__ngram_range': (1, 3),\n",
              "   'rf_tfidf__use_idf': False},\n",
              "  {'rf_clf__max_depth': 5,\n",
              "   'rf_tfidf__ngram_range': (1, 4),\n",
              "   'rf_tfidf__use_idf': True},\n",
              "  {'rf_clf__max_depth': 5,\n",
              "   'rf_tfidf__ngram_range': (1, 4),\n",
              "   'rf_tfidf__use_idf': False},\n",
              "  {'rf_clf__max_depth': 5,\n",
              "   'rf_tfidf__ngram_range': (1, 5),\n",
              "   'rf_tfidf__use_idf': True},\n",
              "  {'rf_clf__max_depth': 5,\n",
              "   'rf_tfidf__ngram_range': (1, 5),\n",
              "   'rf_tfidf__use_idf': False},\n",
              "  {'rf_clf__max_depth': 6,\n",
              "   'rf_tfidf__ngram_range': (1, 1),\n",
              "   'rf_tfidf__use_idf': True},\n",
              "  {'rf_clf__max_depth': 6,\n",
              "   'rf_tfidf__ngram_range': (1, 1),\n",
              "   'rf_tfidf__use_idf': False},\n",
              "  {'rf_clf__max_depth': 6,\n",
              "   'rf_tfidf__ngram_range': (1, 2),\n",
              "   'rf_tfidf__use_idf': True},\n",
              "  {'rf_clf__max_depth': 6,\n",
              "   'rf_tfidf__ngram_range': (1, 2),\n",
              "   'rf_tfidf__use_idf': False},\n",
              "  {'rf_clf__max_depth': 6,\n",
              "   'rf_tfidf__ngram_range': (1, 3),\n",
              "   'rf_tfidf__use_idf': True},\n",
              "  {'rf_clf__max_depth': 6,\n",
              "   'rf_tfidf__ngram_range': (1, 3),\n",
              "   'rf_tfidf__use_idf': False},\n",
              "  {'rf_clf__max_depth': 6,\n",
              "   'rf_tfidf__ngram_range': (1, 4),\n",
              "   'rf_tfidf__use_idf': True},\n",
              "  {'rf_clf__max_depth': 6,\n",
              "   'rf_tfidf__ngram_range': (1, 4),\n",
              "   'rf_tfidf__use_idf': False},\n",
              "  {'rf_clf__max_depth': 6,\n",
              "   'rf_tfidf__ngram_range': (1, 5),\n",
              "   'rf_tfidf__use_idf': True},\n",
              "  {'rf_clf__max_depth': 6,\n",
              "   'rf_tfidf__ngram_range': (1, 5),\n",
              "   'rf_tfidf__use_idf': False},\n",
              "  {'rf_clf__max_depth': 7,\n",
              "   'rf_tfidf__ngram_range': (1, 1),\n",
              "   'rf_tfidf__use_idf': True},\n",
              "  {'rf_clf__max_depth': 7,\n",
              "   'rf_tfidf__ngram_range': (1, 1),\n",
              "   'rf_tfidf__use_idf': False},\n",
              "  {'rf_clf__max_depth': 7,\n",
              "   'rf_tfidf__ngram_range': (1, 2),\n",
              "   'rf_tfidf__use_idf': True},\n",
              "  {'rf_clf__max_depth': 7,\n",
              "   'rf_tfidf__ngram_range': (1, 2),\n",
              "   'rf_tfidf__use_idf': False},\n",
              "  {'rf_clf__max_depth': 7,\n",
              "   'rf_tfidf__ngram_range': (1, 3),\n",
              "   'rf_tfidf__use_idf': True},\n",
              "  {'rf_clf__max_depth': 7,\n",
              "   'rf_tfidf__ngram_range': (1, 3),\n",
              "   'rf_tfidf__use_idf': False},\n",
              "  {'rf_clf__max_depth': 7,\n",
              "   'rf_tfidf__ngram_range': (1, 4),\n",
              "   'rf_tfidf__use_idf': True},\n",
              "  {'rf_clf__max_depth': 7,\n",
              "   'rf_tfidf__ngram_range': (1, 4),\n",
              "   'rf_tfidf__use_idf': False},\n",
              "  {'rf_clf__max_depth': 7,\n",
              "   'rf_tfidf__ngram_range': (1, 5),\n",
              "   'rf_tfidf__use_idf': True},\n",
              "  {'rf_clf__max_depth': 7,\n",
              "   'rf_tfidf__ngram_range': (1, 5),\n",
              "   'rf_tfidf__use_idf': False},\n",
              "  {'rf_clf__max_depth': 8,\n",
              "   'rf_tfidf__ngram_range': (1, 1),\n",
              "   'rf_tfidf__use_idf': True},\n",
              "  {'rf_clf__max_depth': 8,\n",
              "   'rf_tfidf__ngram_range': (1, 1),\n",
              "   'rf_tfidf__use_idf': False},\n",
              "  {'rf_clf__max_depth': 8,\n",
              "   'rf_tfidf__ngram_range': (1, 2),\n",
              "   'rf_tfidf__use_idf': True},\n",
              "  {'rf_clf__max_depth': 8,\n",
              "   'rf_tfidf__ngram_range': (1, 2),\n",
              "   'rf_tfidf__use_idf': False},\n",
              "  {'rf_clf__max_depth': 8,\n",
              "   'rf_tfidf__ngram_range': (1, 3),\n",
              "   'rf_tfidf__use_idf': True},\n",
              "  {'rf_clf__max_depth': 8,\n",
              "   'rf_tfidf__ngram_range': (1, 3),\n",
              "   'rf_tfidf__use_idf': False},\n",
              "  {'rf_clf__max_depth': 8,\n",
              "   'rf_tfidf__ngram_range': (1, 4),\n",
              "   'rf_tfidf__use_idf': True},\n",
              "  {'rf_clf__max_depth': 8,\n",
              "   'rf_tfidf__ngram_range': (1, 4),\n",
              "   'rf_tfidf__use_idf': False},\n",
              "  {'rf_clf__max_depth': 8,\n",
              "   'rf_tfidf__ngram_range': (1, 5),\n",
              "   'rf_tfidf__use_idf': True},\n",
              "  {'rf_clf__max_depth': 8,\n",
              "   'rf_tfidf__ngram_range': (1, 5),\n",
              "   'rf_tfidf__use_idf': False},\n",
              "  {'rf_clf__max_depth': 9,\n",
              "   'rf_tfidf__ngram_range': (1, 1),\n",
              "   'rf_tfidf__use_idf': True},\n",
              "  {'rf_clf__max_depth': 9,\n",
              "   'rf_tfidf__ngram_range': (1, 1),\n",
              "   'rf_tfidf__use_idf': False},\n",
              "  {'rf_clf__max_depth': 9,\n",
              "   'rf_tfidf__ngram_range': (1, 2),\n",
              "   'rf_tfidf__use_idf': True},\n",
              "  {'rf_clf__max_depth': 9,\n",
              "   'rf_tfidf__ngram_range': (1, 2),\n",
              "   'rf_tfidf__use_idf': False},\n",
              "  {'rf_clf__max_depth': 9,\n",
              "   'rf_tfidf__ngram_range': (1, 3),\n",
              "   'rf_tfidf__use_idf': True},\n",
              "  {'rf_clf__max_depth': 9,\n",
              "   'rf_tfidf__ngram_range': (1, 3),\n",
              "   'rf_tfidf__use_idf': False},\n",
              "  {'rf_clf__max_depth': 9,\n",
              "   'rf_tfidf__ngram_range': (1, 4),\n",
              "   'rf_tfidf__use_idf': True},\n",
              "  {'rf_clf__max_depth': 9,\n",
              "   'rf_tfidf__ngram_range': (1, 4),\n",
              "   'rf_tfidf__use_idf': False},\n",
              "  {'rf_clf__max_depth': 9,\n",
              "   'rf_tfidf__ngram_range': (1, 5),\n",
              "   'rf_tfidf__use_idf': True},\n",
              "  {'rf_clf__max_depth': 9,\n",
              "   'rf_tfidf__ngram_range': (1, 5),\n",
              "   'rf_tfidf__use_idf': False},\n",
              "  {'rf_clf__max_depth': 10,\n",
              "   'rf_tfidf__ngram_range': (1, 1),\n",
              "   'rf_tfidf__use_idf': True},\n",
              "  {'rf_clf__max_depth': 10,\n",
              "   'rf_tfidf__ngram_range': (1, 1),\n",
              "   'rf_tfidf__use_idf': False},\n",
              "  {'rf_clf__max_depth': 10,\n",
              "   'rf_tfidf__ngram_range': (1, 2),\n",
              "   'rf_tfidf__use_idf': True},\n",
              "  {'rf_clf__max_depth': 10,\n",
              "   'rf_tfidf__ngram_range': (1, 2),\n",
              "   'rf_tfidf__use_idf': False},\n",
              "  {'rf_clf__max_depth': 10,\n",
              "   'rf_tfidf__ngram_range': (1, 3),\n",
              "   'rf_tfidf__use_idf': True},\n",
              "  {'rf_clf__max_depth': 10,\n",
              "   'rf_tfidf__ngram_range': (1, 3),\n",
              "   'rf_tfidf__use_idf': False},\n",
              "  {'rf_clf__max_depth': 10,\n",
              "   'rf_tfidf__ngram_range': (1, 4),\n",
              "   'rf_tfidf__use_idf': True},\n",
              "  {'rf_clf__max_depth': 10,\n",
              "   'rf_tfidf__ngram_range': (1, 4),\n",
              "   'rf_tfidf__use_idf': False},\n",
              "  {'rf_clf__max_depth': 10,\n",
              "   'rf_tfidf__ngram_range': (1, 5),\n",
              "   'rf_tfidf__use_idf': True},\n",
              "  {'rf_clf__max_depth': 10,\n",
              "   'rf_tfidf__ngram_range': (1, 5),\n",
              "   'rf_tfidf__use_idf': False},\n",
              "  {'rf_clf__max_depth': 11,\n",
              "   'rf_tfidf__ngram_range': (1, 1),\n",
              "   'rf_tfidf__use_idf': True},\n",
              "  {'rf_clf__max_depth': 11,\n",
              "   'rf_tfidf__ngram_range': (1, 1),\n",
              "   'rf_tfidf__use_idf': False},\n",
              "  {'rf_clf__max_depth': 11,\n",
              "   'rf_tfidf__ngram_range': (1, 2),\n",
              "   'rf_tfidf__use_idf': True},\n",
              "  {'rf_clf__max_depth': 11,\n",
              "   'rf_tfidf__ngram_range': (1, 2),\n",
              "   'rf_tfidf__use_idf': False},\n",
              "  {'rf_clf__max_depth': 11,\n",
              "   'rf_tfidf__ngram_range': (1, 3),\n",
              "   'rf_tfidf__use_idf': True},\n",
              "  {'rf_clf__max_depth': 11,\n",
              "   'rf_tfidf__ngram_range': (1, 3),\n",
              "   'rf_tfidf__use_idf': False},\n",
              "  {'rf_clf__max_depth': 11,\n",
              "   'rf_tfidf__ngram_range': (1, 4),\n",
              "   'rf_tfidf__use_idf': True},\n",
              "  {'rf_clf__max_depth': 11,\n",
              "   'rf_tfidf__ngram_range': (1, 4),\n",
              "   'rf_tfidf__use_idf': False},\n",
              "  {'rf_clf__max_depth': 11,\n",
              "   'rf_tfidf__ngram_range': (1, 5),\n",
              "   'rf_tfidf__use_idf': True},\n",
              "  {'rf_clf__max_depth': 11,\n",
              "   'rf_tfidf__ngram_range': (1, 5),\n",
              "   'rf_tfidf__use_idf': False},\n",
              "  {'rf_clf__max_depth': 12,\n",
              "   'rf_tfidf__ngram_range': (1, 1),\n",
              "   'rf_tfidf__use_idf': True},\n",
              "  {'rf_clf__max_depth': 12,\n",
              "   'rf_tfidf__ngram_range': (1, 1),\n",
              "   'rf_tfidf__use_idf': False},\n",
              "  {'rf_clf__max_depth': 12,\n",
              "   'rf_tfidf__ngram_range': (1, 2),\n",
              "   'rf_tfidf__use_idf': True},\n",
              "  {'rf_clf__max_depth': 12,\n",
              "   'rf_tfidf__ngram_range': (1, 2),\n",
              "   'rf_tfidf__use_idf': False},\n",
              "  {'rf_clf__max_depth': 12,\n",
              "   'rf_tfidf__ngram_range': (1, 3),\n",
              "   'rf_tfidf__use_idf': True},\n",
              "  {'rf_clf__max_depth': 12,\n",
              "   'rf_tfidf__ngram_range': (1, 3),\n",
              "   'rf_tfidf__use_idf': False},\n",
              "  {'rf_clf__max_depth': 12,\n",
              "   'rf_tfidf__ngram_range': (1, 4),\n",
              "   'rf_tfidf__use_idf': True},\n",
              "  {'rf_clf__max_depth': 12,\n",
              "   'rf_tfidf__ngram_range': (1, 4),\n",
              "   'rf_tfidf__use_idf': False},\n",
              "  {'rf_clf__max_depth': 12,\n",
              "   'rf_tfidf__ngram_range': (1, 5),\n",
              "   'rf_tfidf__use_idf': True},\n",
              "  {'rf_clf__max_depth': 12,\n",
              "   'rf_tfidf__ngram_range': (1, 5),\n",
              "   'rf_tfidf__use_idf': False},\n",
              "  {'rf_clf__max_depth': 13,\n",
              "   'rf_tfidf__ngram_range': (1, 1),\n",
              "   'rf_tfidf__use_idf': True},\n",
              "  {'rf_clf__max_depth': 13,\n",
              "   'rf_tfidf__ngram_range': (1, 1),\n",
              "   'rf_tfidf__use_idf': False},\n",
              "  {'rf_clf__max_depth': 13,\n",
              "   'rf_tfidf__ngram_range': (1, 2),\n",
              "   'rf_tfidf__use_idf': True},\n",
              "  {'rf_clf__max_depth': 13,\n",
              "   'rf_tfidf__ngram_range': (1, 2),\n",
              "   'rf_tfidf__use_idf': False},\n",
              "  {'rf_clf__max_depth': 13,\n",
              "   'rf_tfidf__ngram_range': (1, 3),\n",
              "   'rf_tfidf__use_idf': True},\n",
              "  {'rf_clf__max_depth': 13,\n",
              "   'rf_tfidf__ngram_range': (1, 3),\n",
              "   'rf_tfidf__use_idf': False},\n",
              "  {'rf_clf__max_depth': 13,\n",
              "   'rf_tfidf__ngram_range': (1, 4),\n",
              "   'rf_tfidf__use_idf': True},\n",
              "  {'rf_clf__max_depth': 13,\n",
              "   'rf_tfidf__ngram_range': (1, 4),\n",
              "   'rf_tfidf__use_idf': False},\n",
              "  {'rf_clf__max_depth': 13,\n",
              "   'rf_tfidf__ngram_range': (1, 5),\n",
              "   'rf_tfidf__use_idf': True},\n",
              "  {'rf_clf__max_depth': 13,\n",
              "   'rf_tfidf__ngram_range': (1, 5),\n",
              "   'rf_tfidf__use_idf': False},\n",
              "  {'rf_clf__max_depth': 14,\n",
              "   'rf_tfidf__ngram_range': (1, 1),\n",
              "   'rf_tfidf__use_idf': True},\n",
              "  {'rf_clf__max_depth': 14,\n",
              "   'rf_tfidf__ngram_range': (1, 1),\n",
              "   'rf_tfidf__use_idf': False},\n",
              "  {'rf_clf__max_depth': 14,\n",
              "   'rf_tfidf__ngram_range': (1, 2),\n",
              "   'rf_tfidf__use_idf': True},\n",
              "  {'rf_clf__max_depth': 14,\n",
              "   'rf_tfidf__ngram_range': (1, 2),\n",
              "   'rf_tfidf__use_idf': False},\n",
              "  {'rf_clf__max_depth': 14,\n",
              "   'rf_tfidf__ngram_range': (1, 3),\n",
              "   'rf_tfidf__use_idf': True},\n",
              "  {'rf_clf__max_depth': 14,\n",
              "   'rf_tfidf__ngram_range': (1, 3),\n",
              "   'rf_tfidf__use_idf': False},\n",
              "  {'rf_clf__max_depth': 14,\n",
              "   'rf_tfidf__ngram_range': (1, 4),\n",
              "   'rf_tfidf__use_idf': True},\n",
              "  {'rf_clf__max_depth': 14,\n",
              "   'rf_tfidf__ngram_range': (1, 4),\n",
              "   'rf_tfidf__use_idf': False},\n",
              "  {'rf_clf__max_depth': 14,\n",
              "   'rf_tfidf__ngram_range': (1, 5),\n",
              "   'rf_tfidf__use_idf': True},\n",
              "  {'rf_clf__max_depth': 14,\n",
              "   'rf_tfidf__ngram_range': (1, 5),\n",
              "   'rf_tfidf__use_idf': False},\n",
              "  {'rf_clf__max_depth': 15,\n",
              "   'rf_tfidf__ngram_range': (1, 1),\n",
              "   'rf_tfidf__use_idf': True},\n",
              "  {'rf_clf__max_depth': 15,\n",
              "   'rf_tfidf__ngram_range': (1, 1),\n",
              "   'rf_tfidf__use_idf': False},\n",
              "  {'rf_clf__max_depth': 15,\n",
              "   'rf_tfidf__ngram_range': (1, 2),\n",
              "   'rf_tfidf__use_idf': True},\n",
              "  {'rf_clf__max_depth': 15,\n",
              "   'rf_tfidf__ngram_range': (1, 2),\n",
              "   'rf_tfidf__use_idf': False},\n",
              "  {'rf_clf__max_depth': 15,\n",
              "   'rf_tfidf__ngram_range': (1, 3),\n",
              "   'rf_tfidf__use_idf': True},\n",
              "  {'rf_clf__max_depth': 15,\n",
              "   'rf_tfidf__ngram_range': (1, 3),\n",
              "   'rf_tfidf__use_idf': False},\n",
              "  {'rf_clf__max_depth': 15,\n",
              "   'rf_tfidf__ngram_range': (1, 4),\n",
              "   'rf_tfidf__use_idf': True},\n",
              "  {'rf_clf__max_depth': 15,\n",
              "   'rf_tfidf__ngram_range': (1, 4),\n",
              "   'rf_tfidf__use_idf': False},\n",
              "  {'rf_clf__max_depth': 15,\n",
              "   'rf_tfidf__ngram_range': (1, 5),\n",
              "   'rf_tfidf__use_idf': True},\n",
              "  {'rf_clf__max_depth': 15,\n",
              "   'rf_tfidf__ngram_range': (1, 5),\n",
              "   'rf_tfidf__use_idf': False}],\n",
              " 'rank_test_score': array([ 78,  78,  78,  78,  78,  78,  78,  78,  78,  78,  78,  78,  78,\n",
              "         78,  78,  78,  78,  78,  78,  78,  78,  78,  78,  78,  78,  78,\n",
              "         78,  78,  78,  78,  78,  78,  78,  78,  78,  78,  78,  78,  78,\n",
              "         78,  78,  78,  78,  78,  78,  78,  78,  78,  78,  78,  71,  78,\n",
              "         78,  78,  78,  78,  78,  78,  78,  78,  78,  72,  78,  72,  70,\n",
              "        145,  72, 145,  78,  78,  59,  78,  67,  65,  53,  78,  68,  72,\n",
              "         68,  78,  63, 145,  72, 150,  48,  59,  58,  72, 145, 145,  41,\n",
              "         56,  48,  59,  28,  44,  78,  56,  63,  59,  28,  25,  23,  38,\n",
              "         32,  48,  43,  53,  47,  48,  23,  30,  19,  53,  35,  35,  41,\n",
              "         46,  32,  65,  10,   7,  16,  30,  15,  19,  38,  25,  35,  32,\n",
              "         12,   4,   8,  17,   8,  18,  14,  22,  44,  38,   2,   1,   6,\n",
              "          3,   5,  13,  11,  21,  25,  48], dtype=int32),\n",
              " 'split0_test_score': array([0.561 , 0.561 , 0.561 , 0.561 , 0.561 , 0.561 , 0.561 , 0.561 ,\n",
              "        0.561 , 0.561 , 0.561 , 0.561 , 0.561 , 0.561 , 0.561 , 0.561 ,\n",
              "        0.561 , 0.561 , 0.561 , 0.561 , 0.561 , 0.561 , 0.561 , 0.561 ,\n",
              "        0.561 , 0.561 , 0.561 , 0.561 , 0.561 , 0.561 , 0.561 , 0.561 ,\n",
              "        0.561 , 0.561 , 0.561 , 0.561 , 0.561 , 0.561 , 0.561 , 0.561 ,\n",
              "        0.561 , 0.561 , 0.561 , 0.561 , 0.561 , 0.561 , 0.561 , 0.561 ,\n",
              "        0.561 , 0.561 , 0.561 , 0.561 , 0.561 , 0.561 , 0.561 , 0.561 ,\n",
              "        0.561 , 0.561 , 0.561 , 0.561 , 0.561 , 0.561 , 0.561 , 0.561 ,\n",
              "        0.561 , 0.5605, 0.561 , 0.5605, 0.561 , 0.561 , 0.561 , 0.561 ,\n",
              "        0.5605, 0.561 , 0.5605, 0.5605, 0.5615, 0.561 , 0.5615, 0.561 ,\n",
              "        0.5605, 0.561 , 0.561 , 0.5605, 0.5615, 0.5615, 0.561 , 0.561 ,\n",
              "        0.5605, 0.5605, 0.5605, 0.5615, 0.561 , 0.561 , 0.562 , 0.5625,\n",
              "        0.5615, 0.5615, 0.5615, 0.5615, 0.5605, 0.5595, 0.562 , 0.5615,\n",
              "        0.561 , 0.561 , 0.5615, 0.5615, 0.5615, 0.5615, 0.56  , 0.5605,\n",
              "        0.5625, 0.562 , 0.561 , 0.563 , 0.5615, 0.5615, 0.5615, 0.5615,\n",
              "        0.56  , 0.5595, 0.563 , 0.562 , 0.5635, 0.5625, 0.562 , 0.562 ,\n",
              "        0.562 , 0.5615, 0.56  , 0.5635, 0.564 , 0.564 , 0.5655, 0.5625,\n",
              "        0.564 , 0.562 , 0.5615, 0.562 , 0.5645, 0.5665, 0.563 , 0.564 ,\n",
              "        0.5655, 0.562 , 0.5645, 0.562 , 0.563 , 0.562 ]),\n",
              " 'split1_test_score': array([0.561 , 0.561 , 0.561 , 0.561 , 0.561 , 0.561 , 0.561 , 0.561 ,\n",
              "        0.561 , 0.561 , 0.561 , 0.561 , 0.561 , 0.561 , 0.561 , 0.561 ,\n",
              "        0.561 , 0.561 , 0.561 , 0.561 , 0.561 , 0.561 , 0.561 , 0.561 ,\n",
              "        0.561 , 0.561 , 0.561 , 0.561 , 0.561 , 0.561 , 0.561 , 0.561 ,\n",
              "        0.561 , 0.561 , 0.561 , 0.561 , 0.561 , 0.561 , 0.561 , 0.561 ,\n",
              "        0.561 , 0.561 , 0.561 , 0.561 , 0.561 , 0.561 , 0.561 , 0.561 ,\n",
              "        0.561 , 0.561 , 0.561 , 0.561 , 0.561 , 0.561 , 0.561 , 0.561 ,\n",
              "        0.561 , 0.561 , 0.561 , 0.561 , 0.561 , 0.561 , 0.561 , 0.561 ,\n",
              "        0.561 , 0.561 , 0.561 , 0.561 , 0.561 , 0.561 , 0.562 , 0.5615,\n",
              "        0.561 , 0.561 , 0.561 , 0.561 , 0.561 , 0.561 , 0.561 , 0.561 ,\n",
              "        0.562 , 0.561 , 0.561 , 0.561 , 0.5615, 0.5615, 0.561 , 0.561 ,\n",
              "        0.561 , 0.561 , 0.562 , 0.562 , 0.5615, 0.561 , 0.562 , 0.5615,\n",
              "        0.5615, 0.561 , 0.5615, 0.561 , 0.563 , 0.5625, 0.5635, 0.5615,\n",
              "        0.5625, 0.562 , 0.5615, 0.561 , 0.561 , 0.561 , 0.565 , 0.5615,\n",
              "        0.564 , 0.5605, 0.564 , 0.562 , 0.5615, 0.5615, 0.563 , 0.5615,\n",
              "        0.565 , 0.5665, 0.564 , 0.562 , 0.565 , 0.564 , 0.5625, 0.564 ,\n",
              "        0.5615, 0.5615, 0.5645, 0.5675, 0.565 , 0.5625, 0.564 , 0.564 ,\n",
              "        0.5645, 0.5635, 0.5625, 0.562 , 0.5665, 0.57  , 0.5665, 0.5655,\n",
              "        0.5675, 0.565 , 0.5665, 0.564 , 0.5625, 0.562 ]),\n",
              " 'split2_test_score': array([0.561 , 0.561 , 0.561 , 0.561 , 0.561 , 0.561 , 0.561 , 0.561 ,\n",
              "        0.561 , 0.561 , 0.561 , 0.561 , 0.561 , 0.561 , 0.561 , 0.561 ,\n",
              "        0.561 , 0.561 , 0.561 , 0.561 , 0.561 , 0.561 , 0.561 , 0.561 ,\n",
              "        0.561 , 0.561 , 0.561 , 0.561 , 0.561 , 0.561 , 0.561 , 0.561 ,\n",
              "        0.561 , 0.561 , 0.561 , 0.561 , 0.561 , 0.561 , 0.561 , 0.561 ,\n",
              "        0.561 , 0.561 , 0.561 , 0.561 , 0.561 , 0.561 , 0.561 , 0.561 ,\n",
              "        0.561 , 0.561 , 0.561 , 0.561 , 0.561 , 0.561 , 0.561 , 0.561 ,\n",
              "        0.561 , 0.561 , 0.561 , 0.561 , 0.5605, 0.5615, 0.561 , 0.5615,\n",
              "        0.5615, 0.561 , 0.561 , 0.561 , 0.561 , 0.561 , 0.562 , 0.5605,\n",
              "        0.562 , 0.562 , 0.564 , 0.5615, 0.5615, 0.5615, 0.5615, 0.561 ,\n",
              "        0.562 , 0.5605, 0.5605, 0.5605, 0.5625, 0.5615, 0.5615, 0.5615,\n",
              "        0.561 , 0.561 , 0.5635, 0.5605, 0.5635, 0.562 , 0.5645, 0.561 ,\n",
              "        0.5595, 0.5615, 0.5615, 0.5615, 0.562 , 0.563 , 0.5625, 0.5625,\n",
              "        0.564 , 0.5625, 0.564 , 0.562 , 0.5615, 0.5635, 0.5625, 0.5645,\n",
              "        0.563 , 0.5625, 0.56  , 0.5615, 0.564 , 0.5625, 0.5635, 0.5595,\n",
              "        0.563 , 0.566 , 0.5625, 0.5605, 0.5605, 0.5655, 0.5615, 0.5615,\n",
              "        0.562 , 0.5625, 0.563 , 0.5665, 0.5635, 0.5625, 0.564 , 0.5635,\n",
              "        0.5625, 0.56  , 0.5615, 0.5615, 0.5675, 0.5685, 0.5645, 0.567 ,\n",
              "        0.563 , 0.5605, 0.563 , 0.563 , 0.56  , 0.559 ]),\n",
              " 'split3_test_score': array([0.561 , 0.561 , 0.561 , 0.561 , 0.561 , 0.561 , 0.561 , 0.561 ,\n",
              "        0.561 , 0.561 , 0.561 , 0.561 , 0.561 , 0.561 , 0.561 , 0.561 ,\n",
              "        0.561 , 0.561 , 0.561 , 0.561 , 0.561 , 0.561 , 0.561 , 0.561 ,\n",
              "        0.561 , 0.561 , 0.561 , 0.561 , 0.561 , 0.561 , 0.561 , 0.561 ,\n",
              "        0.561 , 0.561 , 0.561 , 0.561 , 0.561 , 0.561 , 0.561 , 0.561 ,\n",
              "        0.561 , 0.561 , 0.561 , 0.561 , 0.561 , 0.561 , 0.561 , 0.561 ,\n",
              "        0.561 , 0.561 , 0.5615, 0.561 , 0.561 , 0.561 , 0.561 , 0.561 ,\n",
              "        0.561 , 0.561 , 0.561 , 0.561 , 0.5615, 0.561 , 0.561 , 0.561 ,\n",
              "        0.561 , 0.561 , 0.561 , 0.561 , 0.561 , 0.561 , 0.5615, 0.561 ,\n",
              "        0.561 , 0.5615, 0.561 , 0.561 , 0.561 , 0.561 , 0.561 , 0.561 ,\n",
              "        0.5615, 0.561 , 0.561 , 0.561 , 0.562 , 0.562 , 0.562 , 0.561 ,\n",
              "        0.561 , 0.561 , 0.563 , 0.5625, 0.5615, 0.562 , 0.5625, 0.5625,\n",
              "        0.5615, 0.562 , 0.5615, 0.5625, 0.5645, 0.565 , 0.562 , 0.562 ,\n",
              "        0.5625, 0.5625, 0.5615, 0.562 , 0.563 , 0.562 , 0.564 , 0.5635,\n",
              "        0.564 , 0.562 , 0.5625, 0.5625, 0.562 , 0.5625, 0.5625, 0.5615,\n",
              "        0.568 , 0.568 , 0.5645, 0.564 , 0.5655, 0.563 , 0.562 , 0.5635,\n",
              "        0.5635, 0.5635, 0.568 , 0.5675, 0.565 , 0.565 , 0.565 , 0.564 ,\n",
              "        0.564 , 0.5655, 0.5625, 0.5635, 0.5695, 0.5685, 0.567 , 0.5665,\n",
              "        0.565 , 0.566 , 0.5635, 0.5645, 0.564 , 0.564 ]),\n",
              " 'split4_test_score': array([0.5615, 0.5615, 0.5615, 0.5615, 0.5615, 0.5615, 0.5615, 0.5615,\n",
              "        0.5615, 0.5615, 0.5615, 0.5615, 0.5615, 0.5615, 0.5615, 0.5615,\n",
              "        0.5615, 0.5615, 0.5615, 0.5615, 0.5615, 0.5615, 0.5615, 0.5615,\n",
              "        0.5615, 0.5615, 0.5615, 0.5615, 0.5615, 0.5615, 0.5615, 0.5615,\n",
              "        0.5615, 0.5615, 0.5615, 0.5615, 0.5615, 0.5615, 0.5615, 0.5615,\n",
              "        0.5615, 0.5615, 0.5615, 0.5615, 0.5615, 0.5615, 0.5615, 0.5615,\n",
              "        0.5615, 0.5615, 0.5615, 0.5615, 0.5615, 0.5615, 0.5615, 0.5615,\n",
              "        0.5615, 0.5615, 0.5615, 0.5615, 0.5615, 0.5615, 0.5615, 0.5615,\n",
              "        0.562 , 0.5615, 0.562 , 0.5615, 0.5615, 0.5615, 0.5615, 0.5615,\n",
              "        0.562 , 0.5615, 0.5625, 0.5615, 0.5615, 0.5615, 0.5615, 0.5615,\n",
              "        0.562 , 0.5615, 0.5625, 0.5615, 0.5625, 0.5615, 0.563 , 0.5615,\n",
              "        0.5615, 0.5615, 0.563 , 0.562 , 0.5625, 0.562 , 0.563 , 0.5635,\n",
              "        0.5615, 0.5625, 0.562 , 0.5615, 0.564 , 0.5645, 0.565 , 0.5645,\n",
              "        0.563 , 0.562 , 0.563 , 0.5625, 0.5635, 0.562 , 0.5635, 0.5635,\n",
              "        0.5645, 0.562 , 0.565 , 0.5635, 0.563 , 0.5625, 0.5625, 0.563 ,\n",
              "        0.568 , 0.567 , 0.565 , 0.565 , 0.566 , 0.563 , 0.564 , 0.5635,\n",
              "        0.5635, 0.564 , 0.5665, 0.564 , 0.567 , 0.5645, 0.566 , 0.564 ,\n",
              "        0.5655, 0.564 , 0.563 , 0.563 , 0.5665, 0.567 , 0.5665, 0.5665,\n",
              "        0.567 , 0.5675, 0.5655, 0.564 , 0.565 , 0.563 ]),\n",
              " 'std_fit_time': array([0.03411901, 0.00823577, 0.02109987, 0.03286608, 0.05949546,\n",
              "        0.03690908, 0.04143788, 0.01571614, 0.02285567, 0.02011173,\n",
              "        0.04681704, 0.03400942, 0.05227686, 0.0603205 , 0.05982909,\n",
              "        0.00773123, 0.01618045, 0.04913223, 0.03884924, 0.01499281,\n",
              "        0.03452163, 0.05917346, 0.08099137, 0.05446036, 0.02616429,\n",
              "        0.07638757, 0.04573974, 0.02078909, 0.02035864, 0.05174772,\n",
              "        0.03624357, 0.02114557, 0.02271764, 0.02940525, 0.01828891,\n",
              "        0.05584756, 0.07419799, 0.03833698, 0.05562722, 0.06580751,\n",
              "        0.04307122, 0.03548304, 0.03961059, 0.029711  , 0.05965759,\n",
              "        0.06252634, 0.04883699, 0.058344  , 0.09087872, 0.04940601,\n",
              "        0.03225232, 0.03058141, 0.04119631, 0.04976599, 0.06594519,\n",
              "        0.02492396, 0.049057  , 0.05981147, 0.0977043 , 0.109204  ,\n",
              "        0.0447637 , 0.04450585, 0.04321371, 0.05927273, 0.02541695,\n",
              "        0.05534151, 0.11549338, 0.09341605, 0.11035453, 0.06972891,\n",
              "        0.03798809, 0.05703271, 0.02374193, 0.04937561, 0.08504148,\n",
              "        0.03756741, 0.07395215, 0.0973768 , 0.08431044, 0.07253925,\n",
              "        0.03881123, 0.04050515, 0.08609822, 0.03748924, 0.10997195,\n",
              "        0.12554057, 0.08561929, 0.10240328, 0.14271993, 0.08484515,\n",
              "        0.03860694, 0.05016524, 0.05764438, 0.06090694, 0.04716291,\n",
              "        0.07283263, 0.05038799, 0.14129943, 0.17054334, 0.12410676,\n",
              "        0.04703571, 0.04011612, 0.04272379, 0.08491308, 0.18187694,\n",
              "        0.06220876, 0.07992486, 0.07096738, 0.11039332, 0.1656758 ,\n",
              "        0.03285659, 0.05091851, 0.09823153, 0.06493379, 0.06543823,\n",
              "        0.12702602, 0.13667637, 0.08681242, 0.18036164, 0.20085353,\n",
              "        0.01141789, 0.03662272, 0.1130667 , 0.06799729, 0.16240673,\n",
              "        0.07454417, 0.1309307 , 0.20152327, 0.22119634, 0.18927958,\n",
              "        0.05428778, 0.0699856 , 0.0752295 , 0.10147236, 0.14915045,\n",
              "        0.11052539, 0.22834519, 0.09569022, 0.24494369, 0.63820761,\n",
              "        0.07470501, 0.03550131, 0.12907634, 0.15467636, 0.18696434,\n",
              "        0.08523429, 0.18187935, 0.59376099, 0.15505356, 0.15860935]),\n",
              " 'std_score_time': array([0.0168902 , 0.01149836, 0.04404119, 0.05335198, 0.02386698,\n",
              "        0.04779029, 0.00864103, 0.02282413, 0.02825021, 0.04012267,\n",
              "        0.00637854, 0.00964912, 0.03289977, 0.04704116, 0.00921009,\n",
              "        0.02091639, 0.02366792, 0.02315919, 0.0418791 , 0.01042432,\n",
              "        0.00999809, 0.0078091 , 0.05845326, 0.05967446, 0.01298641,\n",
              "        0.0224022 , 0.03500354, 0.0196063 , 0.03665031, 0.01611822,\n",
              "        0.01067056, 0.00445311, 0.03572981, 0.04473476, 0.01621662,\n",
              "        0.00496831, 0.04256094, 0.01603503, 0.04811851, 0.05895267,\n",
              "        0.01423115, 0.01001414, 0.04851232, 0.04889798, 0.01485659,\n",
              "        0.00266343, 0.01987646, 0.02225183, 0.01760549, 0.04717   ,\n",
              "        0.02106316, 0.01129129, 0.04191688, 0.03926477, 0.00430609,\n",
              "        0.01563895, 0.01530879, 0.04008908, 0.01142797, 0.04884758,\n",
              "        0.00856041, 0.00662692, 0.052287  , 0.04826309, 0.0472409 ,\n",
              "        0.00812362, 0.00636484, 0.01410594, 0.04189845, 0.01296422,\n",
              "        0.01141106, 0.00996448, 0.0302729 , 0.04752212, 0.01297186,\n",
              "        0.02190376, 0.04076073, 0.01327718, 0.06160049, 0.04507248,\n",
              "        0.01317376, 0.00542862, 0.03708987, 0.05765768, 0.01845492,\n",
              "        0.01234173, 0.01515513, 0.05724391, 0.05404437, 0.08628788,\n",
              "        0.05116136, 0.01591015, 0.03174639, 0.02368593, 0.02997979,\n",
              "        0.01687105, 0.04397286, 0.01753681, 0.07994335, 0.06905614,\n",
              "        0.00877794, 0.01235972, 0.01658039, 0.02814582, 0.0241345 ,\n",
              "        0.00962655, 0.01592309, 0.01784961, 0.05417095, 0.05739165,\n",
              "        0.00452669, 0.00572138, 0.02284702, 0.01815089, 0.01184216,\n",
              "        0.04201816, 0.01895772, 0.05184346, 0.07589715, 0.06222027,\n",
              "        0.01205649, 0.01328382, 0.02121619, 0.02562255, 0.0327918 ,\n",
              "        0.02617456, 0.06868479, 0.03153468, 0.08747649, 0.04744669,\n",
              "        0.01431129, 0.01661752, 0.01524714, 0.02659997, 0.0144348 ,\n",
              "        0.02478183, 0.01944796, 0.03528338, 0.05930029, 0.20330385,\n",
              "        0.00826217, 0.00973467, 0.04940479, 0.02778387, 0.03294004,\n",
              "        0.04360383, 0.06538167, 0.04894587, 0.12293412, 0.14156594]),\n",
              " 'std_test_score': array([0.0002    , 0.0002    , 0.0002    , 0.0002    , 0.0002    ,\n",
              "        0.0002    , 0.0002    , 0.0002    , 0.0002    , 0.0002    ,\n",
              "        0.0002    , 0.0002    , 0.0002    , 0.0002    , 0.0002    ,\n",
              "        0.0002    , 0.0002    , 0.0002    , 0.0002    , 0.0002    ,\n",
              "        0.0002    , 0.0002    , 0.0002    , 0.0002    , 0.0002    ,\n",
              "        0.0002    , 0.0002    , 0.0002    , 0.0002    , 0.0002    ,\n",
              "        0.0002    , 0.0002    , 0.0002    , 0.0002    , 0.0002    ,\n",
              "        0.0002    , 0.0002    , 0.0002    , 0.0002    , 0.0002    ,\n",
              "        0.0002    , 0.0002    , 0.0002    , 0.0002    , 0.0002    ,\n",
              "        0.0002    , 0.0002    , 0.0002    , 0.0002    , 0.0002    ,\n",
              "        0.00024495, 0.0002    , 0.0002    , 0.0002    , 0.0002    ,\n",
              "        0.0002    , 0.0002    , 0.0002    , 0.0002    , 0.0002    ,\n",
              "        0.00037417, 0.00024495, 0.0002    , 0.00024495, 0.0004    ,\n",
              "        0.00031623, 0.0004    , 0.00031623, 0.0002    , 0.0002    ,\n",
              "        0.00037417, 0.00037417, 0.0006    , 0.00037417, 0.00128841,\n",
              "        0.00037417, 0.00024495, 0.00024495, 0.00024495, 0.0002    ,\n",
              "        0.0005831 , 0.00031623, 0.00067823, 0.00037417, 0.00044721,\n",
              "        0.0002    , 0.00074833, 0.00024495, 0.00031623, 0.00031623,\n",
              "        0.00106771, 0.00067823, 0.00089443, 0.0004899 , 0.00092736,\n",
              "        0.00087178, 0.0008    , 0.0005099 , 0.0002    , 0.0004899 ,\n",
              "        0.00143527, 0.00193391, 0.00114018, 0.00111355, 0.00096954,\n",
              "        0.00054772, 0.00102956, 0.0005099 , 0.00096954, 0.00083666,\n",
              "        0.00170294, 0.00146969, 0.00073485, 0.00067823, 0.00184391,\n",
              "        0.00070711, 0.00096954, 0.0004899 , 0.00066332, 0.00111355,\n",
              "        0.00305941, 0.00302324, 0.00092736, 0.0016    , 0.00198494,\n",
              "        0.00106771, 0.00086023, 0.00096954, 0.00083666, 0.0010198 ,\n",
              "        0.00278209, 0.00172047, 0.0012    , 0.00102956, 0.0008    ,\n",
              "        0.0005831 , 0.00096954, 0.00187083, 0.0006    , 0.00073485,\n",
              "        0.00162481, 0.00124097, 0.00151658, 0.00106771, 0.00159374,\n",
              "        0.0025807 , 0.00128062, 0.00089443, 0.00168523, 0.00167332])}"
            ]
          },
          "metadata": {},
          "execution_count": 35
        }
      ]
    },
    {
      "cell_type": "code",
      "source": [
        "#logistic regression parameters\n",
        "parameters = {'LogR_tfidf__ngram_range': [(1, 1), (1, 2),(1,3),(1,4),(1,5)],\n",
        "               'LogR_tfidf__use_idf': (True, False),\n",
        "               'LogR_tfidf__smooth_idf': (True, False)\n",
        "}\n",
        "\n",
        "gs_clf = GridSearchCV(logR_pipeline_ngram, parameters, n_jobs=-1)\n",
        "gs_clf = gs_clf.fit(train_news['Statement'][:10000],train_news['Label'][:10000])\n",
        "\n",
        "gs_clf.best_score_\n",
        "gs_clf.best_params_\n",
        "gs_clf.cv_results_"
      ],
      "metadata": {
        "id": "dY3oL4N8LgJS",
        "colab": {
          "base_uri": "https://localhost:8080/"
        },
        "outputId": "f37dfb3e-4691-448a-d41f-0127d2208ac5"
      },
      "execution_count": 36,
      "outputs": [
        {
          "output_type": "execute_result",
          "data": {
            "text/plain": [
              "{'mean_fit_time': array([0.58099504, 0.46636887, 0.52699327, 0.46562448, 1.61353593,\n",
              "        1.60461793, 1.41281648, 1.53353162, 2.32736697, 2.80810914,\n",
              "        2.19768724, 3.07182708, 2.8215971 , 3.62672586, 2.90466123,\n",
              "        3.68350601, 3.55734434, 4.24300127, 3.83555145, 4.11226916]),\n",
              " 'mean_score_time': array([0.06485295, 0.06630349, 0.06616993, 0.05885787, 0.09684787,\n",
              "        0.09310012, 0.09080038, 0.07977266, 0.10599847, 0.10626807,\n",
              "        0.12013326, 0.12446671, 0.14367671, 0.13585663, 0.14151917,\n",
              "        0.13660946, 0.15523596, 0.1525661 , 0.1665082 , 0.14235449]),\n",
              " 'mean_test_score': array([0.6046, 0.6106, 0.6055, 0.6106, 0.6142, 0.6105, 0.614 , 0.6105,\n",
              "        0.6149, 0.6103, 0.6162, 0.6103, 0.6165, 0.6097, 0.6159, 0.6097,\n",
              "        0.616 , 0.6093, 0.6151, 0.6093]),\n",
              " 'param_LogR_tfidf__ngram_range': masked_array(data=[(1, 1), (1, 1), (1, 1), (1, 1), (1, 2), (1, 2), (1, 2),\n",
              "                    (1, 2), (1, 3), (1, 3), (1, 3), (1, 3), (1, 4), (1, 4),\n",
              "                    (1, 4), (1, 4), (1, 5), (1, 5), (1, 5), (1, 5)],\n",
              "              mask=[False, False, False, False, False, False, False, False,\n",
              "                    False, False, False, False, False, False, False, False,\n",
              "                    False, False, False, False],\n",
              "        fill_value='?',\n",
              "             dtype=object),\n",
              " 'param_LogR_tfidf__smooth_idf': masked_array(data=[True, True, False, False, True, True, False, False,\n",
              "                    True, True, False, False, True, True, False, False,\n",
              "                    True, True, False, False],\n",
              "              mask=[False, False, False, False, False, False, False, False,\n",
              "                    False, False, False, False, False, False, False, False,\n",
              "                    False, False, False, False],\n",
              "        fill_value='?',\n",
              "             dtype=object),\n",
              " 'param_LogR_tfidf__use_idf': masked_array(data=[True, False, True, False, True, False, True, False,\n",
              "                    True, False, True, False, True, False, True, False,\n",
              "                    True, False, True, False],\n",
              "              mask=[False, False, False, False, False, False, False, False,\n",
              "                    False, False, False, False, False, False, False, False,\n",
              "                    False, False, False, False],\n",
              "        fill_value='?',\n",
              "             dtype=object),\n",
              " 'params': [{'LogR_tfidf__ngram_range': (1, 1),\n",
              "   'LogR_tfidf__smooth_idf': True,\n",
              "   'LogR_tfidf__use_idf': True},\n",
              "  {'LogR_tfidf__ngram_range': (1, 1),\n",
              "   'LogR_tfidf__smooth_idf': True,\n",
              "   'LogR_tfidf__use_idf': False},\n",
              "  {'LogR_tfidf__ngram_range': (1, 1),\n",
              "   'LogR_tfidf__smooth_idf': False,\n",
              "   'LogR_tfidf__use_idf': True},\n",
              "  {'LogR_tfidf__ngram_range': (1, 1),\n",
              "   'LogR_tfidf__smooth_idf': False,\n",
              "   'LogR_tfidf__use_idf': False},\n",
              "  {'LogR_tfidf__ngram_range': (1, 2),\n",
              "   'LogR_tfidf__smooth_idf': True,\n",
              "   'LogR_tfidf__use_idf': True},\n",
              "  {'LogR_tfidf__ngram_range': (1, 2),\n",
              "   'LogR_tfidf__smooth_idf': True,\n",
              "   'LogR_tfidf__use_idf': False},\n",
              "  {'LogR_tfidf__ngram_range': (1, 2),\n",
              "   'LogR_tfidf__smooth_idf': False,\n",
              "   'LogR_tfidf__use_idf': True},\n",
              "  {'LogR_tfidf__ngram_range': (1, 2),\n",
              "   'LogR_tfidf__smooth_idf': False,\n",
              "   'LogR_tfidf__use_idf': False},\n",
              "  {'LogR_tfidf__ngram_range': (1, 3),\n",
              "   'LogR_tfidf__smooth_idf': True,\n",
              "   'LogR_tfidf__use_idf': True},\n",
              "  {'LogR_tfidf__ngram_range': (1, 3),\n",
              "   'LogR_tfidf__smooth_idf': True,\n",
              "   'LogR_tfidf__use_idf': False},\n",
              "  {'LogR_tfidf__ngram_range': (1, 3),\n",
              "   'LogR_tfidf__smooth_idf': False,\n",
              "   'LogR_tfidf__use_idf': True},\n",
              "  {'LogR_tfidf__ngram_range': (1, 3),\n",
              "   'LogR_tfidf__smooth_idf': False,\n",
              "   'LogR_tfidf__use_idf': False},\n",
              "  {'LogR_tfidf__ngram_range': (1, 4),\n",
              "   'LogR_tfidf__smooth_idf': True,\n",
              "   'LogR_tfidf__use_idf': True},\n",
              "  {'LogR_tfidf__ngram_range': (1, 4),\n",
              "   'LogR_tfidf__smooth_idf': True,\n",
              "   'LogR_tfidf__use_idf': False},\n",
              "  {'LogR_tfidf__ngram_range': (1, 4),\n",
              "   'LogR_tfidf__smooth_idf': False,\n",
              "   'LogR_tfidf__use_idf': True},\n",
              "  {'LogR_tfidf__ngram_range': (1, 4),\n",
              "   'LogR_tfidf__smooth_idf': False,\n",
              "   'LogR_tfidf__use_idf': False},\n",
              "  {'LogR_tfidf__ngram_range': (1, 5),\n",
              "   'LogR_tfidf__smooth_idf': True,\n",
              "   'LogR_tfidf__use_idf': True},\n",
              "  {'LogR_tfidf__ngram_range': (1, 5),\n",
              "   'LogR_tfidf__smooth_idf': True,\n",
              "   'LogR_tfidf__use_idf': False},\n",
              "  {'LogR_tfidf__ngram_range': (1, 5),\n",
              "   'LogR_tfidf__smooth_idf': False,\n",
              "   'LogR_tfidf__use_idf': True},\n",
              "  {'LogR_tfidf__ngram_range': (1, 5),\n",
              "   'LogR_tfidf__smooth_idf': False,\n",
              "   'LogR_tfidf__use_idf': False}],\n",
              " 'rank_test_score': array([20,  9, 19,  9,  7, 11,  8, 11,  6, 13,  2, 13,  1, 15,  4, 15,  3,\n",
              "        17,  5, 17], dtype=int32),\n",
              " 'split0_test_score': array([0.6135, 0.617 , 0.6125, 0.617 , 0.619 , 0.617 , 0.6175, 0.617 ,\n",
              "        0.6205, 0.6175, 0.621 , 0.6175, 0.6175, 0.6155, 0.6175, 0.6155,\n",
              "        0.614 , 0.615 , 0.6115, 0.615 ]),\n",
              " 'split1_test_score': array([0.618 , 0.6205, 0.6185, 0.6205, 0.6245, 0.623 , 0.625 , 0.623 ,\n",
              "        0.6245, 0.6165, 0.624 , 0.6165, 0.623 , 0.613 , 0.6205, 0.613 ,\n",
              "        0.622 , 0.6135, 0.619 , 0.6135]),\n",
              " 'split2_test_score': array([0.5945, 0.603 , 0.596 , 0.603 , 0.6025, 0.6015, 0.605 , 0.6015,\n",
              "        0.604 , 0.6045, 0.608 , 0.6045, 0.609 , 0.603 , 0.607 , 0.603 ,\n",
              "        0.6065, 0.601 , 0.609 , 0.601 ]),\n",
              " 'split3_test_score': array([0.599 , 0.608 , 0.5995, 0.608 , 0.6105, 0.605 , 0.6105, 0.605 ,\n",
              "        0.6125, 0.606 , 0.615 , 0.606 , 0.617 , 0.611 , 0.616 , 0.611 ,\n",
              "        0.621 , 0.6115, 0.618 , 0.6115]),\n",
              " 'split4_test_score': array([0.598 , 0.6045, 0.601 , 0.6045, 0.6145, 0.606 , 0.612 , 0.606 ,\n",
              "        0.613 , 0.607 , 0.613 , 0.607 , 0.616 , 0.606 , 0.6185, 0.606 ,\n",
              "        0.6165, 0.6055, 0.618 , 0.6055]),\n",
              " 'std_fit_time': array([0.03287237, 0.02866669, 0.0125142 , 0.01691396, 0.04851655,\n",
              "        0.04773145, 0.09509897, 0.04372709, 0.17152072, 0.11121158,\n",
              "        0.06879097, 0.13047775, 0.09656514, 0.1798583 , 0.14402771,\n",
              "        0.18885332, 0.33580852, 0.24086274, 0.13812955, 0.67032702]),\n",
              " 'std_score_time': array([0.00601847, 0.00733676, 0.00533013, 0.001057  , 0.00480823,\n",
              "        0.00297357, 0.00616245, 0.00862761, 0.00992088, 0.00707736,\n",
              "        0.00480764, 0.00696214, 0.00934247, 0.00228024, 0.00406543,\n",
              "        0.0038397 , 0.01232238, 0.00992139, 0.00513229, 0.03058479]),\n",
              " 'std_test_score': array([0.00933488, 0.0069383 , 0.00853815, 0.0069383 , 0.00748064,\n",
              "        0.00812404, 0.0067897 , 0.00812404, 0.00709507, 0.00553715,\n",
              "        0.00570614, 0.00553715, 0.00447214, 0.00457821, 0.00468402,\n",
              "        0.00457821, 0.00557674, 0.00525928, 0.00405463, 0.00525928])}"
            ]
          },
          "metadata": {},
          "execution_count": 36
        }
      ]
    },
    {
      "cell_type": "code",
      "source": [
        "#Linear SVM \n",
        "parameters = {'svm_tfidf__ngram_range': [(1, 1), (1, 2),(1,3),(1,4),(1,5)],\n",
        "               'svm_tfidf__use_idf': (True, False),\n",
        "               'svm_tfidf__smooth_idf': (True, False),\n",
        "               'svm_clf__penalty': ('l1','l2'),\n",
        "}\n",
        "\n",
        "gs_clf = GridSearchCV(svm_pipeline_ngram, parameters, n_jobs=-1)\n",
        "gs_clf = gs_clf.fit(train_news['Statement'][:10000],train_news['Label'][:10000])\n",
        "\n",
        "gs_clf.best_score_\n",
        "gs_clf.best_params_\n",
        "gs_clf.cv_results_"
      ],
      "metadata": {
        "id": "U9E8L3ZMLg7b",
        "colab": {
          "base_uri": "https://localhost:8080/"
        },
        "outputId": "be3bc99c-264d-433b-88fb-45a2b021aeda"
      },
      "execution_count": 37,
      "outputs": [
        {
          "output_type": "execute_result",
          "data": {
            "text/plain": [
              "{'mean_fit_time': array([0.28318434, 0.2662612 , 0.27289934, 0.27133632, 0.65712719,\n",
              "        0.62034287, 0.6185421 , 0.60626607, 1.0299654 , 0.97260461,\n",
              "        0.97769175, 0.96122794, 1.34882684, 1.30672522, 1.35317459,\n",
              "        1.3019177 , 1.66237035, 1.64870324, 1.68859882, 1.64642706,\n",
              "        0.28869953, 0.31366343, 0.30937014, 0.30289822, 0.69800644,\n",
              "        0.68391628, 0.68316917, 0.66485844, 1.09973516, 1.0497417 ,\n",
              "        1.09400077, 1.067698  , 1.45284719, 1.42037568, 1.45315537,\n",
              "        1.42755618, 1.83378396, 1.76006112, 1.81678433, 1.72318721]),\n",
              " 'mean_score_time': array([0.        , 0.        , 0.        , 0.        , 0.        ,\n",
              "        0.        , 0.        , 0.        , 0.        , 0.        ,\n",
              "        0.        , 0.        , 0.        , 0.        , 0.        ,\n",
              "        0.        , 0.        , 0.        , 0.        , 0.        ,\n",
              "        0.05504165, 0.05882716, 0.06040192, 0.05770478, 0.09031086,\n",
              "        0.08962898, 0.08872943, 0.0867312 , 0.11210966, 0.11583915,\n",
              "        0.11259618, 0.11167359, 0.12509408, 0.12112689, 0.12555323,\n",
              "        0.11613789, 0.14326692, 0.14376965, 0.14288788, 0.12679949]),\n",
              " 'mean_test_score': array([   nan,    nan,    nan,    nan,    nan,    nan,    nan,    nan,\n",
              "           nan,    nan,    nan,    nan,    nan,    nan,    nan,    nan,\n",
              "           nan,    nan,    nan,    nan, 0.5814, 0.5893, 0.5821, 0.5893,\n",
              "        0.5992, 0.5984, 0.6014, 0.5984, 0.6047, 0.6031, 0.6065, 0.6031,\n",
              "        0.6063, 0.607 , 0.6071, 0.607 , 0.6076, 0.6068, 0.6082, 0.6068]),\n",
              " 'param_svm_clf__penalty': masked_array(data=['l1', 'l1', 'l1', 'l1', 'l1', 'l1', 'l1', 'l1', 'l1',\n",
              "                    'l1', 'l1', 'l1', 'l1', 'l1', 'l1', 'l1', 'l1', 'l1',\n",
              "                    'l1', 'l1', 'l2', 'l2', 'l2', 'l2', 'l2', 'l2', 'l2',\n",
              "                    'l2', 'l2', 'l2', 'l2', 'l2', 'l2', 'l2', 'l2', 'l2',\n",
              "                    'l2', 'l2', 'l2', 'l2'],\n",
              "              mask=[False, False, False, False, False, False, False, False,\n",
              "                    False, False, False, False, False, False, False, False,\n",
              "                    False, False, False, False, False, False, False, False,\n",
              "                    False, False, False, False, False, False, False, False,\n",
              "                    False, False, False, False, False, False, False, False],\n",
              "        fill_value='?',\n",
              "             dtype=object),\n",
              " 'param_svm_tfidf__ngram_range': masked_array(data=[(1, 1), (1, 1), (1, 1), (1, 1), (1, 2), (1, 2), (1, 2),\n",
              "                    (1, 2), (1, 3), (1, 3), (1, 3), (1, 3), (1, 4), (1, 4),\n",
              "                    (1, 4), (1, 4), (1, 5), (1, 5), (1, 5), (1, 5), (1, 1),\n",
              "                    (1, 1), (1, 1), (1, 1), (1, 2), (1, 2), (1, 2), (1, 2),\n",
              "                    (1, 3), (1, 3), (1, 3), (1, 3), (1, 4), (1, 4), (1, 4),\n",
              "                    (1, 4), (1, 5), (1, 5), (1, 5), (1, 5)],\n",
              "              mask=[False, False, False, False, False, False, False, False,\n",
              "                    False, False, False, False, False, False, False, False,\n",
              "                    False, False, False, False, False, False, False, False,\n",
              "                    False, False, False, False, False, False, False, False,\n",
              "                    False, False, False, False, False, False, False, False],\n",
              "        fill_value='?',\n",
              "             dtype=object),\n",
              " 'param_svm_tfidf__smooth_idf': masked_array(data=[True, True, False, False, True, True, False, False,\n",
              "                    True, True, False, False, True, True, False, False,\n",
              "                    True, True, False, False, True, True, False, False,\n",
              "                    True, True, False, False, True, True, False, False,\n",
              "                    True, True, False, False, True, True, False, False],\n",
              "              mask=[False, False, False, False, False, False, False, False,\n",
              "                    False, False, False, False, False, False, False, False,\n",
              "                    False, False, False, False, False, False, False, False,\n",
              "                    False, False, False, False, False, False, False, False,\n",
              "                    False, False, False, False, False, False, False, False],\n",
              "        fill_value='?',\n",
              "             dtype=object),\n",
              " 'param_svm_tfidf__use_idf': masked_array(data=[True, False, True, False, True, False, True, False,\n",
              "                    True, False, True, False, True, False, True, False,\n",
              "                    True, False, True, False, True, False, True, False,\n",
              "                    True, False, True, False, True, False, True, False,\n",
              "                    True, False, True, False, True, False, True, False],\n",
              "              mask=[False, False, False, False, False, False, False, False,\n",
              "                    False, False, False, False, False, False, False, False,\n",
              "                    False, False, False, False, False, False, False, False,\n",
              "                    False, False, False, False, False, False, False, False,\n",
              "                    False, False, False, False, False, False, False, False],\n",
              "        fill_value='?',\n",
              "             dtype=object),\n",
              " 'params': [{'svm_clf__penalty': 'l1',\n",
              "   'svm_tfidf__ngram_range': (1, 1),\n",
              "   'svm_tfidf__smooth_idf': True,\n",
              "   'svm_tfidf__use_idf': True},\n",
              "  {'svm_clf__penalty': 'l1',\n",
              "   'svm_tfidf__ngram_range': (1, 1),\n",
              "   'svm_tfidf__smooth_idf': True,\n",
              "   'svm_tfidf__use_idf': False},\n",
              "  {'svm_clf__penalty': 'l1',\n",
              "   'svm_tfidf__ngram_range': (1, 1),\n",
              "   'svm_tfidf__smooth_idf': False,\n",
              "   'svm_tfidf__use_idf': True},\n",
              "  {'svm_clf__penalty': 'l1',\n",
              "   'svm_tfidf__ngram_range': (1, 1),\n",
              "   'svm_tfidf__smooth_idf': False,\n",
              "   'svm_tfidf__use_idf': False},\n",
              "  {'svm_clf__penalty': 'l1',\n",
              "   'svm_tfidf__ngram_range': (1, 2),\n",
              "   'svm_tfidf__smooth_idf': True,\n",
              "   'svm_tfidf__use_idf': True},\n",
              "  {'svm_clf__penalty': 'l1',\n",
              "   'svm_tfidf__ngram_range': (1, 2),\n",
              "   'svm_tfidf__smooth_idf': True,\n",
              "   'svm_tfidf__use_idf': False},\n",
              "  {'svm_clf__penalty': 'l1',\n",
              "   'svm_tfidf__ngram_range': (1, 2),\n",
              "   'svm_tfidf__smooth_idf': False,\n",
              "   'svm_tfidf__use_idf': True},\n",
              "  {'svm_clf__penalty': 'l1',\n",
              "   'svm_tfidf__ngram_range': (1, 2),\n",
              "   'svm_tfidf__smooth_idf': False,\n",
              "   'svm_tfidf__use_idf': False},\n",
              "  {'svm_clf__penalty': 'l1',\n",
              "   'svm_tfidf__ngram_range': (1, 3),\n",
              "   'svm_tfidf__smooth_idf': True,\n",
              "   'svm_tfidf__use_idf': True},\n",
              "  {'svm_clf__penalty': 'l1',\n",
              "   'svm_tfidf__ngram_range': (1, 3),\n",
              "   'svm_tfidf__smooth_idf': True,\n",
              "   'svm_tfidf__use_idf': False},\n",
              "  {'svm_clf__penalty': 'l1',\n",
              "   'svm_tfidf__ngram_range': (1, 3),\n",
              "   'svm_tfidf__smooth_idf': False,\n",
              "   'svm_tfidf__use_idf': True},\n",
              "  {'svm_clf__penalty': 'l1',\n",
              "   'svm_tfidf__ngram_range': (1, 3),\n",
              "   'svm_tfidf__smooth_idf': False,\n",
              "   'svm_tfidf__use_idf': False},\n",
              "  {'svm_clf__penalty': 'l1',\n",
              "   'svm_tfidf__ngram_range': (1, 4),\n",
              "   'svm_tfidf__smooth_idf': True,\n",
              "   'svm_tfidf__use_idf': True},\n",
              "  {'svm_clf__penalty': 'l1',\n",
              "   'svm_tfidf__ngram_range': (1, 4),\n",
              "   'svm_tfidf__smooth_idf': True,\n",
              "   'svm_tfidf__use_idf': False},\n",
              "  {'svm_clf__penalty': 'l1',\n",
              "   'svm_tfidf__ngram_range': (1, 4),\n",
              "   'svm_tfidf__smooth_idf': False,\n",
              "   'svm_tfidf__use_idf': True},\n",
              "  {'svm_clf__penalty': 'l1',\n",
              "   'svm_tfidf__ngram_range': (1, 4),\n",
              "   'svm_tfidf__smooth_idf': False,\n",
              "   'svm_tfidf__use_idf': False},\n",
              "  {'svm_clf__penalty': 'l1',\n",
              "   'svm_tfidf__ngram_range': (1, 5),\n",
              "   'svm_tfidf__smooth_idf': True,\n",
              "   'svm_tfidf__use_idf': True},\n",
              "  {'svm_clf__penalty': 'l1',\n",
              "   'svm_tfidf__ngram_range': (1, 5),\n",
              "   'svm_tfidf__smooth_idf': True,\n",
              "   'svm_tfidf__use_idf': False},\n",
              "  {'svm_clf__penalty': 'l1',\n",
              "   'svm_tfidf__ngram_range': (1, 5),\n",
              "   'svm_tfidf__smooth_idf': False,\n",
              "   'svm_tfidf__use_idf': True},\n",
              "  {'svm_clf__penalty': 'l1',\n",
              "   'svm_tfidf__ngram_range': (1, 5),\n",
              "   'svm_tfidf__smooth_idf': False,\n",
              "   'svm_tfidf__use_idf': False},\n",
              "  {'svm_clf__penalty': 'l2',\n",
              "   'svm_tfidf__ngram_range': (1, 1),\n",
              "   'svm_tfidf__smooth_idf': True,\n",
              "   'svm_tfidf__use_idf': True},\n",
              "  {'svm_clf__penalty': 'l2',\n",
              "   'svm_tfidf__ngram_range': (1, 1),\n",
              "   'svm_tfidf__smooth_idf': True,\n",
              "   'svm_tfidf__use_idf': False},\n",
              "  {'svm_clf__penalty': 'l2',\n",
              "   'svm_tfidf__ngram_range': (1, 1),\n",
              "   'svm_tfidf__smooth_idf': False,\n",
              "   'svm_tfidf__use_idf': True},\n",
              "  {'svm_clf__penalty': 'l2',\n",
              "   'svm_tfidf__ngram_range': (1, 1),\n",
              "   'svm_tfidf__smooth_idf': False,\n",
              "   'svm_tfidf__use_idf': False},\n",
              "  {'svm_clf__penalty': 'l2',\n",
              "   'svm_tfidf__ngram_range': (1, 2),\n",
              "   'svm_tfidf__smooth_idf': True,\n",
              "   'svm_tfidf__use_idf': True},\n",
              "  {'svm_clf__penalty': 'l2',\n",
              "   'svm_tfidf__ngram_range': (1, 2),\n",
              "   'svm_tfidf__smooth_idf': True,\n",
              "   'svm_tfidf__use_idf': False},\n",
              "  {'svm_clf__penalty': 'l2',\n",
              "   'svm_tfidf__ngram_range': (1, 2),\n",
              "   'svm_tfidf__smooth_idf': False,\n",
              "   'svm_tfidf__use_idf': True},\n",
              "  {'svm_clf__penalty': 'l2',\n",
              "   'svm_tfidf__ngram_range': (1, 2),\n",
              "   'svm_tfidf__smooth_idf': False,\n",
              "   'svm_tfidf__use_idf': False},\n",
              "  {'svm_clf__penalty': 'l2',\n",
              "   'svm_tfidf__ngram_range': (1, 3),\n",
              "   'svm_tfidf__smooth_idf': True,\n",
              "   'svm_tfidf__use_idf': True},\n",
              "  {'svm_clf__penalty': 'l2',\n",
              "   'svm_tfidf__ngram_range': (1, 3),\n",
              "   'svm_tfidf__smooth_idf': True,\n",
              "   'svm_tfidf__use_idf': False},\n",
              "  {'svm_clf__penalty': 'l2',\n",
              "   'svm_tfidf__ngram_range': (1, 3),\n",
              "   'svm_tfidf__smooth_idf': False,\n",
              "   'svm_tfidf__use_idf': True},\n",
              "  {'svm_clf__penalty': 'l2',\n",
              "   'svm_tfidf__ngram_range': (1, 3),\n",
              "   'svm_tfidf__smooth_idf': False,\n",
              "   'svm_tfidf__use_idf': False},\n",
              "  {'svm_clf__penalty': 'l2',\n",
              "   'svm_tfidf__ngram_range': (1, 4),\n",
              "   'svm_tfidf__smooth_idf': True,\n",
              "   'svm_tfidf__use_idf': True},\n",
              "  {'svm_clf__penalty': 'l2',\n",
              "   'svm_tfidf__ngram_range': (1, 4),\n",
              "   'svm_tfidf__smooth_idf': True,\n",
              "   'svm_tfidf__use_idf': False},\n",
              "  {'svm_clf__penalty': 'l2',\n",
              "   'svm_tfidf__ngram_range': (1, 4),\n",
              "   'svm_tfidf__smooth_idf': False,\n",
              "   'svm_tfidf__use_idf': True},\n",
              "  {'svm_clf__penalty': 'l2',\n",
              "   'svm_tfidf__ngram_range': (1, 4),\n",
              "   'svm_tfidf__smooth_idf': False,\n",
              "   'svm_tfidf__use_idf': False},\n",
              "  {'svm_clf__penalty': 'l2',\n",
              "   'svm_tfidf__ngram_range': (1, 5),\n",
              "   'svm_tfidf__smooth_idf': True,\n",
              "   'svm_tfidf__use_idf': True},\n",
              "  {'svm_clf__penalty': 'l2',\n",
              "   'svm_tfidf__ngram_range': (1, 5),\n",
              "   'svm_tfidf__smooth_idf': True,\n",
              "   'svm_tfidf__use_idf': False},\n",
              "  {'svm_clf__penalty': 'l2',\n",
              "   'svm_tfidf__ngram_range': (1, 5),\n",
              "   'svm_tfidf__smooth_idf': False,\n",
              "   'svm_tfidf__use_idf': True},\n",
              "  {'svm_clf__penalty': 'l2',\n",
              "   'svm_tfidf__ngram_range': (1, 5),\n",
              "   'svm_tfidf__smooth_idf': False,\n",
              "   'svm_tfidf__use_idf': False}],\n",
              " 'rank_test_score': array([21, 23, 24, 25, 26, 27, 28, 29, 31, 39, 32, 33, 34, 35, 36, 37, 38,\n",
              "        22, 30, 40, 20, 17, 19, 17, 14, 15, 13, 15, 10, 11,  8, 11,  9,  4,\n",
              "         3,  4,  2,  6,  1,  6], dtype=int32),\n",
              " 'split0_test_score': array([   nan,    nan,    nan,    nan,    nan,    nan,    nan,    nan,\n",
              "           nan,    nan,    nan,    nan,    nan,    nan,    nan,    nan,\n",
              "           nan,    nan,    nan,    nan, 0.5895, 0.5985, 0.5915, 0.5985,\n",
              "        0.6075, 0.6065, 0.611 , 0.6065, 0.611 , 0.607 , 0.6135, 0.607 ,\n",
              "        0.6135, 0.615 , 0.6135, 0.615 , 0.617 , 0.616 , 0.617 , 0.616 ]),\n",
              " 'split1_test_score': array([   nan,    nan,    nan,    nan,    nan,    nan,    nan,    nan,\n",
              "           nan,    nan,    nan,    nan,    nan,    nan,    nan,    nan,\n",
              "           nan,    nan,    nan,    nan, 0.5925, 0.6025, 0.591 , 0.6025,\n",
              "        0.622 , 0.6215, 0.625 , 0.6215, 0.624 , 0.6195, 0.6265, 0.6195,\n",
              "        0.6215, 0.623 , 0.622 , 0.623 , 0.6195, 0.622 , 0.6215, 0.622 ]),\n",
              " 'split2_test_score': array([   nan,    nan,    nan,    nan,    nan,    nan,    nan,    nan,\n",
              "           nan,    nan,    nan,    nan,    nan,    nan,    nan,    nan,\n",
              "           nan,    nan,    nan,    nan, 0.571 , 0.576 , 0.5725, 0.576 ,\n",
              "        0.585 , 0.586 , 0.588 , 0.586 , 0.59  , 0.5905, 0.589 , 0.5905,\n",
              "        0.589 , 0.591 , 0.59  , 0.591 , 0.59  , 0.5925, 0.5915, 0.5925]),\n",
              " 'split3_test_score': array([   nan,    nan,    nan,    nan,    nan,    nan,    nan,    nan,\n",
              "           nan,    nan,    nan,    nan,    nan,    nan,    nan,    nan,\n",
              "           nan,    nan,    nan,    nan, 0.5725, 0.583 , 0.5725, 0.583 ,\n",
              "        0.5855, 0.5835, 0.586 , 0.5835, 0.5905, 0.5945, 0.593 , 0.5945,\n",
              "        0.5975, 0.5995, 0.5975, 0.5995, 0.5995, 0.598 , 0.5975, 0.598 ]),\n",
              " 'split4_test_score': array([   nan,    nan,    nan,    nan,    nan,    nan,    nan,    nan,\n",
              "           nan,    nan,    nan,    nan,    nan,    nan,    nan,    nan,\n",
              "           nan,    nan,    nan,    nan, 0.5815, 0.5865, 0.583 , 0.5865,\n",
              "        0.596 , 0.5945, 0.597 , 0.5945, 0.608 , 0.604 , 0.6105, 0.604 ,\n",
              "        0.61  , 0.6065, 0.6125, 0.6065, 0.612 , 0.6055, 0.6135, 0.6055]),\n",
              " 'std_fit_time': array([0.01022818, 0.00790512, 0.00539669, 0.00336335, 0.01610234,\n",
              "        0.01809155, 0.02164829, 0.01601065, 0.03738014, 0.02131419,\n",
              "        0.01488547, 0.01913563, 0.01220869, 0.02734602, 0.02421319,\n",
              "        0.0279888 , 0.03285727, 0.02326185, 0.01160174, 0.01811494,\n",
              "        0.02259061, 0.02396632, 0.00559787, 0.00877955, 0.01200776,\n",
              "        0.00523948, 0.00640308, 0.00924583, 0.02104658, 0.02444545,\n",
              "        0.01206817, 0.01807091, 0.02530095, 0.03468556, 0.02393598,\n",
              "        0.0240175 , 0.02871446, 0.02033265, 0.04419874, 0.09437973]),\n",
              " 'std_score_time': array([0.        , 0.        , 0.        , 0.        , 0.        ,\n",
              "        0.        , 0.        , 0.        , 0.        , 0.        ,\n",
              "        0.        , 0.        , 0.        , 0.        , 0.        ,\n",
              "        0.        , 0.        , 0.        , 0.        , 0.        ,\n",
              "        0.00552758, 0.00062971, 0.00096027, 0.00177723, 0.0107249 ,\n",
              "        0.01002118, 0.00694165, 0.00756845, 0.010052  , 0.00758902,\n",
              "        0.01025624, 0.00861702, 0.00199103, 0.00450641, 0.00561636,\n",
              "        0.00302813, 0.00340535, 0.00608942, 0.00407123, 0.02068525]),\n",
              " 'std_test_score': array([       nan,        nan,        nan,        nan,        nan,\n",
              "               nan,        nan,        nan,        nan,        nan,\n",
              "               nan,        nan,        nan,        nan,        nan,\n",
              "               nan,        nan,        nan,        nan,        nan,\n",
              "        0.0086741 , 0.00983158, 0.00839881, 0.00983158, 0.01405916,\n",
              "        0.01407267, 0.01473228, 0.01407267, 0.01296765, 0.01017546,\n",
              "        0.01380942, 0.01017546, 0.01160431, 0.01124722, 0.01163357,\n",
              "        0.01124722, 0.01117766, 0.01094806, 0.01162583, 0.01094806])}"
            ]
          },
          "metadata": {},
          "execution_count": 37
        }
      ]
    },
    {
      "cell_type": "code",
      "source": [
        "#by running above commands we can find the model with best performing parameters\n",
        "\n",
        "#running both random forest and logistic regression models again with best parameter found with GridSearch method\n",
        "random_forest_final = Pipeline([\n",
        "        ('rf_tfidf',TfidfVectorizer(stop_words='english',ngram_range=(1,3),use_idf=True,smooth_idf=True)),\n",
        "        ('rf_clf',RandomForestClassifier(n_estimators=300,n_jobs=3,max_depth=10))\n",
        "        ])\n",
        "    \n",
        "random_forest_final.fit(train_news['Statement'],train_news['Label'])\n",
        "predicted_rf_final = random_forest_final.predict(test_news['Statement'])\n",
        "np.mean(predicted_rf_final == test_news['Label'])\n",
        "print(classification_report(test_news['Label'], predicted_rf_final))\n"
      ],
      "metadata": {
        "id": "TCgd5rtnlqQr",
        "colab": {
          "base_uri": "https://localhost:8080/"
        },
        "outputId": "ea0a5181-86eb-4b32-a151-6fbaf28a650c"
      },
      "execution_count": 38,
      "outputs": [
        {
          "output_type": "stream",
          "name": "stdout",
          "text": [
            "              precision    recall  f1-score   support\n",
            "\n",
            "       False       0.67      0.00      0.01      1169\n",
            "        True       0.54      1.00      0.70      1382\n",
            "\n",
            "    accuracy                           0.54      2551\n",
            "   macro avg       0.60      0.50      0.35      2551\n",
            "weighted avg       0.60      0.54      0.38      2551\n",
            "\n"
          ]
        }
      ]
    },
    {
      "cell_type": "code",
      "source": [
        "logR_pipeline_final = Pipeline([\n",
        "        #('LogRCV',countV_ngram),\n",
        "        ('LogR_tfidf',TfidfVectorizer(stop_words='english',ngram_range=(1,5),use_idf=True,smooth_idf=False)),\n",
        "        ('LogR_clf',LogisticRegression(penalty=\"l2\",C=1))\n",
        "        ])\n",
        "\n",
        "logR_pipeline_final.fit(train_news['Statement'],train_news['Label'])\n",
        "predicted_LogR_final = logR_pipeline_final.predict(test_news['Statement'])\n",
        "np.mean(predicted_LogR_final == test_news['Label'])\n",
        "#accuracy = 0.62\n",
        "print(classification_report(test_news['Label'], predicted_LogR_final))"
      ],
      "metadata": {
        "id": "zr86TM0Bm8CY",
        "colab": {
          "base_uri": "https://localhost:8080/"
        },
        "outputId": "0f1838cc-2f07-46a2-aeb8-b6fe0345dcdf"
      },
      "execution_count": 39,
      "outputs": [
        {
          "output_type": "stream",
          "name": "stdout",
          "text": [
            "              precision    recall  f1-score   support\n",
            "\n",
            "       False       0.64      0.38      0.48      1169\n",
            "        True       0.61      0.82      0.70      1382\n",
            "\n",
            "    accuracy                           0.62      2551\n",
            "   macro avg       0.62      0.60      0.59      2551\n",
            "weighted avg       0.62      0.62      0.60      2551\n",
            "\n"
          ]
        }
      ]
    },
    {
      "cell_type": "code",
      "source": [
        "# by running both random forest and logistic regression with GridSearch's best parameter estimation, we found that for random \n",
        "# forest model with n-gram has better accuracty than with the parameter estimated. The logistic regression model with best parameter \n",
        "# has almost similar performance as n-gram model so logistic regression will be out choice of model for prediction.\n",
        "\n",
        "#saving best model to the disk\n",
        "model_file = '/content/drive/MyDrive/Fake News Detection/final_model.sav'\n",
        "pickle.dump(logR_pipeline_ngram,open(model_file,'wb'))"
      ],
      "metadata": {
        "id": "fBho7fHDSnHT"
      },
      "execution_count": 40,
      "outputs": []
    },
    {
      "cell_type": "code",
      "source": [
        "from sklearn.datasets import load_digits\n",
        "\n",
        "#Plotting learing curve\n",
        "def plot_learing_curve(pipeline,title):\n",
        "    \n",
        "    X = train_news[\"Statement\"]\n",
        "    y = train_news[\"Label\"]\n",
        "    \n",
        "    pl = pipeline\n",
        "    pl.fit(X,y)\n",
        "\n",
        "    cv=None\n",
        "    n_jobs=None\n",
        "    train_sizes=np.linspace(0.1, 1.0, 5)\n",
        "\n",
        "    train_sizes, train_scores, test_scores = learning_curve(\n",
        "        pl,\n",
        "        X,\n",
        "        y,\n",
        "        cv=cv,\n",
        "        n_jobs=n_jobs,\n",
        "        train_sizes=train_sizes,\n",
        "        # return_times=True,\n",
        "    )\n",
        "    \n",
        "    # train_sizes, train_scores, test_scores = learning_curve(pl, X, y, n_jobs=n_jobs, cv=cv, train_sizes=np.linspace(0.1, 1.0, 5))\n",
        "       \n",
        "    train_scores_mean = np.mean(train_scores, axis=1)\n",
        "    train_scores_std = np.std(train_scores, axis=1)\n",
        "    test_scores_mean = np.mean(test_scores, axis=1)\n",
        "    test_scores_std = np.std(test_scores, axis=1)\n",
        "     \n",
        "    plt.figure()\n",
        "    plt.title(title)\n",
        "    plt.legend(loc=\"best\")\n",
        "    plt.xlabel(\"Training examples\")\n",
        "    plt.ylabel(\"Score\")\n",
        "    plt.gca().invert_yaxis()\n",
        "    \n",
        "    # box-like grid\n",
        "    plt.grid()\n",
        "    \n",
        "    # plot the std deviation as a transparent range at each training set size\n",
        "    plt.fill_between(train_sizes, train_scores_mean - train_scores_std, train_scores_mean + train_scores_std, alpha=0.1, color=\"r\")\n",
        "    plt.fill_between(train_sizes, test_scores_mean - test_scores_std, test_scores_mean + test_scores_std, alpha=0.1, color=\"g\")\n",
        "    \n",
        "    # plot the average training and test score lines at each training set size\n",
        "    plt.plot(train_sizes, train_scores_mean, 'o-', color=\"r\", label=\"Training score\")\n",
        "    plt.plot(train_sizes, test_scores_mean, 'o-', color=\"g\", label=\"Cross-validation score\")\n",
        "    plt.legend(loc=\"best\", title_fontsize = 12)\n",
        "\n",
        "    # sizes the window for readability and displays the plot\n",
        "    # shows error from 0 to 1.1\n",
        "    plt.ylim(-.1,1.1)\n",
        "    plt.show()\n",
        "\n",
        "#below command will plot learing curves for each of the classifiers\n",
        "plot_learing_curve(random_forest_ngram,\"RandomForest Classifier\")\n",
        "plot_learing_curve(logR_pipeline_ngram,\"Naive-bayes Classifier\")\n",
        "plot_learing_curve(nb_pipeline_ngram,\"LogisticRegression Classifier\")\n",
        "plot_learing_curve(svm_pipeline_ngram,\"SVM Classifier\")\n",
        "plot_learing_curve(sgd_pipeline_ngram,\"SGD Classifier\")"
      ],
      "metadata": {
        "id": "3DDnohakS4fX",
        "colab": {
          "base_uri": "https://localhost:8080/",
          "height": 1000
        },
        "outputId": "aad924aa-be6d-4792-f78e-9574df88e9f4"
      },
      "execution_count": 79,
      "outputs": [
        {
          "output_type": "stream",
          "name": "stderr",
          "text": [
            "No handles with labels found to put in legend.\n"
          ]
        },
        {
          "output_type": "display_data",
          "data": {
            "text/plain": [
              "<Figure size 432x288 with 1 Axes>"
            ],
            "image/png": "[encoded data removed]"
          },
          "metadata": {
            "needs_background": "light"
          }
        },
        {
          "output_type": "stream",
          "name": "stderr",
          "text": [
            "No handles with labels found to put in legend.\n"
          ]
        },
        {
          "output_type": "display_data",
          "data": {
            "text/plain": [
              "<Figure size 432x288 with 1 Axes>"
            ],
            "image/png": "[encoded data removed]"
          },
          "metadata": {
            "needs_background": "light"
          }
        },
        {
          "output_type": "stream",
          "name": "stderr",
          "text": [
            "No handles with labels found to put in legend.\n"
          ]
        },
        {
          "output_type": "display_data",
          "data": {
            "text/plain": [
              "<Figure size 432x288 with 1 Axes>"
            ],
            "image/png": "[encoded data removed]"
          },
          "metadata": {
            "needs_background": "light"
          }
        },
        {
          "output_type": "stream",
          "name": "stderr",
          "text": [
            "No handles with labels found to put in legend.\n"
          ]
        },
        {
          "output_type": "display_data",
          "data": {
            "text/plain": [
              "<Figure size 432x288 with 1 Axes>"
            ],
            "image/png": "[encoded data removed]"
          },
          "metadata": {
            "needs_background": "light"
          }
        },
        {
          "output_type": "stream",
          "name": "stderr",
          "text": [
            "No handles with labels found to put in legend.\n"
          ]
        },
        {
          "output_type": "display_data",
          "data": {
            "text/plain": [
              "<Figure size 432x288 with 1 Axes>"
            ],
            "image/png": "[encoded data removed]"
          },
          "metadata": {
            "needs_background": "light"
          }
        }
      ]
    },
    {
      "cell_type": "code",
      "source": [
        "# by plotting the learning cureve for logistic regression, it can be seen that cross-validation score is stagnating throughout and it \n",
        "# is unable to learn from data. Also we see that there are high errors that indicates model is simple and we may want to increase the\n",
        "# model complexity.\n",
        "\n",
        "\n",
        "#plotting Precision-Recall curve\n",
        "def plot_PR_curve(classifier):\n",
        "    \n",
        "    precision, recall, thresholds = precision_recall_curve(test_news['Label'], classifier)\n",
        "    average_precision = average_precision_score(test_news['Label'], classifier)\n",
        "    \n",
        "    plt.step(recall, precision, color='b', alpha=0.2,\n",
        "             where='post')\n",
        "    plt.fill_between(recall, precision, step='post', alpha=0.2,\n",
        "                     color='b')\n",
        "    \n",
        "    plt.xlabel('Recall')\n",
        "    plt.ylabel('Precision')\n",
        "    plt.ylim([0.0, 1.05])\n",
        "    plt.xlim([0.0, 1.0])\n",
        "    plt.title('2-class Random Forest Precision-Recall curve: AP={0:0.2f}'.format(\n",
        "              average_precision))\n",
        "    "
      ],
      "metadata": {
        "id": "-kVfd9L0TDYy"
      },
      "execution_count": 135,
      "outputs": []
    },
    {
      "cell_type": "code",
      "source": [
        "plot_PR_curve(predicted_LogR_ngram)"
      ],
      "metadata": {
        "colab": {
          "base_uri": "https://localhost:8080/",
          "height": 295
        },
        "id": "DeHYX7uTuiT1",
        "outputId": "700dc0b4-9df3-4ee1-a9aa-18b03ec6465b"
      },
      "execution_count": 136,
      "outputs": [
        {
          "output_type": "display_data",
          "data": {
            "text/plain": [
              "<Figure size 432x288 with 1 Axes>"
            ],
            "image/png": "[encoded data removed]"
          },
          "metadata": {
            "needs_background": "light"
          }
        }
      ]
    },
    {
      "cell_type": "code",
      "source": [
        "plot_PR_curve(predicted_rf_ngram)"
      ],
      "metadata": {
        "colab": {
          "base_uri": "https://localhost:8080/",
          "height": 295
        },
        "id": "GZMc5StnukIO",
        "outputId": "9b9cf9d2-f556-4299-adeb-b87d4f8a9890"
      },
      "execution_count": 137,
      "outputs": [
        {
          "output_type": "display_data",
          "data": {
            "text/plain": [
              "<Figure size 432x288 with 1 Axes>"
            ],
            "image/png": "[encoded data removed]"
          },
          "metadata": {
            "needs_background": "light"
          }
        }
      ]
    },
    {
      "cell_type": "code",
      "source": [
        "# Now let's extract the most informative feature from ifidf vectorizer for all fo the classifiers and see of there are any common\n",
        "# words that we can identify i.e. are these most informative feature acorss the classifiers are same? we will create a function that \n",
        "# will extract top 50 features.\n",
        "\n",
        "def show_most_informative_features(model, vect, clf, text=None, n=50):\n",
        "    # Extract the vectorizer and the classifier from the pipeline\n",
        "    vectorizer = model.named_steps[vect]\n",
        "    classifier = model.named_steps[clf]\n",
        "\n",
        "     # Check to make sure that we can perform this computation\n",
        "    if not hasattr(classifier, 'coef_'):\n",
        "        raise TypeError(\n",
        "            \"Cannot compute most informative features on {}.\".format(\n",
        "                classifier.__class__.__name__\n",
        "            )\n",
        "        )\n",
        "            \n",
        "    if text is not None:\n",
        "        # Compute the coefficients for the text\n",
        "        tvec = model.transform([text]).toarray()\n",
        "    else:\n",
        "        # Otherwise simply use the coefficients\n",
        "        tvec = classifier.coef_\n",
        "\n",
        "    # Zip the feature names with the coefs and sort\n",
        "    coefs = sorted(\n",
        "        zip(tvec[0], vectorizer.get_feature_names()),\n",
        "        reverse=True\n",
        "    )\n",
        "    \n",
        "    # Get the top n and bottom n coef, name pairs\n",
        "    topn  = zip(coefs[:n], coefs[:-(n+1):-1])\n",
        "\n",
        "    # Create the output string to return\n",
        "    output = []\n",
        "\n",
        "    # If text, add the predicted value to the output.\n",
        "    if text is not None:\n",
        "        output.append(\"\\\"{}\\\"\".format(text))\n",
        "        output.append(\n",
        "            \"Classified as: {}\".format(model.predict([text]))\n",
        "        )\n",
        "        output.append(\"\")\n",
        "\n",
        "    # Create two columns with most negative and most positive features.\n",
        "    for (cp, fnp), (cn, fnn) in topn:\n",
        "        output.append(\n",
        "            \"{:0.4f}{: >15}    {:0.4f}{: >15}\".format(\n",
        "                cp, fnp, cn, fnn\n",
        "            )\n",
        "        )\n",
        "    #return \"\\n\\n\".join(output)\n",
        "    print(output)\n",
        "\n",
        "show_most_informative_features(logR_pipeline_ngram,vect='LogR_tfidf',clf='LogR_clf')\n",
        "show_most_informative_features(nb_pipeline_ngram,vect='nb_tfidf',clf='nb_clf')\n",
        "show_most_informative_features(svm_pipeline_ngram,vect='svm_tfidf',clf='svm_clf')\n",
        "show_most_informative_features(sgd_pipeline_ngram,vect='sgd_tfidf',clf='sgd_clf')"
      ],
      "metadata": {
        "colab": {
          "base_uri": "https://localhost:8080/"
        },
        "id": "OGMpLw_HTS8k",
        "outputId": "b9165cbb-4b53-4820-9def-7f637a912df0"
      },
      "execution_count": 138,
      "outputs": [
        {
          "output_type": "stream",
          "name": "stdout",
          "text": [
            "['2.8908        percent    -1.7942      obamacare', '1.7637        average    -1.6300           says', '1.6477          times    -1.4106          obama', '1.5998            day    -1.3994           plan', '1.4585        million    -1.2839            rep', '1.4521        georgia    -1.2085      wisconsin', '1.4321      countries    -1.1150           care', '1.4306           debt    -1.0474   scott walker', '1.4227        country    -1.0360         walker', '1.3848        highest    -1.0130       increase', '1.3639       american    -0.9904       medicare', '1.3051           half    -0.9826        clinton', '1.2677            000    -0.9775          scott', '1.1009         states    -0.9539     government', '1.0707         months    -0.9498          going', '0.9916         lowest    -0.9253         obamas', '0.9890             10    -0.9121           away', '0.9856       actually    -0.8947      president', '0.9699         nearly    -0.8871          group', '0.9656          years    -0.8835        illegal', '0.9537           rate    -0.8566       care law', '0.9523           year    -0.8342       security', '0.9176      education    -0.8095health care law', '0.8783         cities    -0.7975         social', '0.8726            cut    -0.7622           isis', '0.8451         income    -0.7517          china', '0.8428        poverty    -0.7511    health care', '0.8349         decade    -0.7506       stimulus', '0.8321          worst    -0.7377          white', '0.8090        florida    -0.7340social security', '0.7991     republican    -0.7225         barack', '0.7859       spending    -0.7218    500 billion', '0.7839        deficit    -0.7043         gotten', '0.7790         checks    -0.7014       supports', '0.7479        decades    -0.6995            say', '0.7451          terms    -0.6853           team', '0.7425       majority    -0.6827says barack obama', '0.7391         county    -0.6806          didnt', '0.7256          rates    -0.6786   barack obama', '0.7197         school    -0.6761       deciding', '0.7189             80    -0.6755       vacation', '0.7182       trillion    -0.6724      democrats', '0.7160      americans    -0.6647        reserve', '0.7142     graduation    -0.6444       says rep', '0.7084        torture    -0.6427           real', '0.6996         mccain    -0.6385          raise', '0.6915          lower    -0.6350      gov scott', '0.6785           ohio    -0.6323       bankrupt', '0.6762          crime    -0.6246            run', '0.6758           does    -0.6244gov scott walker']\n",
            "['-8.3592           says    -12.2914             00', '-8.4905        percent    -12.2914        00 2014', '-8.9000          state    -12.291400 2014 provisions', '-8.9871            000    -12.291400 2014 provisions incorporated', '-9.0369          years    -12.2914   000 000 send', '-9.0583           year    -12.2914000 000 send community', '-9.0788         states    -12.2914000 000 support', '-9.1049            tax    -12.2914000 000 support supreme', '-9.1206        million    -12.2914         000 10', '-9.1603         people    -12.2914     000 10 000', '-9.1698          obama    -12.2914000 10 000 refugees', '-9.2866           jobs    -12.2914     000 20 000', '-9.3095         health    -12.2914000 20 000 infrastructural', '-9.3195      president    -12.2914000 20 000 jobs', '-9.3506        country    -12.2914         000 25', '-9.3991          texas    -12.2914     000 25 000', '-9.3995            new    -12.2914000 25 000 federal', '-9.4850          taxes    -12.2914  000 40 000 50', '-9.4946           rate    -12.2914        000 400', '-9.4967        billion    -12.2914    000 400 000', '-9.5052           care    -12.2914000 400 000 military', '-9.5482         united    -12.2914000 50 000 year', '-9.5514  united states    -12.2914        000 500', '-9.5630        federal    -12.2914 000 500 severe', '-9.5893         budget    -12.2914000 500 severe vaccine', '-9.5935           said    -12.2914         000 97', '-9.6169             10    -12.2914     000 97 000', '-9.6369      americans    -12.2914000 97 000 just', '-9.6476       american    -12.2914    000 african', '-9.6539          voted    -12.2914000 african americans', '-9.6548           debt    -12.2914000 african americans andwas', '-9.6742            cut    -12.2914    000 applied', '-9.6810           time    -12.2914000 applied equally', '-9.6853            pay    -12.2914000 applied equally granted', '-9.6932    health care    -12.2914     000 babies', '-9.7212     government    -12.2914000 babies born', '-9.7233        average    -12.2914000 babies born deformed', '-9.7366        highest    -12.2914000 barrels day', '-9.7589            law    -12.2914000 barrels day able', '-9.7677     republican    -12.2914000 barrels oil day', '-9.7828          money    -12.2914       000 beef', '-9.7909        florida    -12.2914000 beef cattle', '-9.7958         barack    -12.2914000 beef cattle operations', '-9.8086       spending    -12.2914    000 buddies', '-9.8254          times    -12.2914000 buddies apartment', '-9.8296           just    -12.2914000 buddies apartment buildings', '-9.8404         senate    -12.2914 000 businesses', '-9.8451            day    -12.2914000 businesses created', '-9.8497          world    -12.2914000 businesses created scott', '-9.8549         school    -12.2914       000 caps']\n",
            "['1.8707        percent    -1.4757      obamacare', '1.6936      countries    -1.2105            rep', '1.6539        average    -1.1936           plan', '1.6317            day    -1.1096          group', '1.6210          times    -1.1001          obama', '1.5165        georgia    -1.0898           says', '1.2959       american    -1.0880           away', '1.2499           half    -1.0773      wisconsin', '1.2222           debt    -1.0312         gotten', '1.1749         months    -0.9794           isis', '1.1689        million    -0.9710       war iraq', '1.1270        country    -0.9663       increase', '1.0838            000    -0.9563        illegal', '1.0822       actually    -0.9513    500 billion', '1.0279        highest    -0.9330          china', '1.0227         cities    -0.9257       vacation', '0.9875          terms    -0.9149           real', '0.9781        decades    -0.8944   scott walker', '0.9575          worst    -0.8813           team', '0.9428   percent time    -0.8521     government', '0.9072         lowest    -0.8493          going', '0.9017     says scott    -0.8411          fight', '0.8889         decade    -0.8411        clinton', '0.8838         checks    -0.8386         walker', '0.8556   corporations    -0.8283         obamas', '0.8526        opposed    -0.8186           idea', '0.8486            cut    -0.8132       bankrupt', '0.8431       expanded    -0.8120      cicilline', '0.8422             ve    -0.8050            tom', '0.8400         nearly    -0.8010       deciding', '0.8395            row    -0.7970       medicare', '0.8340          worth    -0.7966   end medicare', '0.8314          lower    -0.7944       care law', '0.8312        deficit    -0.7871        reserve', '0.8286     republican    -0.7820     christians', '0.8239            won    -0.7785         muslim', '0.8232         thirds    -0.7783          price', '0.8218             80    -0.7757          white', '0.8168        poverty    -0.7723       supports', '0.8144majority americans    -0.7698       released', '0.8035           save    -0.7657        selling', '0.7999       shutdown    -0.7653            say', '0.7987         spends    -0.7639      jobs lost', '0.7968           does    -0.7615    voter fraud', '0.7944abortion rights    -0.7557  said drilling', '0.7915          grown    -0.7473          taxed', '0.7903        torture    -0.7472           seat', '0.7889       majority    -0.7442health care law', '0.7875        minutes    -0.7432  redistricting', '0.7853         county    -0.7388        cabinet']\n",
            "['0.4639        percent    -0.5855      obamacare', '0.3514            day    -0.4593           care', '0.3407          times    -0.4491           plan', '0.3354      countries    -0.4439          obama', '0.3278        average    -0.4418   scott walker', '0.3129        million    -0.4281         walker', '0.3030       american    -0.4259            rep', '0.3027            000    -0.4177           says', '0.2964        georgia    -0.3802         barack', '0.2922           half    -0.3769       care law', '0.2723           debt    -0.3730          scott', '0.2722        country    -0.3589health care law', '0.2458         months    -0.3577    health care', '0.2365       actually    -0.3552        clinton', '0.2302          years    -0.3457       security', '0.2274         states    -0.3446   barack obama', '0.2061     republican    -0.3436       medicare', '0.2033         cities    -0.3356         social', '0.2028        florida    -0.3355      wisconsin', '0.1976         county    -0.3280social security', '0.1948          worst    -0.3122         obamas', '0.1908       trillion    -0.3104       increase', '0.1906        highest    -0.3074      gov scott', '0.1902          terms    -0.3008gov scott walker', '0.1878            cut    -0.2851     government', '0.1864         nearly    -0.2806          going', '0.1845        deficit    -0.2799      president', '0.1845             10    -0.2751says barack obama', '0.1808           does    -0.2742           away', '0.1798        program    -0.2646   tax increase', '0.1798           year    -0.2486          group', '0.1794      education    -0.2449    says barack', '0.1789       spending    -0.2431    500 billion', '0.1778        poverty    -0.2419       stimulus', '0.1772         called    -0.2393       deciding', '0.1759         decade    -0.2341       says rep', '0.1735president obama    -0.2237           isis', '0.1726   percent time    -0.2234       supports', '0.1710         checks    -0.2227        hillary', '0.1704          lower    -0.2163          white', '0.1687           ohio    -0.2155        illegal', '0.1681         lowest    -0.2099         health', '0.1680           save    -0.2096          raise', '0.1670         romney    -0.2087   end medicare', '0.1651        opposed    -0.2080       takeover', '0.1643     department    -0.2057       says gov', '0.1630       majority    -0.2031            gov', '0.1619     says scott    -0.2026         gotten', '0.1585         mccain    -0.2026  deciding vote', '0.1579         income    -0.1989   says hillary']\n"
          ]
        }
      ]
    },
    {
      "cell_type": "code",
      "source": [
        "final_model = '/content/drive/MyDrive/Fake News Detection/final_model.sav'\n",
        "\n",
        "from sklearn.linear_model import LogisticRegression\n",
        "\n",
        "#function to run for prediction\n",
        "def detecting_fake_news(var):    \n",
        "#retrieving the best model for prediction call\n",
        "    load_model = pickle.load(open(final_model, 'rb'))\n",
        "    prediction = load_model.predict([var])\n",
        "    prob = load_model.predict_proba([var])\n",
        "\n",
        "    if prediction[0] == 0:\n",
        "        print(\"Prediction of the News :  Looking Fake⚠ News📰 \")\n",
        "    else:\n",
        "        print(\"Prediction of the News : Looking Real News📰 \")\n",
        "\n",
        "    return print(\"The truth probability score is \",prob[0][1])\n",
        "\n",
        "# detecting_fake_news('Says Having organizations parading as being social welfare organizations and then being involved in the political combat harkens back to why the statute a hundred years ago said that they were prohibited.')"
      ],
      "metadata": {
        "id": "SLIuxvCf8DwT"
      },
      "execution_count": 157,
      "outputs": []
    },
    {
      "cell_type": "code",
      "source": [
        "#doc_new = ['obama is running for president in 2016']\n",
        "\n",
        "var = input(\"Please enter the news text you want to verify: \")\n",
        "print(\"You entered: \" + str(var))\n",
        "\n",
        "if __name__ == '__main__':\n",
        "    detecting_fake_news(var)"
      ],
      "metadata": {
        "id": "Yv-Ngrqt7RTH",
        "colab": {
          "base_uri": "https://localhost:8080/"
        },
        "outputId": "f5eb81a2-4c8a-4699-c559-fa8e4b957be6"
      },
      "execution_count": 141,
      "outputs": [
        {
          "output_type": "stream",
          "name": "stdout",
          "text": [
            "Please enter the news text you want to verify: Says nearly half of Oregons children are poor.\n",
            "You entered: Says nearly half of Oregons children are poor.\n",
            "The given statement is  True\n",
            "The truth probability score is  0.6416077159898091\n"
          ]
        }
      ]
    },
    {
      "cell_type": "code",
      "source": [
        "var = input(\"Please enter the news text you want to verify: \")\n",
        "print(\"You entered: \" + str(var))\n",
        "\n",
        "if __name__ == '__main__':\n",
        "    detecting_fake_news(var)"
      ],
      "metadata": {
        "colab": {
          "base_uri": "https://localhost:8080/"
        },
        "id": "g7CEmb7jL9ps",
        "outputId": "32fbed73-f306-47f8-80b1-5acef4bb3332"
      },
      "execution_count": 155,
      "outputs": [
        {
          "output_type": "stream",
          "name": "stdout",
          "text": [
            "Please enter the news text you want to verify: Says Having organizations parading as being social welfare organizations and then being involved in the political combat harkens back to why the statute a hundred years ago said that they were prohibited.\n",
            "You entered: Says Having organizations parading as being social welfare organizations and then being involved in the political combat harkens back to why the statute a hundred years ago said that they were prohibited.\n",
            "Prediction of the News :  Looking Fake⚠ News📰 \n",
            "The truth probability score is  0.46344501997729975\n"
          ]
        }
      ]
    }
  ]
}