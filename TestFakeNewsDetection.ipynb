{
  "cells": [
    {
      "cell_type": "markdown",
      "metadata": {
        "id": "view-in-github",
        "colab_type": "text"
      },
      "source": [
        "<a href=\"https://colab.research.google.com/github/dharace/Fake-News-Detection/blob/main/TestFakeNewsDetection.ipynb\" target=\"_parent\"><img src=\"https://colab.research.google.com/assets/colab-badge.svg\" alt=\"Open In Colab\"/></a>"
      ]
    },
    {
      "cell_type": "markdown",
      "metadata": {
        "id": "44eGQjKg7yDh"
      },
      "source": [
        "\n",
        "\n",
        "**Proposed Solution for Efficient Fake News Detection using Python**\n",
        "\n",
        "In this project, we have used various natural language processing techniques and machine learning algorithms to classify fake news articles using sci-kit libraries from python.\n",
        "\n",
        "\n"
      ]
    },
    {
      "cell_type": "markdown",
      "metadata": {
        "id": "Npqzf_HLCB3_"
      },
      "source": [
        "**Step 1**\n",
        "\n",
        "Download gothub repository"
      ]
    },
    {
      "cell_type": "code",
      "execution_count": null,
      "metadata": {
        "colab": {
          "base_uri": "https://localhost:8080/"
        },
        "id": "J5q6ZtRECLrx",
        "outputId": "5171d38c-e60b-4614-a796-30f1f597c939"
      },
      "outputs": [
        {
          "output_type": "stream",
          "name": "stdout",
          "text": [
            "Cloning into 'Fake-News-Detection'...\n",
            "remote: Enumerating objects: 186, done.\u001b[K\n",
            "remote: Counting objects: 100% (186/186), done.\u001b[K\n",
            "remote: Compressing objects: 100% (169/169), done.\u001b[K\n",
            "remote: Total 186 (delta 102), reused 32 (delta 9), pack-reused 0\u001b[K\n",
            "Receiving objects: 100% (186/186), 5.75 MiB | 4.69 MiB/s, done.\n",
            "Resolving deltas: 100% (102/102), done.\n"
          ]
        }
      ],
      "source": [
        "!git clone https://github.com/dharace/Fake-News-Detection.git"
      ]
    },
    {
      "cell_type": "code",
      "execution_count": null,
      "metadata": {
        "colab": {
          "base_uri": "https://localhost:8080/"
        },
        "id": "Dc3QFmjhCfF6",
        "outputId": "2fea7f54-0b48-4246-e41a-17271d2c42ad"
      },
      "outputs": [
        {
          "output_type": "stream",
          "name": "stdout",
          "text": [
            "/content/Fake-News-Detection\n"
          ]
        }
      ],
      "source": [
        "%cd /content/Fake-News-Detection"
      ]
    },
    {
      "cell_type": "code",
      "execution_count": null,
      "metadata": {
        "colab": {
          "base_uri": "https://localhost:8080/"
        },
        "id": "gTrc81gGCgg0",
        "outputId": "ec860912-abe0-4a0f-f394-8d95d768a850"
      },
      "outputs": [
        {
          "output_type": "stream",
          "name": "stdout",
          "text": [
            "data  Fake_News_Detection.ipynb  final_model.sav  liar_dataset\tREADME.md  src\n"
          ]
        }
      ],
      "source": [
        "!ls"
      ]
    },
    {
      "cell_type": "code",
      "execution_count": null,
      "metadata": {
        "id": "lSuLJg9mTDxJ"
      },
      "outputs": [],
      "source": [
        "final_model = 'final_model.sav'"
      ]
    },
    {
      "cell_type": "code",
      "execution_count": null,
      "metadata": {
        "colab": {
          "base_uri": "https://localhost:8080/"
        },
        "id": "rldPg6mEap-Q",
        "outputId": "e83d7907-4638-41e2-b8a7-81035d09fd0f"
      },
      "outputs": [
        {
          "output_type": "stream",
          "name": "stdout",
          "text": [
            "/content/Fake-News-Detection/src\n"
          ]
        }
      ],
      "source": [
        "%cd /content/Fake-News-Detection/src"
      ]
    },
    {
      "cell_type": "code",
      "execution_count": null,
      "metadata": {
        "colab": {
          "base_uri": "https://localhost:8080/"
        },
        "id": "OJFGlNKva2AK",
        "outputId": "67a05e59-a6e7-407e-ae0d-a38c0b29a709"
      },
      "outputs": [
        {
          "output_type": "stream",
          "name": "stdout",
          "text": [
            "Classifier.py  FeatureSelection.py  Requirements.txt\n",
            "DataPrep.py    Prediction.py\n"
          ]
        }
      ],
      "source": [
        "!ls"
      ]
    },
    {
      "cell_type": "markdown",
      "metadata": {
        "id": "rEit5lut8OZT"
      },
      "source": [
        "**Step 2**\n",
        "\n",
        "First, we install the required packages with respect to the versions used in our computations and import the required packages."
      ]
    },
    {
      "cell_type": "code",
      "execution_count": null,
      "metadata": {
        "colab": {
          "base_uri": "https://localhost:8080/",
          "height": 506
        },
        "id": "c-EjUfb68V2f",
        "outputId": "e8f4355f-b7aa-44cd-b9d7-a7bfd438fa7d"
      },
      "outputs": [
        {
          "output_type": "stream",
          "name": "stdout",
          "text": [
            "Requirement already satisfied: scikit-learn==1.0.2 in /usr/local/lib/python3.7/dist-packages (from -r Requirements.txt (line 1)) (1.0.2)\n",
            "Requirement already satisfied: numpy==1.21.5 in /usr/local/lib/python3.7/dist-packages (from -r Requirements.txt (line 2)) (1.21.5)\n",
            "Requirement already satisfied: scipy==1.4.1 in /usr/local/lib/python3.7/dist-packages (from -r Requirements.txt (line 3)) (1.4.1)\n",
            "Collecting matplotlib==3.1.3\n",
            "  Downloading matplotlib-3.1.3-cp37-cp37m-manylinux1_x86_64.whl (13.1 MB)\n",
            "\u001b[K     |████████████████████████████████| 13.1 MB 4.6 MB/s \n",
            "\u001b[?25hRequirement already satisfied: threadpoolctl>=2.0.0 in /usr/local/lib/python3.7/dist-packages (from scikit-learn==1.0.2->-r Requirements.txt (line 1)) (3.1.0)\n",
            "Requirement already satisfied: joblib>=0.11 in /usr/local/lib/python3.7/dist-packages (from scikit-learn==1.0.2->-r Requirements.txt (line 1)) (1.1.0)\n",
            "Requirement already satisfied: pyparsing!=2.0.4,!=2.1.2,!=2.1.6,>=2.0.1 in /usr/local/lib/python3.7/dist-packages (from matplotlib==3.1.3->-r Requirements.txt (line 4)) (3.0.7)\n",
            "Requirement already satisfied: cycler>=0.10 in /usr/local/lib/python3.7/dist-packages (from matplotlib==3.1.3->-r Requirements.txt (line 4)) (0.11.0)\n",
            "Requirement already satisfied: kiwisolver>=1.0.1 in /usr/local/lib/python3.7/dist-packages (from matplotlib==3.1.3->-r Requirements.txt (line 4)) (1.4.0)\n",
            "Requirement already satisfied: python-dateutil>=2.1 in /usr/local/lib/python3.7/dist-packages (from matplotlib==3.1.3->-r Requirements.txt (line 4)) (2.8.2)\n",
            "Requirement already satisfied: typing-extensions in /usr/local/lib/python3.7/dist-packages (from kiwisolver>=1.0.1->matplotlib==3.1.3->-r Requirements.txt (line 4)) (3.10.0.2)\n",
            "Requirement already satisfied: six>=1.5 in /usr/local/lib/python3.7/dist-packages (from python-dateutil>=2.1->matplotlib==3.1.3->-r Requirements.txt (line 4)) (1.15.0)\n",
            "Installing collected packages: matplotlib\n",
            "  Attempting uninstall: matplotlib\n",
            "    Found existing installation: matplotlib 3.2.2\n",
            "    Uninstalling matplotlib-3.2.2:\n",
            "      Successfully uninstalled matplotlib-3.2.2\n",
            "\u001b[31mERROR: pip's dependency resolver does not currently take into account all the packages that are installed. This behaviour is the source of the following dependency conflicts.\n",
            "albumentations 0.1.12 requires imgaug<0.2.7,>=0.2.5, but you have imgaug 0.2.9 which is incompatible.\u001b[0m\n",
            "Successfully installed matplotlib-3.1.3\n"
          ]
        },
        {
          "output_type": "display_data",
          "data": {
            "application/vnd.colab-display-data+json": {
              "pip_warning": {
                "packages": [
                  "matplotlib",
                  "mpl_toolkits"
                ]
              }
            }
          },
          "metadata": {}
        }
      ],
      "source": [
        "#Installing required packages\n",
        "!pip install -r Requirements.txt"
      ]
    },
    {
      "cell_type": "markdown",
      "source": [
        "**Step 3:**\n",
        "\n",
        "Import required classes from github to call methods"
      ],
      "metadata": {
        "id": "CGPf3zK7WQTg"
      }
    },
    {
      "cell_type": "code",
      "source": [
        "import warnings\n",
        "warnings.filterwarnings('ignore')\n",
        "from DataPrep import *\n",
        "from FeatureSelection import *\n",
        "from Classifier import *\n",
        "from Prediction import *\n",
        "from sklearn.metrics import confusion_matrix, f1_score, classification_report"
      ],
      "metadata": {
        "id": "th5vQh_7WGd2"
      },
      "execution_count": null,
      "outputs": []
    },
    {
      "cell_type": "markdown",
      "metadata": {
        "id": "3XxPu3JaEi5-"
      },
      "source": [
        "**Step 4**\n",
        "\n",
        "**Install Dataset**\n",
        "\n",
        "LIAR: A BENCHMARK DATASET FOR FAKE NEWS DETECTION\n",
        "\n",
        "The dataset used for this project were in csv format named train.csv, test.csv and valid.csv and can be found in repo. The original datasets are in \"liar\" folder in tsv format."
      ]
    },
    {
      "cell_type": "code",
      "execution_count": null,
      "metadata": {
        "colab": {
          "base_uri": "https://localhost:8080/"
        },
        "id": "J8ciy1DZn8YF",
        "outputId": "00b31d0f-0eec-41c4-df85-ed061acb4f96"
      },
      "outputs": [
        {
          "output_type": "stream",
          "name": "stdout",
          "text": [
            "/content/Fake-News-Detection/src\n"
          ]
        }
      ],
      "source": [
        "%cd /content/Fake-News-Detection/src"
      ]
    },
    {
      "cell_type": "code",
      "execution_count": null,
      "metadata": {
        "id": "hTVG94TrE2zG"
      },
      "outputs": [],
      "source": [
        "#before reading the files, setup the working directory to point to project repo\n",
        "#reading data files \n",
        "\n",
        "test_filename = 'test.csv'\n",
        "train_filename = 'train.csv'\n",
        "valid_filename = 'valid.csv'"
      ]
    },
    {
      "cell_type": "code",
      "source": [
        "nltk.download('treebank')\n",
        "nltk.download('stopwords')"
      ],
      "metadata": {
        "colab": {
          "base_uri": "https://localhost:8080/"
        },
        "id": "Z4V4qsMvWmLB",
        "outputId": "79413161-ee3b-4c00-d61e-eee1b8e75a50"
      },
      "execution_count": null,
      "outputs": [
        {
          "output_type": "stream",
          "name": "stdout",
          "text": [
            "[nltk_data] Downloading package treebank to /root/nltk_data...\n",
            "[nltk_data]   Unzipping corpora/treebank.zip.\n",
            "[nltk_data] Downloading package stopwords to /root/nltk_data...\n",
            "[nltk_data]   Unzipping corpora/stopwords.zip.\n"
          ]
        },
        {
          "output_type": "execute_result",
          "data": {
            "text/plain": [
              "True"
            ]
          },
          "metadata": {},
          "execution_count": 11
        }
      ]
    },
    {
      "cell_type": "markdown",
      "source": [
        "**Step 5:**\n",
        "\n",
        "Go to the \"data\" folder & download glove.6B.zip."
      ],
      "metadata": {
        "id": "sjgshenlWla0"
      }
    },
    {
      "cell_type": "code",
      "execution_count": null,
      "metadata": {
        "colab": {
          "base_uri": "https://localhost:8080/"
        },
        "id": "AKi7y8IsUA2P",
        "outputId": "984923d2-f6d2-47ca-c6ff-bde8c69ef802"
      },
      "outputs": [
        {
          "output_type": "stream",
          "name": "stdout",
          "text": [
            "/content/Fake-News-Detection/data\n"
          ]
        }
      ],
      "source": [
        "%cd /content/Fake-News-Detection/data"
      ]
    },
    {
      "cell_type": "code",
      "execution_count": null,
      "metadata": {
        "colab": {
          "base_uri": "https://localhost:8080/"
        },
        "id": "9W-jaWcoemj1",
        "outputId": "d80bb944-d5fc-4c82-bac2-e39862e6eaba"
      },
      "outputs": [
        {
          "output_type": "stream",
          "name": "stdout",
          "text": [
            "test.csv  train.csv  valid.csv\n"
          ]
        }
      ],
      "source": [
        "!ls"
      ]
    },
    {
      "cell_type": "code",
      "execution_count": null,
      "metadata": {
        "id": "TwEu2Uq-NzBy",
        "colab": {
          "base_uri": "https://localhost:8080/"
        },
        "outputId": "51073b21-00b6-49f4-fc60-c39200274c58"
      },
      "outputs": [
        {
          "output_type": "stream",
          "name": "stdout",
          "text": [
            "--2022-04-10 23:45:09--  https://nlp.stanford.edu/data/glove.6B.zip\n",
            "Resolving nlp.stanford.edu (nlp.stanford.edu)... 171.64.67.140\n",
            "Connecting to nlp.stanford.edu (nlp.stanford.edu)|171.64.67.140|:443... connected.\n",
            "HTTP request sent, awaiting response... 301 Moved Permanently\n",
            "Location: http://downloads.cs.stanford.edu/nlp/data/glove.6B.zip [following]\n",
            "--2022-04-10 23:45:09--  http://downloads.cs.stanford.edu/nlp/data/glove.6B.zip\n",
            "Resolving downloads.cs.stanford.edu (downloads.cs.stanford.edu)... 171.64.64.22\n",
            "Connecting to downloads.cs.stanford.edu (downloads.cs.stanford.edu)|171.64.64.22|:80... connected.\n",
            "HTTP request sent, awaiting response... 200 OK\n",
            "Length: 862182613 (822M) [application/zip]\n",
            "Saving to: ‘./glove.6B.zip’\n",
            "\n",
            "./glove.6B.zip      100%[===================>] 822.24M  5.29MB/s    in 2m 40s  \n",
            "\n",
            "2022-04-10 23:47:49 (5.14 MB/s) - ‘./glove.6B.zip’ saved [862182613/862182613]\n",
            "\n",
            "Archive:  ./glove.6B.zip\n",
            "  inflating: glove.6B.50d.txt        \n",
            "  inflating: glove.6B.100d.txt       \n",
            "  inflating: glove.6B.200d.txt       \n",
            "  inflating: glove.6B.300d.txt       \n"
          ]
        }
      ],
      "source": [
        "!wget -O ./glove.6B.zip https://nlp.stanford.edu/data/glove.6B.zip\n",
        "!unzip ./glove.6B.zip"
      ]
    },
    {
      "cell_type": "code",
      "execution_count": null,
      "metadata": {
        "id": "YmW2C2RsOTfm"
      },
      "outputs": [],
      "source": [
        "glove_6B_50d = './data/glove.6B.50d.txt'"
      ]
    },
    {
      "cell_type": "markdown",
      "source": [
        "**Step 6**\n",
        "\n",
        "Create object of DataPrep.py and pass filepath of each dataset test.csv, train.csv, valid.csv"
      ],
      "metadata": {
        "id": "-ClY42OBXXvO"
      }
    },
    {
      "cell_type": "code",
      "execution_count": null,
      "metadata": {
        "colab": {
          "base_uri": "https://localhost:8080/"
        },
        "id": "CJpDESQPGlfk",
        "outputId": "8c90837b-c73f-4add-a164-c1b0e80a6bab"
      },
      "outputs": [
        {
          "output_type": "stream",
          "name": "stdout",
          "text": [
            "[nltk_data] Downloading package treebank to /root/nltk_data...\n",
            "[nltk_data]   Package treebank is already up-to-date!\n",
            "[nltk_data] Downloading package stopwords to /root/nltk_data...\n",
            "[nltk_data]   Package stopwords is already up-to-date!\n"
          ]
        }
      ],
      "source": [
        "dataPrep = DataPrep(test_filename, train_filename, valid_filename)"
      ]
    },
    {
      "cell_type": "markdown",
      "source": [
        "Print top five of dataset for reference."
      ],
      "metadata": {
        "id": "-deMWM1YX1-a"
      }
    },
    {
      "cell_type": "code",
      "source": [
        "dataPrep.train_news.head(5)"
      ],
      "metadata": {
        "colab": {
          "base_uri": "https://localhost:8080/",
          "height": 206
        },
        "id": "ckWOcSJaXnWt",
        "outputId": "35846e4c-fef5-463b-9c6c-73d716849c77"
      },
      "execution_count": null,
      "outputs": [
        {
          "output_type": "execute_result",
          "data": {
            "text/plain": [
              "                                           Statement  Label\n",
              "0  Building a wall on the U.S.-Mexico border will...   True\n",
              "1  Wisconsin is on pace to double the number of l...  False\n",
              "2  Says John McCain has done nothing to help the ...  False\n",
              "3  Suzanne Bonamici supports a plan that will cut...   True\n",
              "4  When asked by a reporter whether hes at the ce...  False"
            ],
            "text/html": [
              "\n",
              "  <div id=\"df-32fd0461-f714-4557-9111-dd81aedfdff2\">\n",
              "    <div class=\"colab-df-container\">\n",
              "      <div>\n",
              "<style scoped>\n",
              "    .dataframe tbody tr th:only-of-type {\n",
              "        vertical-align: middle;\n",
              "    }\n",
              "\n",
              "    .dataframe tbody tr th {\n",
              "        vertical-align: top;\n",
              "    }\n",
              "\n",
              "    .dataframe thead th {\n",
              "        text-align: right;\n",
              "    }\n",
              "</style>\n",
              "<table border=\"1\" class=\"dataframe\">\n",
              "  <thead>\n",
              "    <tr style=\"text-align: right;\">\n",
              "      <th></th>\n",
              "      <th>Statement</th>\n",
              "      <th>Label</th>\n",
              "    </tr>\n",
              "  </thead>\n",
              "  <tbody>\n",
              "    <tr>\n",
              "      <th>0</th>\n",
              "      <td>Building a wall on the U.S.-Mexico border will...</td>\n",
              "      <td>True</td>\n",
              "    </tr>\n",
              "    <tr>\n",
              "      <th>1</th>\n",
              "      <td>Wisconsin is on pace to double the number of l...</td>\n",
              "      <td>False</td>\n",
              "    </tr>\n",
              "    <tr>\n",
              "      <th>2</th>\n",
              "      <td>Says John McCain has done nothing to help the ...</td>\n",
              "      <td>False</td>\n",
              "    </tr>\n",
              "    <tr>\n",
              "      <th>3</th>\n",
              "      <td>Suzanne Bonamici supports a plan that will cut...</td>\n",
              "      <td>True</td>\n",
              "    </tr>\n",
              "    <tr>\n",
              "      <th>4</th>\n",
              "      <td>When asked by a reporter whether hes at the ce...</td>\n",
              "      <td>False</td>\n",
              "    </tr>\n",
              "  </tbody>\n",
              "</table>\n",
              "</div>\n",
              "      <button class=\"colab-df-convert\" onclick=\"convertToInteractive('df-32fd0461-f714-4557-9111-dd81aedfdff2')\"\n",
              "              title=\"Convert this dataframe to an interactive table.\"\n",
              "              style=\"display:none;\">\n",
              "        \n",
              "  <svg xmlns=\"http://www.w3.org/2000/svg\" height=\"24px\"viewBox=\"0 0 24 24\"\n",
              "       width=\"24px\">\n",
              "    <path d=\"M0 0h24v24H0V0z\" fill=\"none\"/>\n",
              "    <path d=\"M18.56 5.44l.94 2.06.94-2.06 2.06-.94-2.06-.94-.94-2.06-.94 2.06-2.06.94zm-11 1L8.5 8.5l.94-2.06 2.06-.94-2.06-.94L8.5 2.5l-.94 2.06-2.06.94zm10 10l.94 2.06.94-2.06 2.06-.94-2.06-.94-.94-2.06-.94 2.06-2.06.94z\"/><path d=\"M17.41 7.96l-1.37-1.37c-.4-.4-.92-.59-1.43-.59-.52 0-1.04.2-1.43.59L10.3 9.45l-7.72 7.72c-.78.78-.78 2.05 0 2.83L4 21.41c.39.39.9.59 1.41.59.51 0 1.02-.2 1.41-.59l7.78-7.78 2.81-2.81c.8-.78.8-2.07 0-2.86zM5.41 20L4 18.59l7.72-7.72 1.47 1.35L5.41 20z\"/>\n",
              "  </svg>\n",
              "      </button>\n",
              "      \n",
              "  <style>\n",
              "    .colab-df-container {\n",
              "      display:flex;\n",
              "      flex-wrap:wrap;\n",
              "      gap: 12px;\n",
              "    }\n",
              "\n",
              "    .colab-df-convert {\n",
              "      background-color: #E8F0FE;\n",
              "      border: none;\n",
              "      border-radius: 50%;\n",
              "      cursor: pointer;\n",
              "      display: none;\n",
              "      fill: #1967D2;\n",
              "      height: 32px;\n",
              "      padding: 0 0 0 0;\n",
              "      width: 32px;\n",
              "    }\n",
              "\n",
              "    .colab-df-convert:hover {\n",
              "      background-color: #E2EBFA;\n",
              "      box-shadow: 0px 1px 2px rgba(60, 64, 67, 0.3), 0px 1px 3px 1px rgba(60, 64, 67, 0.15);\n",
              "      fill: #174EA6;\n",
              "    }\n",
              "\n",
              "    [theme=dark] .colab-df-convert {\n",
              "      background-color: #3B4455;\n",
              "      fill: #D2E3FC;\n",
              "    }\n",
              "\n",
              "    [theme=dark] .colab-df-convert:hover {\n",
              "      background-color: #434B5C;\n",
              "      box-shadow: 0px 1px 3px 1px rgba(0, 0, 0, 0.15);\n",
              "      filter: drop-shadow(0px 1px 2px rgba(0, 0, 0, 0.3));\n",
              "      fill: #FFFFFF;\n",
              "    }\n",
              "  </style>\n",
              "\n",
              "      <script>\n",
              "        const buttonEl =\n",
              "          document.querySelector('#df-32fd0461-f714-4557-9111-dd81aedfdff2 button.colab-df-convert');\n",
              "        buttonEl.style.display =\n",
              "          google.colab.kernel.accessAllowed ? 'block' : 'none';\n",
              "\n",
              "        async function convertToInteractive(key) {\n",
              "          const element = document.querySelector('#df-32fd0461-f714-4557-9111-dd81aedfdff2');\n",
              "          const dataTable =\n",
              "            await google.colab.kernel.invokeFunction('convertToInteractive',\n",
              "                                                     [key], {});\n",
              "          if (!dataTable) return;\n",
              "\n",
              "          const docLinkHtml = 'Like what you see? Visit the ' +\n",
              "            '<a target=\"_blank\" href=https://colab.research.google.com/notebooks/data_table.ipynb>data table notebook</a>'\n",
              "            + ' to learn more about interactive tables.';\n",
              "          element.innerHTML = '';\n",
              "          dataTable['output_type'] = 'display_data';\n",
              "          await google.colab.output.renderOutput(dataTable, element);\n",
              "          const docLink = document.createElement('div');\n",
              "          docLink.innerHTML = docLinkHtml;\n",
              "          element.appendChild(docLink);\n",
              "        }\n",
              "      </script>\n",
              "    </div>\n",
              "  </div>\n",
              "  "
            ]
          },
          "metadata": {},
          "execution_count": 17
        }
      ]
    },
    {
      "cell_type": "code",
      "source": [
        "dataPrep.test_news.head(5)"
      ],
      "metadata": {
        "colab": {
          "base_uri": "https://localhost:8080/",
          "height": 206
        },
        "id": "4ZLwYDfpeAy8",
        "outputId": "293480c4-6559-466f-838e-33502e89e218"
      },
      "execution_count": null,
      "outputs": [
        {
          "output_type": "execute_result",
          "data": {
            "text/plain": [
              "                                           Statement  Label\n",
              "0  Says the Annies List political group supports ...  False\n",
              "1  When did the decline of coal start? It started...   True\n",
              "2  Hillary Clinton agrees with John McCain \"by vo...   True\n",
              "3  Health care reform legislation is likely to ma...  False\n",
              "4  The economic turnaround started at the end of ...   True"
            ],
            "text/html": [
              "\n",
              "  <div id=\"df-227606bc-f118-4a54-8b19-8c82b6b1eac4\">\n",
              "    <div class=\"colab-df-container\">\n",
              "      <div>\n",
              "<style scoped>\n",
              "    .dataframe tbody tr th:only-of-type {\n",
              "        vertical-align: middle;\n",
              "    }\n",
              "\n",
              "    .dataframe tbody tr th {\n",
              "        vertical-align: top;\n",
              "    }\n",
              "\n",
              "    .dataframe thead th {\n",
              "        text-align: right;\n",
              "    }\n",
              "</style>\n",
              "<table border=\"1\" class=\"dataframe\">\n",
              "  <thead>\n",
              "    <tr style=\"text-align: right;\">\n",
              "      <th></th>\n",
              "      <th>Statement</th>\n",
              "      <th>Label</th>\n",
              "    </tr>\n",
              "  </thead>\n",
              "  <tbody>\n",
              "    <tr>\n",
              "      <th>0</th>\n",
              "      <td>Says the Annies List political group supports ...</td>\n",
              "      <td>False</td>\n",
              "    </tr>\n",
              "    <tr>\n",
              "      <th>1</th>\n",
              "      <td>When did the decline of coal start? It started...</td>\n",
              "      <td>True</td>\n",
              "    </tr>\n",
              "    <tr>\n",
              "      <th>2</th>\n",
              "      <td>Hillary Clinton agrees with John McCain \"by vo...</td>\n",
              "      <td>True</td>\n",
              "    </tr>\n",
              "    <tr>\n",
              "      <th>3</th>\n",
              "      <td>Health care reform legislation is likely to ma...</td>\n",
              "      <td>False</td>\n",
              "    </tr>\n",
              "    <tr>\n",
              "      <th>4</th>\n",
              "      <td>The economic turnaround started at the end of ...</td>\n",
              "      <td>True</td>\n",
              "    </tr>\n",
              "  </tbody>\n",
              "</table>\n",
              "</div>\n",
              "      <button class=\"colab-df-convert\" onclick=\"convertToInteractive('df-227606bc-f118-4a54-8b19-8c82b6b1eac4')\"\n",
              "              title=\"Convert this dataframe to an interactive table.\"\n",
              "              style=\"display:none;\">\n",
              "        \n",
              "  <svg xmlns=\"http://www.w3.org/2000/svg\" height=\"24px\"viewBox=\"0 0 24 24\"\n",
              "       width=\"24px\">\n",
              "    <path d=\"M0 0h24v24H0V0z\" fill=\"none\"/>\n",
              "    <path d=\"M18.56 5.44l.94 2.06.94-2.06 2.06-.94-2.06-.94-.94-2.06-.94 2.06-2.06.94zm-11 1L8.5 8.5l.94-2.06 2.06-.94-2.06-.94L8.5 2.5l-.94 2.06-2.06.94zm10 10l.94 2.06.94-2.06 2.06-.94-2.06-.94-.94-2.06-.94 2.06-2.06.94z\"/><path d=\"M17.41 7.96l-1.37-1.37c-.4-.4-.92-.59-1.43-.59-.52 0-1.04.2-1.43.59L10.3 9.45l-7.72 7.72c-.78.78-.78 2.05 0 2.83L4 21.41c.39.39.9.59 1.41.59.51 0 1.02-.2 1.41-.59l7.78-7.78 2.81-2.81c.8-.78.8-2.07 0-2.86zM5.41 20L4 18.59l7.72-7.72 1.47 1.35L5.41 20z\"/>\n",
              "  </svg>\n",
              "      </button>\n",
              "      \n",
              "  <style>\n",
              "    .colab-df-container {\n",
              "      display:flex;\n",
              "      flex-wrap:wrap;\n",
              "      gap: 12px;\n",
              "    }\n",
              "\n",
              "    .colab-df-convert {\n",
              "      background-color: #E8F0FE;\n",
              "      border: none;\n",
              "      border-radius: 50%;\n",
              "      cursor: pointer;\n",
              "      display: none;\n",
              "      fill: #1967D2;\n",
              "      height: 32px;\n",
              "      padding: 0 0 0 0;\n",
              "      width: 32px;\n",
              "    }\n",
              "\n",
              "    .colab-df-convert:hover {\n",
              "      background-color: #E2EBFA;\n",
              "      box-shadow: 0px 1px 2px rgba(60, 64, 67, 0.3), 0px 1px 3px 1px rgba(60, 64, 67, 0.15);\n",
              "      fill: #174EA6;\n",
              "    }\n",
              "\n",
              "    [theme=dark] .colab-df-convert {\n",
              "      background-color: #3B4455;\n",
              "      fill: #D2E3FC;\n",
              "    }\n",
              "\n",
              "    [theme=dark] .colab-df-convert:hover {\n",
              "      background-color: #434B5C;\n",
              "      box-shadow: 0px 1px 3px 1px rgba(0, 0, 0, 0.15);\n",
              "      filter: drop-shadow(0px 1px 2px rgba(0, 0, 0, 0.3));\n",
              "      fill: #FFFFFF;\n",
              "    }\n",
              "  </style>\n",
              "\n",
              "      <script>\n",
              "        const buttonEl =\n",
              "          document.querySelector('#df-227606bc-f118-4a54-8b19-8c82b6b1eac4 button.colab-df-convert');\n",
              "        buttonEl.style.display =\n",
              "          google.colab.kernel.accessAllowed ? 'block' : 'none';\n",
              "\n",
              "        async function convertToInteractive(key) {\n",
              "          const element = document.querySelector('#df-227606bc-f118-4a54-8b19-8c82b6b1eac4');\n",
              "          const dataTable =\n",
              "            await google.colab.kernel.invokeFunction('convertToInteractive',\n",
              "                                                     [key], {});\n",
              "          if (!dataTable) return;\n",
              "\n",
              "          const docLinkHtml = 'Like what you see? Visit the ' +\n",
              "            '<a target=\"_blank\" href=https://colab.research.google.com/notebooks/data_table.ipynb>data table notebook</a>'\n",
              "            + ' to learn more about interactive tables.';\n",
              "          element.innerHTML = '';\n",
              "          dataTable['output_type'] = 'display_data';\n",
              "          await google.colab.output.renderOutput(dataTable, element);\n",
              "          const docLink = document.createElement('div');\n",
              "          docLink.innerHTML = docLinkHtml;\n",
              "          element.appendChild(docLink);\n",
              "        }\n",
              "      </script>\n",
              "    </div>\n",
              "  </div>\n",
              "  "
            ]
          },
          "metadata": {},
          "execution_count": 18
        }
      ]
    },
    {
      "cell_type": "code",
      "source": [
        "dataPrep.valid_news.head(5)"
      ],
      "metadata": {
        "colab": {
          "base_uri": "https://localhost:8080/",
          "height": 206
        },
        "id": "2TyJIPq7eDRn",
        "outputId": "271813ce-1932-4c7e-fdff-5e876e0055cd"
      },
      "execution_count": null,
      "outputs": [
        {
          "output_type": "execute_result",
          "data": {
            "text/plain": [
              "                                           Statement  Label\n",
              "0  We have less Americans working now than in the...  FALSE\n",
              "1  When Obama was sworn into office, he DID NOT u...  FALSE\n",
              "2  Says Having organizations parading as being so...  FALSE\n",
              "3     Says nearly half of Oregons children are poor.   TRUE\n",
              "4  On attacks by Republicans that various program...   TRUE"
            ],
            "text/html": [
              "\n",
              "  <div id=\"df-be361a3d-f642-49a7-b7bb-72e5420ce9c3\">\n",
              "    <div class=\"colab-df-container\">\n",
              "      <div>\n",
              "<style scoped>\n",
              "    .dataframe tbody tr th:only-of-type {\n",
              "        vertical-align: middle;\n",
              "    }\n",
              "\n",
              "    .dataframe tbody tr th {\n",
              "        vertical-align: top;\n",
              "    }\n",
              "\n",
              "    .dataframe thead th {\n",
              "        text-align: right;\n",
              "    }\n",
              "</style>\n",
              "<table border=\"1\" class=\"dataframe\">\n",
              "  <thead>\n",
              "    <tr style=\"text-align: right;\">\n",
              "      <th></th>\n",
              "      <th>Statement</th>\n",
              "      <th>Label</th>\n",
              "    </tr>\n",
              "  </thead>\n",
              "  <tbody>\n",
              "    <tr>\n",
              "      <th>0</th>\n",
              "      <td>We have less Americans working now than in the...</td>\n",
              "      <td>FALSE</td>\n",
              "    </tr>\n",
              "    <tr>\n",
              "      <th>1</th>\n",
              "      <td>When Obama was sworn into office, he DID NOT u...</td>\n",
              "      <td>FALSE</td>\n",
              "    </tr>\n",
              "    <tr>\n",
              "      <th>2</th>\n",
              "      <td>Says Having organizations parading as being so...</td>\n",
              "      <td>FALSE</td>\n",
              "    </tr>\n",
              "    <tr>\n",
              "      <th>3</th>\n",
              "      <td>Says nearly half of Oregons children are poor.</td>\n",
              "      <td>TRUE</td>\n",
              "    </tr>\n",
              "    <tr>\n",
              "      <th>4</th>\n",
              "      <td>On attacks by Republicans that various program...</td>\n",
              "      <td>TRUE</td>\n",
              "    </tr>\n",
              "  </tbody>\n",
              "</table>\n",
              "</div>\n",
              "      <button class=\"colab-df-convert\" onclick=\"convertToInteractive('df-be361a3d-f642-49a7-b7bb-72e5420ce9c3')\"\n",
              "              title=\"Convert this dataframe to an interactive table.\"\n",
              "              style=\"display:none;\">\n",
              "        \n",
              "  <svg xmlns=\"http://www.w3.org/2000/svg\" height=\"24px\"viewBox=\"0 0 24 24\"\n",
              "       width=\"24px\">\n",
              "    <path d=\"M0 0h24v24H0V0z\" fill=\"none\"/>\n",
              "    <path d=\"M18.56 5.44l.94 2.06.94-2.06 2.06-.94-2.06-.94-.94-2.06-.94 2.06-2.06.94zm-11 1L8.5 8.5l.94-2.06 2.06-.94-2.06-.94L8.5 2.5l-.94 2.06-2.06.94zm10 10l.94 2.06.94-2.06 2.06-.94-2.06-.94-.94-2.06-.94 2.06-2.06.94z\"/><path d=\"M17.41 7.96l-1.37-1.37c-.4-.4-.92-.59-1.43-.59-.52 0-1.04.2-1.43.59L10.3 9.45l-7.72 7.72c-.78.78-.78 2.05 0 2.83L4 21.41c.39.39.9.59 1.41.59.51 0 1.02-.2 1.41-.59l7.78-7.78 2.81-2.81c.8-.78.8-2.07 0-2.86zM5.41 20L4 18.59l7.72-7.72 1.47 1.35L5.41 20z\"/>\n",
              "  </svg>\n",
              "      </button>\n",
              "      \n",
              "  <style>\n",
              "    .colab-df-container {\n",
              "      display:flex;\n",
              "      flex-wrap:wrap;\n",
              "      gap: 12px;\n",
              "    }\n",
              "\n",
              "    .colab-df-convert {\n",
              "      background-color: #E8F0FE;\n",
              "      border: none;\n",
              "      border-radius: 50%;\n",
              "      cursor: pointer;\n",
              "      display: none;\n",
              "      fill: #1967D2;\n",
              "      height: 32px;\n",
              "      padding: 0 0 0 0;\n",
              "      width: 32px;\n",
              "    }\n",
              "\n",
              "    .colab-df-convert:hover {\n",
              "      background-color: #E2EBFA;\n",
              "      box-shadow: 0px 1px 2px rgba(60, 64, 67, 0.3), 0px 1px 3px 1px rgba(60, 64, 67, 0.15);\n",
              "      fill: #174EA6;\n",
              "    }\n",
              "\n",
              "    [theme=dark] .colab-df-convert {\n",
              "      background-color: #3B4455;\n",
              "      fill: #D2E3FC;\n",
              "    }\n",
              "\n",
              "    [theme=dark] .colab-df-convert:hover {\n",
              "      background-color: #434B5C;\n",
              "      box-shadow: 0px 1px 3px 1px rgba(0, 0, 0, 0.15);\n",
              "      filter: drop-shadow(0px 1px 2px rgba(0, 0, 0, 0.3));\n",
              "      fill: #FFFFFF;\n",
              "    }\n",
              "  </style>\n",
              "\n",
              "      <script>\n",
              "        const buttonEl =\n",
              "          document.querySelector('#df-be361a3d-f642-49a7-b7bb-72e5420ce9c3 button.colab-df-convert');\n",
              "        buttonEl.style.display =\n",
              "          google.colab.kernel.accessAllowed ? 'block' : 'none';\n",
              "\n",
              "        async function convertToInteractive(key) {\n",
              "          const element = document.querySelector('#df-be361a3d-f642-49a7-b7bb-72e5420ce9c3');\n",
              "          const dataTable =\n",
              "            await google.colab.kernel.invokeFunction('convertToInteractive',\n",
              "                                                     [key], {});\n",
              "          if (!dataTable) return;\n",
              "\n",
              "          const docLinkHtml = 'Like what you see? Visit the ' +\n",
              "            '<a target=\"_blank\" href=https://colab.research.google.com/notebooks/data_table.ipynb>data table notebook</a>'\n",
              "            + ' to learn more about interactive tables.';\n",
              "          element.innerHTML = '';\n",
              "          dataTable['output_type'] = 'display_data';\n",
              "          await google.colab.output.renderOutput(dataTable, element);\n",
              "          const docLink = document.createElement('div');\n",
              "          docLink.innerHTML = docLinkHtml;\n",
              "          element.appendChild(docLink);\n",
              "        }\n",
              "      </script>\n",
              "    </div>\n",
              "  </div>\n",
              "  "
            ]
          },
          "metadata": {},
          "execution_count": 19
        }
      ]
    },
    {
      "cell_type": "markdown",
      "source": [
        "By calling below we can see that training, test and valid data seems to be failry evenly distributed between the classes"
      ],
      "metadata": {
        "id": "LV3d-tsgd8UD"
      }
    },
    {
      "cell_type": "code",
      "source": [
        "dataPrep.create_distribution(dataPrep.train_news)"
      ],
      "metadata": {
        "colab": {
          "base_uri": "https://localhost:8080/",
          "height": 296
        },
        "id": "i6M7W3utd87q",
        "outputId": "dc164b6b-b704-49d5-bda5-e5d79c19bdc6"
      },
      "execution_count": null,
      "outputs": [
        {
          "output_type": "execute_result",
          "data": {
            "text/plain": [
              "<matplotlib.axes._subplots.AxesSubplot at 0x7fbc2d3096d0>"
            ]
          },
          "metadata": {},
          "execution_count": 20
        },
        {
          "output_type": "display_data",
          "data": {
            "text/plain": [
              "<Figure size 432x288 with 1 Axes>"
            ],
            "image/png": "[encoded data removed]"
          },
          "metadata": {
            "needs_background": "light"
          }
        }
      ]
    },
    {
      "cell_type": "code",
      "source": [
        "dataPrep.create_distribution(dataPrep.test_news)"
      ],
      "metadata": {
        "colab": {
          "base_uri": "https://localhost:8080/",
          "height": 299
        },
        "id": "EO7NEBGbhyKK",
        "outputId": "d7c69040-4f11-4a5a-fc09-09b2d2dfa8e0"
      },
      "execution_count": null,
      "outputs": [
        {
          "output_type": "execute_result",
          "data": {
            "text/plain": [
              "<matplotlib.axes._subplots.AxesSubplot at 0x7fbc36ff8a10>"
            ]
          },
          "metadata": {},
          "execution_count": 21
        },
        {
          "output_type": "display_data",
          "data": {
            "text/plain": [
              "<Figure size 432x288 with 1 Axes>"
            ],
            "image/png": "[encoded data removed]"
          },
          "metadata": {
            "needs_background": "light"
          }
        }
      ]
    },
    {
      "cell_type": "code",
      "source": [
        "dataPrep.create_distribution(dataPrep.valid_news)"
      ],
      "metadata": {
        "colab": {
          "base_uri": "https://localhost:8080/",
          "height": 300
        },
        "id": "hmVyMEflh1xR",
        "outputId": "4ff7033e-0897-418a-b999-17fa018dcdd0"
      },
      "execution_count": null,
      "outputs": [
        {
          "output_type": "execute_result",
          "data": {
            "text/plain": [
              "<matplotlib.axes._subplots.AxesSubplot at 0x7fbc0a890390>"
            ]
          },
          "metadata": {},
          "execution_count": 22
        },
        {
          "output_type": "display_data",
          "data": {
            "text/plain": [
              "<Figure size 432x288 with 1 Axes>"
            ],
            "image/png": "[encoded data removed]"
          },
          "metadata": {
            "needs_background": "light"
          }
        }
      ]
    },
    {
      "cell_type": "markdown",
      "metadata": {
        "id": "WrgtkvZLLnwP"
      },
      "source": [
        "check the data by calling below function"
      ]
    },
    {
      "cell_type": "code",
      "execution_count": null,
      "metadata": {
        "colab": {
          "base_uri": "https://localhost:8080/"
        },
        "id": "8pA3fj01FL1-",
        "outputId": "d44c6b52-eaaf-428b-828e-d7c897e36fd5"
      },
      "outputs": [
        {
          "output_type": "stream",
          "name": "stdout",
          "text": [
            "training dataset size:\n",
            "(2551, 2)\n",
            "                                           Statement  Label\n",
            "0  Building a wall on the U.S.-Mexico border will...   True\n",
            "1  Wisconsin is on pace to double the number of l...  False\n",
            "2  Says John McCain has done nothing to help the ...  False\n",
            "3  Suzanne Bonamici supports a plan that will cut...   True\n",
            "4  When asked by a reporter whether hes at the ce...  False\n",
            "5  Over the past five years the federal governmen...   True\n",
            "6  Says that Tennessee law requires that schools ...   True\n",
            "7  Says Vice President Joe Biden \"admits that the...  False\n",
            "8  Donald Trump is against marriage equality. He ...   True\n",
            "9  We know that more than half of Hillary Clinton...  False\n",
            "(10240, 2)\n",
            "                                           Statement  Label\n",
            "0  Says the Annies List political group supports ...  False\n",
            "1  When did the decline of coal start? It started...   True\n",
            "2  Hillary Clinton agrees with John McCain \"by vo...   True\n",
            "3  Health care reform legislation is likely to ma...  False\n",
            "4  The economic turnaround started at the end of ...   True\n",
            "5  The Chicago Bears have had more starting quart...   True\n",
            "6  Jim Dunnam has not lived in the district he re...  False\n",
            "7  I'm the only person on this stage who has work...   True\n",
            "8  However, it took $19.5 million in Oregon Lotte...   True\n",
            "9  Says GOP primary opponents Glenn Grothman and ...   True\n",
            "(2571, 2)\n",
            "                                           Statement  Label\n",
            "0  We have less Americans working now than in the...  FALSE\n",
            "1  When Obama was sworn into office, he DID NOT u...  FALSE\n",
            "2  Says Having organizations parading as being so...  FALSE\n",
            "3     Says nearly half of Oregons children are poor.   TRUE\n",
            "4  On attacks by Republicans that various program...   TRUE\n",
            "5  Says when armed civilians stop mass shootings ...  FALSE\n",
            "6  Says Tennessee is providing millions of dollar...   TRUE\n",
            "7  The health care reform plan would set limits s...  FALSE\n",
            "8  Says Donald Trump started his career back in 1...   TRUE\n",
            "9  Bill White has a long history of trying to lim...   TRUE\n"
          ]
        }
      ],
      "source": [
        "dataPrep.data_obs()"
      ]
    },
    {
      "cell_type": "markdown",
      "metadata": {
        "id": "lDL1nC_RLuMJ"
      },
      "source": [
        "Check the quality of data"
      ]
    },
    {
      "cell_type": "code",
      "execution_count": null,
      "metadata": {
        "colab": {
          "base_uri": "https://localhost:8080/"
        },
        "id": "PF213tbbLxl8",
        "outputId": "d71b6228-59aa-4442-91a7-0bb7cf896805"
      },
      "outputs": [
        {
          "output_type": "stream",
          "name": "stdout",
          "text": [
            "Checking data qualitites...\n",
            "<class 'pandas.core.frame.DataFrame'>\n",
            "RangeIndex: 2551 entries, 0 to 2550\n",
            "Data columns (total 2 columns):\n",
            " #   Column     Non-Null Count  Dtype \n",
            "---  ------     --------------  ----- \n",
            " 0   Statement  2551 non-null   object\n",
            " 1   Label      2551 non-null   bool  \n",
            "dtypes: bool(1), object(1)\n",
            "memory usage: 22.5+ KB\n",
            "check finished.\n",
            "<class 'pandas.core.frame.DataFrame'>\n",
            "RangeIndex: 10240 entries, 0 to 10239\n",
            "Data columns (total 2 columns):\n",
            " #   Column     Non-Null Count  Dtype \n",
            "---  ------     --------------  ----- \n",
            " 0   Statement  10240 non-null  object\n",
            " 1   Label      10240 non-null  bool  \n",
            "dtypes: bool(1), object(1)\n",
            "memory usage: 90.1+ KB\n",
            "<class 'pandas.core.frame.DataFrame'>\n",
            "RangeIndex: 2571 entries, 0 to 2570\n",
            "Data columns (total 2 columns):\n",
            " #   Column     Non-Null Count  Dtype \n",
            "---  ------     --------------  ----- \n",
            " 0   Statement  2571 non-null   object\n",
            " 1   Label      2569 non-null   object\n",
            "dtypes: object(2)\n",
            "memory usage: 40.3+ KB\n"
          ]
        }
      ],
      "source": [
        "dataPrep.data_qualityCheck()"
      ]
    },
    {
      "cell_type": "markdown",
      "source": [
        "Steaming and process data "
      ],
      "metadata": {
        "id": "qgnCBVAsiHIE"
      }
    },
    {
      "cell_type": "code",
      "source": [
        "dataPrep.process_data(dataPrep.train_news)"
      ],
      "metadata": {
        "colab": {
          "base_uri": "https://localhost:8080/"
        },
        "id": "7bKvIvJtiJjq",
        "outputId": "a51d71ec-c22c-4b7c-e004-caf8df2c2c5c"
      },
      "execution_count": null,
      "outputs": [
        {
          "output_type": "execute_result",
          "data": {
            "text/plain": [
              "['statement', 'label']"
            ]
          },
          "metadata": {},
          "execution_count": 25
        }
      ]
    },
    {
      "cell_type": "markdown",
      "source": [
        "**Step 7**\n",
        "\n",
        "Create object of FeatureSelection.py and pass filepath of glove_6B_50d."
      ],
      "metadata": {
        "id": "iGhgvyBFYcU5"
      }
    },
    {
      "cell_type": "code",
      "execution_count": null,
      "metadata": {
        "colab": {
          "base_uri": "https://localhost:8080/"
        },
        "id": "VnzmvSrqE_dv",
        "outputId": "df7fd3db-ec37-40b7-a161-ee1b5d877791"
      },
      "outputs": [
        {
          "output_type": "stream",
          "name": "stdout",
          "text": [
            "CountVectorizer()\n",
            "  (0, 1000)\t1\n",
            "  (0, 6132)\t1\n",
            "  (0, 4046)\t1\n",
            "  (0, 5729)\t1\n",
            "  (0, 3703)\t1\n",
            "  (0, 922)\t1\n",
            "  (0, 6231)\t1\n",
            "  (0, 5627)\t1\n",
            "  (0, 3463)\t1\n",
            "  (0, 6298)\t1\n",
            "  (1, 4046)\t1\n",
            "  (1, 5729)\t1\n",
            "  (1, 6244)\t1\n",
            "  (1, 3121)\t1\n",
            "  (1, 4158)\t1\n",
            "  (1, 5786)\t1\n",
            "  (1, 1919)\t1\n",
            "  (1, 3980)\t1\n",
            "  (1, 4011)\t1\n",
            "  (1, 3368)\t1\n",
            "  (1, 5754)\t1\n",
            "  (1, 6296)\t1\n",
            "  (2, 5729)\t1\n",
            "  (2, 5786)\t1\n",
            "  (2, 5082)\t1\n",
            "  :\t:\n",
            "  (2549, 3060)\t2\n",
            "  (2549, 3657)\t1\n",
            "  (2549, 5248)\t1\n",
            "  (2549, 844)\t1\n",
            "  (2549, 4501)\t1\n",
            "  (2549, 1237)\t1\n",
            "  (2549, 233)\t1\n",
            "  (2549, 3415)\t1\n",
            "  (2549, 3246)\t1\n",
            "  (2550, 5729)\t2\n",
            "  (2550, 3121)\t1\n",
            "  (2550, 2604)\t1\n",
            "  (2550, 2966)\t1\n",
            "  (2550, 4048)\t1\n",
            "  (2550, 1270)\t1\n",
            "  (2550, 1241)\t1\n",
            "  (2550, 1243)\t1\n",
            "  (2550, 3914)\t1\n",
            "  (2550, 3176)\t1\n",
            "  (2550, 3934)\t1\n",
            "  (2550, 4844)\t1\n",
            "  (2550, 1409)\t1\n",
            "  (2550, 5093)\t1\n",
            "  (2550, 969)\t1\n",
            "  (2550, 6078)\t1\n",
            "0       Building a wall on the U.S.-Mexico border will...\n",
            "1       Wisconsin is on pace to double the number of l...\n",
            "2       Says John McCain has done nothing to help the ...\n",
            "3       Suzanne Bonamici supports a plan that will cut...\n",
            "4       When asked by a reporter whether hes at the ce...\n",
            "                              ...                        \n",
            "2546    For the first time in more than a decade, impo...\n",
            "2547    Says Donald Trump has bankrupted his companies...\n",
            "2548    John McCain and George Bush have \"absolutely n...\n",
            "2549    A new poll shows 62 percent support the presid...\n",
            "2550    No one claims the report vindicating New Jerse...\n",
            "Name: Statement, Length: 2551, dtype: object\n"
          ]
        }
      ],
      "source": [
        "featureSelection = TfidfEmbeddingVectorizer(dataPrep.train_news, glove_6B_50d)"
      ]
    },
    {
      "cell_type": "markdown",
      "source": [
        "**Step 8**\n",
        "\n",
        "Create object of Classifier.py and pass CountVectorizer object, test & train dataset, tfidf_ngram and final model"
      ],
      "metadata": {
        "id": "ZCks9F8kY0Ew"
      }
    },
    {
      "cell_type": "code",
      "execution_count": null,
      "metadata": {
        "id": "8DVl6D3DbT3j"
      },
      "outputs": [],
      "source": [
        "classifier = Classifier(featureSelection.countV,dataPrep.test_news, dataPrep.train_news, featureSelection.tfidf_ngram, final_model)"
      ]
    },
    {
      "cell_type": "markdown",
      "source": [
        "The feature selection has been done in FeatureSelection.py module. here we will create models using those features for prediction\n",
        "\n",
        "First we will use bag of words techniques to build **Naive-bayes, Logistic Regression, Linear SVM, Stochastic gradient descent and Random forest classifiers**"
      ],
      "metadata": {
        "id": "Y7edclq4ZgRy"
      }
    },
    {
      "cell_type": "code",
      "execution_count": null,
      "metadata": {
        "id": "oHPIOPBton9d"
      },
      "outputs": [],
      "source": [
        "classifier.buildClassifier()"
      ]
    },
    {
      "cell_type": "markdown",
      "source": [
        "*K-fold cross validation for all classifiers*"
      ],
      "metadata": {
        "id": "EG7vEgIOZxZ1"
      }
    },
    {
      "cell_type": "code",
      "execution_count": null,
      "metadata": {
        "colab": {
          "base_uri": "https://localhost:8080/",
          "height": 450
        },
        "id": "DeVM7DCWpYIN",
        "outputId": "77a6f5a1-d24f-4ab8-bcae-d0a11701a3c7"
      },
      "outputs": [
        {
          "output_type": "stream",
          "name": "stdout",
          "text": [
            "Confusion matrix, without normalization\n",
            "Total statements classified: 2551\n",
            "Score: 0.6690329793168848\n",
            "score length 5\n",
            "Confusion matrix:\n",
            "[[ 548  621]\n",
            " [ 374 1008]]\n"
          ]
        },
        {
          "output_type": "execute_result",
          "data": {
            "text/plain": [
              "(None, None, None, None, None)"
            ]
          },
          "metadata": {},
          "execution_count": 29
        },
        {
          "output_type": "display_data",
          "data": {
            "text/plain": [
              "<Figure size 432x288 with 2 Axes>"
            ],
            "image/png": "[encoded data removed]"
          },
          "metadata": {
            "needs_background": "light"
          }
        }
      ],
      "source": [
        "classifier.build_confusion_matrix(classifier.nb_pipeline, \"LogisticRegression Classifier\")"
      ]
    },
    {
      "cell_type": "code",
      "source": [
        "classifier.build_confusion_matrix(classifier.logR_pipeline, \"Naive-bayes Classifier\")"
      ],
      "metadata": {
        "colab": {
          "base_uri": "https://localhost:8080/",
          "height": 450
        },
        "id": "Pedy45Xir1yb",
        "outputId": "4e0392d3-f3b8-4db2-801a-511af298d27b"
      },
      "execution_count": null,
      "outputs": [
        {
          "output_type": "stream",
          "name": "stdout",
          "text": [
            "Confusion matrix, without normalization\n",
            "Total statements classified: 2551\n",
            "Score: 0.63599737021554\n",
            "score length 5\n",
            "Confusion matrix:\n",
            "[[650 519]\n",
            " [495 887]]\n"
          ]
        },
        {
          "output_type": "execute_result",
          "data": {
            "text/plain": [
              "(None, None, None, None, None)"
            ]
          },
          "metadata": {},
          "execution_count": 30
        },
        {
          "output_type": "display_data",
          "data": {
            "text/plain": [
              "<Figure size 432x288 with 2 Axes>"
            ],
            "image/png": "[encoded data removed]"
          },
          "metadata": {
            "needs_background": "light"
          }
        }
      ]
    },
    {
      "cell_type": "code",
      "source": [
        "classifier.build_confusion_matrix(classifier.svm_pipeline, \"SVM Classifier\")"
      ],
      "metadata": {
        "colab": {
          "base_uri": "https://localhost:8080/",
          "height": 450
        },
        "id": "N3olJLnxr4z6",
        "outputId": "1c035c40-baca-4c1d-a3e5-8ebded7ac8f1"
      },
      "execution_count": null,
      "outputs": [
        {
          "output_type": "stream",
          "name": "stdout",
          "text": [
            "Confusion matrix, without normalization\n",
            "Total statements classified: 2551\n",
            "Score: 0.6031959656767338\n",
            "score length 5\n",
            "Confusion matrix:\n",
            "[[630 539]\n",
            " [551 831]]\n"
          ]
        },
        {
          "output_type": "execute_result",
          "data": {
            "text/plain": [
              "(None, None, None, None, None)"
            ]
          },
          "metadata": {},
          "execution_count": 31
        },
        {
          "output_type": "display_data",
          "data": {
            "text/plain": [
              "<Figure size 432x288 with 2 Axes>"
            ],
            "image/png": "[encoded data removed]"
          },
          "metadata": {
            "needs_background": "light"
          }
        }
      ]
    },
    {
      "cell_type": "code",
      "source": [
        "classifier.build_confusion_matrix(classifier.sgd_pipeline, \"SGD Classifier\")"
      ],
      "metadata": {
        "colab": {
          "base_uri": "https://localhost:8080/",
          "height": 450
        },
        "id": "OfkwGgX-r7Vl",
        "outputId": "8fb7c5d5-42c4-4225-b2a6-0d2d97e165a4"
      },
      "execution_count": null,
      "outputs": [
        {
          "output_type": "stream",
          "name": "stdout",
          "text": [
            "Confusion matrix, without normalization\n",
            "Total statements classified: 2551\n",
            "Score: 0.6058355649820134\n",
            "score length 5\n",
            "Confusion matrix:\n",
            "[[677 492]\n",
            " [566 816]]\n"
          ]
        },
        {
          "output_type": "execute_result",
          "data": {
            "text/plain": [
              "(None, None, None, None, None)"
            ]
          },
          "metadata": {},
          "execution_count": 32
        },
        {
          "output_type": "display_data",
          "data": {
            "text/plain": [
              "<Figure size 432x288 with 2 Axes>"
            ],
            "image/png": "[encoded data removed]"
          },
          "metadata": {
            "needs_background": "light"
          }
        }
      ]
    },
    {
      "cell_type": "code",
      "source": [
        "classifier.build_confusion_matrix(classifier.random_forest, \"RandomForest Classifier\")"
      ],
      "metadata": {
        "colab": {
          "base_uri": "https://localhost:8080/",
          "height": 450
        },
        "id": "m9Fl9aFbr-cL",
        "outputId": "0f6dba78-fa41-4fc8-b4b8-295f1608aa11"
      },
      "execution_count": null,
      "outputs": [
        {
          "output_type": "stream",
          "name": "stdout",
          "text": [
            "Confusion matrix, without normalization\n",
            "Total statements classified: 2551\n",
            "Score: 0.6649817771194004\n",
            "score length 5\n",
            "Confusion matrix:\n",
            "[[552 617]\n",
            " [386 996]]\n"
          ]
        },
        {
          "output_type": "execute_result",
          "data": {
            "text/plain": [
              "(None, None, None, None, None)"
            ]
          },
          "metadata": {},
          "execution_count": 33
        },
        {
          "output_type": "display_data",
          "data": {
            "text/plain": [
              "<Figure size 432x288 with 2 Axes>"
            ],
            "image/png": "[encoded data removed]"
          },
          "metadata": {
            "needs_background": "light"
          }
        }
      ]
    },
    {
      "cell_type": "markdown",
      "source": [
        "*Build classifier using n-grams*"
      ],
      "metadata": {
        "id": "fXA3hlYyZ8AI"
      }
    },
    {
      "cell_type": "code",
      "execution_count": null,
      "metadata": {
        "id": "CvbJkhFmowW3"
      },
      "outputs": [],
      "source": [
        "classifier.buildClassifierUsingNgrams()"
      ]
    },
    {
      "cell_type": "markdown",
      "source": [
        "K-fold cross validation for all classifiers"
      ],
      "metadata": {
        "id": "JLr6OBq8sFd0"
      }
    },
    {
      "cell_type": "code",
      "execution_count": null,
      "metadata": {
        "colab": {
          "base_uri": "https://localhost:8080/",
          "height": 450
        },
        "id": "a8CczFFsqBTL",
        "outputId": "4af12e23-bb99-4980-9e38-f9334096a199"
      },
      "outputs": [
        {
          "output_type": "stream",
          "name": "stdout",
          "text": [
            "Confusion matrix, without normalization\n",
            "Total statements classified: 2551\n",
            "Score: 0.7004442961156355\n",
            "score length 5\n",
            "Confusion matrix:\n",
            "[[ 331  838]\n",
            " [ 185 1197]]\n"
          ]
        },
        {
          "output_type": "execute_result",
          "data": {
            "text/plain": [
              "(None, None, None, None, None)"
            ]
          },
          "metadata": {},
          "execution_count": 35
        },
        {
          "output_type": "display_data",
          "data": {
            "text/plain": [
              "<Figure size 432x288 with 2 Axes>"
            ],
            "image/png": "[encoded data removed]"
          },
          "metadata": {
            "needs_background": "light"
          }
        }
      ],
      "source": [
        "classifier.build_confusion_matrix(classifier.nb_pipeline_ngram, \"LogisticRegression Classifier\")"
      ]
    },
    {
      "cell_type": "code",
      "source": [
        "classifier.build_confusion_matrix(classifier.logR_pipeline_ngram, \"Naive-bayes Classifier\")"
      ],
      "metadata": {
        "colab": {
          "base_uri": "https://localhost:8080/",
          "height": 450
        },
        "id": "fVRFMzg2sLbh",
        "outputId": "63e14157-9090-4fb6-dfbe-a7abd5c6c020"
      },
      "execution_count": null,
      "outputs": [
        {
          "output_type": "stream",
          "name": "stdout",
          "text": [
            "Confusion matrix, without normalization\n",
            "Total statements classified: 2551\n",
            "Score: 0.6938867351269742\n",
            "score length 5\n",
            "Confusion matrix:\n",
            "[[ 409  760]\n",
            " [ 243 1139]]\n"
          ]
        },
        {
          "output_type": "execute_result",
          "data": {
            "text/plain": [
              "(None, None, None, None, None)"
            ]
          },
          "metadata": {},
          "execution_count": 36
        },
        {
          "output_type": "display_data",
          "data": {
            "text/plain": [
              "<Figure size 432x288 with 2 Axes>"
            ],
            "image/png": "[encoded data removed]"
          },
          "metadata": {
            "needs_background": "light"
          }
        }
      ]
    },
    {
      "cell_type": "code",
      "source": [
        "classifier.build_confusion_matrix(classifier.svm_pipeline_ngram, \"SVM Classifier\")"
      ],
      "metadata": {
        "colab": {
          "base_uri": "https://localhost:8080/",
          "height": 450
        },
        "id": "o43o-4ZPsN_0",
        "outputId": "10eaa7f3-06cb-4bac-900f-0dd236c13efd"
      },
      "execution_count": null,
      "outputs": [
        {
          "output_type": "stream",
          "name": "stdout",
          "text": [
            "Confusion matrix, without normalization\n",
            "Total statements classified: 2551\n",
            "Score: 0.6632826577822492\n",
            "score length 5\n",
            "Confusion matrix:\n",
            "[[584 585]\n",
            " [404 978]]\n"
          ]
        },
        {
          "output_type": "execute_result",
          "data": {
            "text/plain": [
              "(None, None, None, None, None)"
            ]
          },
          "metadata": {},
          "execution_count": 37
        },
        {
          "output_type": "display_data",
          "data": {
            "text/plain": [
              "<Figure size 432x288 with 2 Axes>"
            ],
            "image/png": "[encoded data removed]"
          },
          "metadata": {
            "needs_background": "light"
          }
        }
      ]
    },
    {
      "cell_type": "code",
      "source": [
        "classifier.build_confusion_matrix(classifier.sgd_pipeline_ngram, \"SGD Classifier\")"
      ],
      "metadata": {
        "colab": {
          "base_uri": "https://localhost:8080/",
          "height": 450
        },
        "id": "mUjUSnuVsQ4d",
        "outputId": "b6af7f5c-1ed4-42ee-b562-508644c59f87"
      },
      "execution_count": null,
      "outputs": [
        {
          "output_type": "stream",
          "name": "stdout",
          "text": [
            "Confusion matrix, without normalization\n",
            "Total statements classified: 2551\n",
            "Score: 0.6981532423953531\n",
            "score length 5\n",
            "Confusion matrix:\n",
            "[[ 131 1038]\n",
            " [  83 1299]]\n"
          ]
        },
        {
          "output_type": "execute_result",
          "data": {
            "text/plain": [
              "(None, None, None, None, None)"
            ]
          },
          "metadata": {},
          "execution_count": 38
        },
        {
          "output_type": "display_data",
          "data": {
            "text/plain": [
              "<Figure size 432x288 with 2 Axes>"
            ],
            "image/png": "[encoded data removed]"
          },
          "metadata": {
            "needs_background": "light"
          }
        }
      ]
    },
    {
      "cell_type": "code",
      "source": [
        "classifier.build_confusion_matrix(classifier.random_forest_ngram, \"RandomForest Classifier\")"
      ],
      "metadata": {
        "colab": {
          "base_uri": "https://localhost:8080/",
          "height": 450
        },
        "id": "Qs7eNmApsUld",
        "outputId": "c22b0db9-85b0-45cd-d2b9-41cd9b90065a"
      },
      "execution_count": null,
      "outputs": [
        {
          "output_type": "stream",
          "name": "stdout",
          "text": [
            "Confusion matrix, without normalization\n",
            "Total statements classified: 2551\n",
            "Score: 0.648063635953776\n",
            "score length 5\n",
            "Confusion matrix:\n",
            "[[472 697]\n",
            " [384 998]]\n"
          ]
        },
        {
          "output_type": "execute_result",
          "data": {
            "text/plain": [
              "(None, None, None, None, None)"
            ]
          },
          "metadata": {},
          "execution_count": 39
        },
        {
          "output_type": "display_data",
          "data": {
            "text/plain": [
              "<Figure size 432x288 with 2 Axes>"
            ],
            "image/png": "[encoded data removed]"
          },
          "metadata": {
            "needs_background": "light"
          }
        }
      ]
    },
    {
      "cell_type": "markdown",
      "metadata": {
        "id": "0dAMkxjsUoh6"
      },
      "source": [
        "So far we have used bag of words technique to extract the features and passed those featuers into classifiers. We have also seen the f1 scores of these classifiers. now lets enhance these features using term frequency weights with various n-grams"
      ]
    },
    {
      "cell_type": "code",
      "execution_count": null,
      "metadata": {
        "colab": {
          "base_uri": "https://localhost:8080/"
        },
        "id": "QLukGjimsTY-",
        "outputId": "2d805cc3-b7f0-40bf-8fd0-bcc4670c64e7"
      },
      "outputs": [
        {
          "output_type": "stream",
          "name": "stdout",
          "text": [
            "              precision    recall  f1-score   support\n",
            "\n",
            "       False       0.59      0.25      0.35      4488\n",
            "        True       0.60      0.86      0.70      5752\n",
            "\n",
            "    accuracy                           0.59     10240\n",
            "   macro avg       0.59      0.56      0.53     10240\n",
            "weighted avg       0.59      0.59      0.55     10240\n",
            "\n",
            "              precision    recall  f1-score   support\n",
            "\n",
            "       False       0.59      0.34      0.43      4488\n",
            "        True       0.61      0.81      0.70      5752\n",
            "\n",
            "    accuracy                           0.61     10240\n",
            "   macro avg       0.60      0.58      0.56     10240\n",
            "weighted avg       0.60      0.61      0.58     10240\n",
            "\n",
            "              precision    recall  f1-score   support\n",
            "\n",
            "       False       0.55      0.45      0.49      4488\n",
            "        True       0.62      0.71      0.66      5752\n",
            "\n",
            "    accuracy                           0.60     10240\n",
            "   macro avg       0.58      0.58      0.58     10240\n",
            "weighted avg       0.59      0.60      0.59     10240\n",
            "\n",
            "              precision    recall  f1-score   support\n",
            "\n",
            "       False       0.62      0.09      0.16      4488\n",
            "        True       0.57      0.96      0.72      5752\n",
            "\n",
            "    accuracy                           0.58     10240\n",
            "   macro avg       0.60      0.52      0.44     10240\n",
            "weighted avg       0.59      0.58      0.47     10240\n",
            "\n",
            "              precision    recall  f1-score   support\n",
            "\n",
            "       False       0.52      0.46      0.49      4488\n",
            "        True       0.61      0.68      0.64      5752\n",
            "\n",
            "    accuracy                           0.58     10240\n",
            "   macro avg       0.57      0.57      0.57     10240\n",
            "weighted avg       0.57      0.58      0.57     10240\n",
            "\n"
          ]
        }
      ],
      "source": [
        "print(classification_report(dataPrep.test_news['Label'], classifier.predicted_nb_ngram))\n",
        "print(classification_report(dataPrep.test_news['Label'], classifier.predicted_LogR_ngram))\n",
        "print(classification_report(dataPrep.test_news['Label'], classifier.predicted_svm_ngram))\n",
        "print(classification_report(dataPrep.test_news['Label'], classifier.predicted_sgd_ngram))\n",
        "print(classification_report(dataPrep.test_news['Label'], classifier.predicted_rf_ngram))"
      ]
    },
    {
      "cell_type": "code",
      "execution_count": null,
      "metadata": {
        "id": "aJcooFxTo2kr"
      },
      "outputs": [],
      "source": [
        "classifier.calculateClassifierParam()"
      ]
    },
    {
      "cell_type": "code",
      "execution_count": null,
      "metadata": {
        "id": "xrMaFW59o7Bl",
        "colab": {
          "base_uri": "https://localhost:8080/"
        },
        "outputId": "77ddd89b-f5b2-4c61-cb79-a8aa4ceee73d"
      },
      "outputs": [
        {
          "output_type": "stream",
          "name": "stdout",
          "text": [
            "              precision    recall  f1-score   support\n",
            "\n",
            "       False       0.64      0.04      0.08      4488\n",
            "        True       0.57      0.98      0.72      5752\n",
            "\n",
            "    accuracy                           0.57     10240\n",
            "   macro avg       0.61      0.51      0.40     10240\n",
            "weighted avg       0.60      0.57      0.44     10240\n",
            "\n",
            "              precision    recall  f1-score   support\n",
            "\n",
            "       False       0.59      0.31      0.41      4488\n",
            "        True       0.61      0.83      0.70      5752\n",
            "\n",
            "    accuracy                           0.60     10240\n",
            "   macro avg       0.60      0.57      0.56     10240\n",
            "weighted avg       0.60      0.60      0.57     10240\n",
            "\n"
          ]
        }
      ],
      "source": [
        "classifier.findBestPerformingModel()"
      ]
    },
    {
      "cell_type": "code",
      "execution_count": null,
      "metadata": {
        "id": "JZmhyHFAxph2",
        "colab": {
          "base_uri": "https://localhost:8080/",
          "height": 295
        },
        "outputId": "4555e1a0-f1c5-4a23-a710-2e7c824ff012"
      },
      "outputs": [
        {
          "output_type": "display_data",
          "data": {
            "text/plain": [
              "<Figure size 432x288 with 1 Axes>"
            ],
            "image/png": "[encoded data removed]"
          },
          "metadata": {
            "needs_background": "light"
          }
        }
      ],
      "source": [
        "classifier.plot_PR_curve(classifier.predicted_LogR_ngram)"
      ]
    },
    {
      "cell_type": "code",
      "execution_count": null,
      "metadata": {
        "id": "bff6ABVfJFVN",
        "colab": {
          "base_uri": "https://localhost:8080/",
          "height": 295
        },
        "outputId": "68c4df76-f966-4244-d7b6-9683f9c7d195"
      },
      "outputs": [
        {
          "output_type": "display_data",
          "data": {
            "text/plain": [
              "<Figure size 432x288 with 1 Axes>"
            ],
            "image/png": "[encoded data removed]"
          },
          "metadata": {
            "needs_background": "light"
          }
        }
      ],
      "source": [
        "classifier.plot_PR_curve(classifier.predicted_rf_ngram)"
      ]
    },
    {
      "cell_type": "code",
      "execution_count": null,
      "metadata": {
        "id": "3PNa6k8mUrzd",
        "colab": {
          "base_uri": "https://localhost:8080/"
        },
        "outputId": "e53c8a3b-ddc1-4124-c0d2-9cb2d49ddcdb"
      },
      "outputs": [
        {
          "output_type": "stream",
          "name": "stdout",
          "text": [
            "['1.1399            000    -0.9599lake north 45th', '1.1214madeleine albrights position    -0.8026millercoors area lacks good', '0.8819         barton    -0.8025kidnapping plus', '0.8411nelson economic record    -0.7648board specific matter hand', '0.8148probably plenty choices    -0.7472   paul krugman', '0.8144chris coons thought    -0.7003      prototype', '0.7477registered voters    -0.6401     says years', '0.7201republican nominee    -0.6188far dont think goes', '0.7177300 000 run seat    -0.5854       says jeb', '0.7043jerseyans tax increases    -0.5645floridas investments alex sink', '0.6894required provide key information    -0.5283eliminate medicare know', '0.6447president obama literally    -0.5182iran insane nuke', '0.6155industry father stake    -0.5156million abortions roe wade', '0.6116 created exists    -0.5078peoples protected health', '0.5978      extension    -0.5021bombing suspect tamerlan tsarnaev', '0.5896executive chris abele    -0.5021      fast food', '0.5653ed politico magazine 9577    -0.4944frankly bush years', '0.5645lost charge floridas investments    -0.4915noted reagan moderate reasonable', '0.5101department veterans affairs    -0.4885says years wisconsin seen', '0.5070 public schools    -0.4844     75 percent', '0.5012administrations regulatory    -0.4822million abortions roe', '0.4834             ga    -0.4798halliburton gave dick cheney', '0.4793secret bonuses corporate friends    -0.4727foundation charity president', '0.4792court justice david    -0.4701mccain arent heroes', '0.4763  senator kaine    -0.4657power plan cause energy', '0.4744       20 years    -0.4588pet projects went', '0.4720penalty tax employers    -0.4562city enterprises constitutes significantly', '0.4678domestic energy resource trillion    -0.4496ray lahood force', '0.4572          liens    -0.4492consistently outperform', '0.4502  opponent beto    -0.4491peoples protected health care', '0.4397  michigan list    -0.4398     energy epa', '0.4288advisory commissions    -0.4341companys shares implication', '0.4204deviants support sale crush    -0.4281    power plant', '0.4153olds college degrees    -0.4266president flagrantly defies', '0.4109increase military spending    -0.4142    owners sell', '0.405025 percent fraud    -0.4136  reduced toxic', '0.3994senator toomey stood wall    -0.4077     far bigger', '0.3982place independent payment    -0.4072         pepper', '0.3978clinton secretary state    -0.4041identical massachusetts health', '0.3964percent american physicians    -0.4019 ranging entire', '0.3933      bid build    -0.3944   cents dollar', '0.391135 billion state    -0.3940growth prospects campaigning president', '0.3904got precisely zero support    -0.3902 including john', '0.3889  court justice    -0.3894decide cutting milwaukee', '0.3882gov chris christies    -0.3865jobs require college credential', '0.3850collectively states spending    -0.3857left senate trajectory', '0.3841         funded    -0.3795 drafted secret', '0.3829 000 miles long    -0.3783  reagans staff', '0.3804           bike    -0.3778fell 47th job creation', '0.3799           russ    -0.3751boosting graduation rates']\n",
            "['-8.3401           says    -11.2113        000 000', '-8.4743        percent    -11.2113   000 000 jobs', '-8.7274          state    -11.2113000 000 jobs month', '-8.7677            000    -11.2113000 abortions year', '-8.9804          years    -11.2113000 american soldiers', '-9.0440           year    -11.2113000 american soldiers lost', '-9.0640        million    -11.2113  000 americans', '-9.0986           jobs    -11.2113000 americans lost', '-9.1011         people    -11.2113000 americans lost lives', '-9.1113            tax    -11.2113000 americans watch', '-9.1411         states    -11.2113000 americans watch list', '-9.1618         budget    -11.2113        000 bar', '-9.1692          obama    -11.2113    000 bar tab', '-9.1812            new    -11.2113000 bar tab alcohol', '-9.1876        federal    -11.2113000 campaign contributions people', '-9.1893          texas    -11.2113       000 cash', '-9.2402         health    -11.2113000 cash speakers', '-9.3248        billion    -11.2113000 cash speakers position', '-9.3737           time    -11.2113000 children victims', '-9.3771        country    -11.2113000 children victims human', '-9.3928      americans    -11.2113      000 cubic', '-9.3934           rate    -11.2113 000 cubic feet', '-9.3977       spending    -11.2113000 cubic feet second', '-9.4511           care    -11.2113       000 days', '-9.4522      president    -11.2113     000 degree', '-9.5311       american    -11.2113  000 education', '-9.5377           half    -11.2113000 education professionals', '-9.5440         barack    -11.2113000 education professionals immediately', '-9.5485     republican    -11.2113  000 executive', '-9.5591    health care    -11.2113000 executive orders', '-9.5796          voted    -11.2113000 executive orders modern', '-9.5938     government    -11.2113     000 family', '-9.5975           debt    -11.2113000 family year', '-9.6027           said    -11.2113    000 federal', '-9.6374        georgia    -11.2113000 federal employees', '-9.6410          taxes    -11.2113000 federal employees oregon', '-9.6591            job    -11.2113     000 health', '-9.6677             50    -11.2113000 health plans', '-9.6682         nation    -11.2113000 health plans canceled', '-9.6726          world    -11.2113      000 homes', '-9.6786         united    -11.2113000 homes flood', '-9.6893         senate    -11.2113000 homes flood insurance', '-9.6940  united states    -11.2113        000 job', '-9.7009        average    -11.2113000 job approved', '-9.7058         public    -11.2113000 job approved gov', '-9.7098            pay    -11.2113000 jobs apparent', '-9.7140             10    -11.2113000 jobs apparent end', '-9.7164         donald    -11.2113000 jobs created keystone', '-9.7189          money    -11.2113000 jobs houston', '-9.7263   barack obama    -11.2113000 jobs houston took']\n",
            "['1.1754            000    -1.1956lake north 45th', '0.9748madeleine albrights position    -0.9535      prototype', '0.9577chris coons thought    -0.8666     says years', '0.9464republican nominee    -0.8312       says jeb', '0.9445 created exists    -0.8151     75 percent', '0.9304nelson economic record    -0.7605kidnapping plus', '0.8837required provide key information    -0.7546eliminate medicare know', '0.8721         barton    -0.7431noted reagan moderate reasonable', '0.8501jerseyans tax increases    -0.7294millercoors area lacks good', '0.8481industry father stake    -0.7063companys shares implication', '0.8264probably plenty choices    -0.7001   paul krugman', '0.8169      extension    -0.6780board specific matter hand', '0.8116300 000 run seat    -0.6743current loophole', '0.7956registered voters    -0.6579floridas investments alex sink', '0.7826 public schools    -0.6316consistently outperform', '0.7773executive chris abele    -0.6304  reduced toxic', '0.7176president obama literally    -0.6260schools benefit', '0.7091department veterans affairs    -0.6223says years wisconsin seen', '0.7010       20 years    -0.6209decide cutting milwaukee', '0.6654increase military spending    -0.6194frankly bush years', '0.6629administrations regulatory    -0.6181iran insane nuke', '0.6559ed politico magazine 9577    -0.5993ray lahood force', '0.6472domestic energy resource trillion    -0.5969   cents dollar', '0.6333lost charge floridas investments    -0.5925effort hold accountable', '0.6265             ga    -0.5922foundation charity president', '0.6209      bid build    -0.5908left senate trajectory', '0.6118          liens    -0.5845president flagrantly defies', '0.6062  opponent beto    -0.5810200 million medicaid', '0.5984           bike    -0.5779going people showing videos', '0.5957penalty tax employers    -0.5754    owners sell', '0.5939clinton secretary state    -0.5746created 22 million', '0.5825 000 miles long    -0.5707          raise', '0.5824place independent payment    -0.5684    leased land', '0.5785   1000 student    -0.5680anti discrimination', '0.556535 billion state    -0.5679bombing suspect tamerlan tsarnaev', '0.5549secret bonuses corporate friends    -0.5679      fast food', '0.5455  nearly double    -0.5545  led fight let', '0.5369moving headquarters atlanta create    -0.5438 drafted secret', '0.5361   ohioans lost    -0.5421live united states', '0.5318court justice david    -0.5380growth prospects campaigning president', '0.5316edwards says congress won    -0.5366  reagans staff', '0.5293counties directly affected impacted    -0.5348product zero heard', '0.5271  michigan list    -0.5346  reprehensible', '0.5261hoax invented chinese    -0.5344governor wisconsins', '0.5207percent american physicians    -0.5340jobs require college credential', '0.5173advisory commissions    -0.5339associated providing health', '0.5138   increased 53    -0.5332 said able fool', '0.5131collectively states spending    -0.5264city enterprises constitutes significantly', '0.5115deviants support sale crush    -0.5186help control costs', '0.50881993 health care public    -0.5180 including john']\n",
            "['0.9814            000    -1.1116lake north 45th', '0.9813madeleine albrights position    -1.0886board specific matter hand', '0.7368republican nominee    -1.0288millercoors area lacks good', '0.7248chris coons thought    -0.9285far dont think goes', '0.7231         barton    -0.9247kidnapping plus', '0.7136probably plenty choices    -0.8335   paul krugman', '0.6940nelson economic record    -0.8158      prototype', '0.6808registered voters    -0.7472     says years', '0.6721 created exists    -0.7216peoples protected health', '0.6545industry father stake    -0.7195bombing suspect tamerlan tsarnaev', '0.6526      extension    -0.7195      fast food', '0.6347required provide key information    -0.7105floridas investments alex sink', '0.5971jerseyans tax increases    -0.7083million abortions roe wade', '0.5890300 000 run seat    -0.7000million abortions roe', '0.5687lost charge floridas investments    -0.6686       says jeb', '0.5469president obama literally    -0.6425     far bigger', '0.5416administrations regulatory    -0.6342peoples protected health care', '0.5257 public schools    -0.6088frankly bush years', '0.5226executive chris abele    -0.6056power plan cause energy', '0.5086department veterans affairs    -0.6049halliburton gave dick cheney', '0.4793ed politico magazine 9577    -0.6013says years wisconsin seen', '0.4772  opponent beto    -0.5888mccain arent heroes', '0.4730       20 years    -0.5855pet projects went', '0.4711penalty tax employers    -0.5804foundation charity president', '0.4681place independent payment    -0.5734city enterprises constitutes significantly', '0.4648advisory commissions    -0.5722eliminate medicare know', '0.4574  senator kaine    -0.5648    power plant', '0.4571increase military spending    -0.5646noted reagan moderate reasonable', '0.4536court justice david    -0.5517         pepper', '0.4479secret bonuses corporate friends    -0.5258boosting graduation rates', '0.4447           bike    -0.5258fastest growing state international', '0.4413          liens    -0.5256     75 percent', '0.4330      bid build    -0.5242president flagrantly defies', '0.4279obamacare kill jobs    -0.5070 ranging entire', '0.4239domestic energy resource trillion    -0.5060consistently outperform', '0.4145information dont contact    -0.4964iran insane nuke', '0.4144health care longer tolstoy    -0.4945identical massachusetts health', '0.4125             ga    -0.4816companys shares implication', '0.4093   1000 student    -0.4697  reduced toxic', '0.4076clinton secretary state    -0.4687fell 47th job creation', '0.4019 000 miles long    -0.4659    owners sell', '0.3955ice maker report feds    -0.4630     energy epa', '0.3932olds college degrees    -0.4604  reagans staff', '0.3886counties directly affected impacted    -0.4601jobs require college credential', '0.3831percent american physicians    -0.4555   cents dollar', '0.382725 percent fraud    -0.4550 including john', '0.3821collectively states spending    -0.4546ray lahood force', '0.3762         funded    -0.4491ranging entire political', '0.3726   increased 53    -0.4432left senate trajectory', '0.3685  nearly double    -0.4339decide cutting milwaukee']\n"
          ]
        }
      ],
      "source": [
        "classifier.show_most_informative_features(classifier.logR_pipeline_ngram,vect='LogR_tfidf',clf='LogR_clf')\n",
        "classifier.show_most_informative_features(classifier.nb_pipeline_ngram,vect='nb_tfidf',clf='nb_clf')\n",
        "classifier.show_most_informative_features(classifier.svm_pipeline_ngram,vect='svm_tfidf',clf='svm_clf')\n",
        "classifier.show_most_informative_features(classifier.sgd_pipeline_ngram,vect='sgd_tfidf',clf='sgd_clf')"
      ]
    },
    {
      "cell_type": "code",
      "source": [
        "!cd /content/Fake-News-Detection"
      ],
      "metadata": {
        "id": "ImY4snc-j2_S"
      },
      "execution_count": null,
      "outputs": []
    },
    {
      "cell_type": "code",
      "source": [
        "!ls"
      ],
      "metadata": {
        "colab": {
          "base_uri": "https://localhost:8080/"
        },
        "id": "GkYwpIEPkAS2",
        "outputId": "82da2f19-93e0-403c-f943-7ad57f16ae93"
      },
      "execution_count": null,
      "outputs": [
        {
          "output_type": "stream",
          "name": "stdout",
          "text": [
            "final_model.sav    glove.6B.200d.txt  glove.6B.50d.txt\ttest.csv   valid.csv\n",
            "glove.6B.100d.txt  glove.6B.300d.txt  glove.6B.zip\ttrain.csv\n"
          ]
        }
      ]
    },
    {
      "cell_type": "markdown",
      "source": [
        "**Step 9:**\n",
        "\n",
        "Test the result.\n",
        "Use below news for quick testing.\n",
        "\n",
        "1. obama is running for president in 2016\n",
        "2. Says nearly half of Oregons children are poor.\n",
        "3. Says Having organizations parading as being social welfare organizations and then being involved in the political combat harkens back to why the statute a hundred years ago said that they were prohibited."
      ],
      "metadata": {
        "id": "w9SUwiKTQLhh"
      }
    },
    {
      "cell_type": "code",
      "source": [
        "prediction = Prediction(final_model)"
      ],
      "metadata": {
        "id": "XN0aVS_kfC-4"
      },
      "execution_count": null,
      "outputs": []
    },
    {
      "cell_type": "code",
      "source": [
        "prediction.detecting_fake_news()"
      ],
      "metadata": {
        "colab": {
          "base_uri": "https://localhost:8080/"
        },
        "id": "8HNGyBtpjtLi",
        "outputId": "d87a750a-c4cd-43b6-d85a-f7b7b41c18fb"
      },
      "execution_count": null,
      "outputs": [
        {
          "output_type": "stream",
          "name": "stdout",
          "text": [
            "Please enter the news text you want to verify: obama is running for president in 2016\n",
            "You entered: obama is running for president in 2016\n",
            "Prediction of the News :  Looking Fake News\n",
            "The truth probability score is  0.44726729386544384\n"
          ]
        }
      ]
    }
  ],
  "metadata": {
    "colab": {
      "collapsed_sections": [],
      "name": "TestFakeNewsDetection.ipynb",
      "provenance": [],
      "authorship_tag": "ABX9TyM4Wdpn++m43LVltvYv/ZPw",
      "include_colab_link": true
    },
    "kernelspec": {
      "display_name": "Python 3",
      "name": "python3"
    },
    "language_info": {
      "name": "python"
    }
  },
  "nbformat": 4,
  "nbformat_minor": 0
}